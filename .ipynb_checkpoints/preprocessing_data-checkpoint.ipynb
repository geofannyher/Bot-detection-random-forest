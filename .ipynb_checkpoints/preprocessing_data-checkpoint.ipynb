{
 "cells": [
  {
   "cell_type": "code",
   "execution_count": 1,
   "id": "dd3c8bea-68f0-4a86-a3ee-71c05d6b9135",
   "metadata": {
    "tags": []
   },
   "outputs": [],
   "source": [
    "import pandas as pd\n",
    "import numpy as np\n",
    "import string\n",
    "import nltk\n",
    "import re"
   ]
  },
  {
   "cell_type": "code",
   "execution_count": 2,
   "id": "11fe82cf-e653-4a2c-9c45-8fe1cf32e15f",
   "metadata": {
    "tags": []
   },
   "outputs": [
    {
     "data": {
      "text/html": [
       "<div>\n",
       "<style scoped>\n",
       "    .dataframe tbody tr th:only-of-type {\n",
       "        vertical-align: middle;\n",
       "    }\n",
       "\n",
       "    .dataframe tbody tr th {\n",
       "        vertical-align: top;\n",
       "    }\n",
       "\n",
       "    .dataframe thead th {\n",
       "        text-align: right;\n",
       "    }\n",
       "</style>\n",
       "<table border=\"1\" class=\"dataframe\">\n",
       "  <thead>\n",
       "    <tr style=\"text-align: right;\">\n",
       "      <th></th>\n",
       "      <th>Unnamed: 0</th>\n",
       "      <th>id</th>\n",
       "      <th>username</th>\n",
       "      <th>text</th>\n",
       "      <th>retweet_count</th>\n",
       "      <th>like_count</th>\n",
       "      <th>created_at</th>\n",
       "    </tr>\n",
       "  </thead>\n",
       "  <tbody>\n",
       "    <tr>\n",
       "      <th>0</th>\n",
       "      <td>0</td>\n",
       "      <td>1622612766266900481</td>\n",
       "      <td>ntsana_</td>\n",
       "      <td>RT @knockknock0408: groovechaja ins\\n@weareone...</td>\n",
       "      <td>4534</td>\n",
       "      <td>0</td>\n",
       "      <td>2023-02-06 15:06:44+00:00</td>\n",
       "    </tr>\n",
       "  </tbody>\n",
       "</table>\n",
       "</div>"
      ],
      "text/plain": [
       "   Unnamed: 0                   id username  \\\n",
       "0           0  1622612766266900481  ntsana_   \n",
       "\n",
       "                                                text  retweet_count  \\\n",
       "0  RT @knockknock0408: groovechaja ins\\n@weareone...           4534   \n",
       "\n",
       "   like_count                 created_at  \n",
       "0           0  2023-02-06 15:06:44+00:00  "
      ]
     },
     "execution_count": 2,
     "metadata": {},
     "output_type": "execute_result"
    }
   ],
   "source": [
    "tweet_coba = pd.read_csv('ntsana_.csv')\n",
    "tweet_coba.head(1)"
   ]
  },
  {
   "cell_type": "code",
   "execution_count": 3,
   "id": "6fb3dafe-f06b-4792-b215-eafb9a05b115",
   "metadata": {
    "tags": []
   },
   "outputs": [],
   "source": [
    "tweet = tweet_coba['text']"
   ]
  },
  {
   "cell_type": "code",
   "execution_count": 4,
   "id": "7c23c369-f9d7-412a-b745-4a3d00c832ee",
   "metadata": {
    "tags": []
   },
   "outputs": [],
   "source": [
    "##case folding & cleaning"
   ]
  },
  {
   "cell_type": "code",
   "execution_count": 5,
   "id": "c67d8247-d5e0-48e9-9a4c-216534b6286a",
   "metadata": {
    "tags": []
   },
   "outputs": [],
   "source": [
    "def clean_text(text):\n",
    "    #menghapus username\n",
    "    text=re.sub('@[^|\\s]+',' ',text)\n",
    "    #mengganti karakter html dengan tanda petik\n",
    "    text=re.sub('<.*?>','',text)\n",
    "    #mempertimbangkan huruf dan angka\n",
    "    text=re.sub('[^a-zA-Z]',' ',text)\n",
    "    #mengganti line baru dengan spasi\n",
    "    text=re.sub(\"\\n\",\"\",text)\n",
    "    #mengubah huruf ke kecil semua\n",
    "    text=text.lower()\n",
    "    #menghapus single char\n",
    "    text=re.sub(r\"\\b[a-zA-Z]\\b\",\" \",text)\n",
    "    #memisahkan dan menggabungkan kata\n",
    "    text=' '.join(text.split())\n",
    "    return text"
   ]
  },
  {
   "cell_type": "code",
   "execution_count": 6,
   "id": "cf474e62-f447-4017-8d49-ea493c5cfb44",
   "metadata": {
    "tags": []
   },
   "outputs": [],
   "source": [
    "tweet_coba['clean'] = [clean_text(i) for i in tweet]\n",
    "tweet = tweet_coba['clean']"
   ]
  },
  {
   "cell_type": "code",
   "execution_count": 7,
   "id": "e2f62e22-81d8-4e07-bcbc-acbbe764d516",
   "metadata": {
    "tags": []
   },
   "outputs": [
    {
     "name": "stdout",
     "output_type": "stream",
     "text": [
      "     Unnamed: 0                   id username  \\\n",
      "0             0  1622612766266900481  ntsana_   \n",
      "1             1  1622583399105069057  ntsana_   \n",
      "2             2  1621496343834546177  ntsana_   \n",
      "3             3  1621164409728176129  ntsana_   \n",
      "4             4  1620046837246988288  ntsana_   \n",
      "..          ...                  ...      ...   \n",
      "192         192  1595049015325999107  ntsana_   \n",
      "193         193  1595048991556632578  ntsana_   \n",
      "194         194  1595048974959796224  ntsana_   \n",
      "195         195  1595048897260290048  ntsana_   \n",
      "196         196  1595048808022306816  ntsana_   \n",
      "\n",
      "                                                  text  retweet_count  \\\n",
      "0    RT @knockknock0408: groovechaja ins\\n@weareone...           4534   \n",
      "1    🤡 https://t.co/sly9cEUdaB https://t.co/OgZhRSmYJh            585   \n",
      "2    😭 https://t.co/7suaOGFlx3 https://t.co/NxnNkXFwU9            571   \n",
      "3                    RT @B_hundred_Hyun: 곧만나!!&gt;&lt;         115056   \n",
      "4    mantap \\nhttps://t.co/bGA4lyxu3v https://t.co/...            285   \n",
      "..                                                 ...            ...   \n",
      "192  RT @_amorfatih: \"Ke Jakarta naik taksi I love ...             34   \n",
      "193                    @cloudssmiley @rintiksedupod 😘😘              0   \n",
      "194  RT @cloudssmiley: Ahhh bagus banget episode in...              1   \n",
      "195                              @ichigatstu sayang 🥹🤗              4   \n",
      "196                                   @cnc100ml 🤣🤣🤣💛💛💛              0   \n",
      "\n",
      "     like_count                 created_at  \\\n",
      "0             0  2023-02-06 15:06:44+00:00   \n",
      "1          3838  2023-02-06 13:10:03+00:00   \n",
      "2          4843  2023-02-03 13:10:28+00:00   \n",
      "3             0  2023-02-02 15:11:29+00:00   \n",
      "4          2321  2023-01-30 13:10:39+00:00   \n",
      "..          ...                        ...   \n",
      "192           0  2022-11-22 13:38:14+00:00   \n",
      "193          14  2022-11-22 13:38:08+00:00   \n",
      "194           0  2022-11-22 13:38:04+00:00   \n",
      "195          25  2022-11-22 13:37:46+00:00   \n",
      "196          28  2022-11-22 13:37:25+00:00   \n",
      "\n",
      "                                                 clean  \n",
      "0               rt groovechaja ins https co rexmdaipjl  \n",
      "1              https co sly ceudab https co ogzhrsmyjh  \n",
      "2                 https co suaogflx https co nxnnkxfwu  \n",
      "3                                             rt gt lt  \n",
      "4           mantap https co bga lyxu https co wqcwd sw  \n",
      "..                                                 ...  \n",
      "192  rt ke jakarta naik taksi love you meskipun kam...  \n",
      "193                                                     \n",
      "194  rt ahhh bagus banget episode ini suka https co...  \n",
      "195                                             sayang  \n",
      "196                                                     \n",
      "\n",
      "[197 rows x 8 columns]\n"
     ]
    }
   ],
   "source": [
    "tweet_coba.head(10)\n",
    "print(tweet_coba)"
   ]
  },
  {
   "cell_type": "code",
   "execution_count": 8,
   "id": "44991390-c043-4db0-a843-3dce0d4ec376",
   "metadata": {},
   "outputs": [],
   "source": [
    "# Tokenizing"
   ]
  },
  {
   "cell_type": "code",
   "execution_count": 9,
   "id": "b1903721-fce6-4a8d-8746-c170bb7e8db0",
   "metadata": {
    "tags": []
   },
   "outputs": [],
   "source": [
    "from nltk.tokenize import RegexpTokenizer\n",
    "regexp = RegexpTokenizer(r'\\w+|$[0-9]+|\\S+')\n",
    "tweet_coba['Token'] = tweet_coba['clean'].apply(regexp.tokenize)"
   ]
  },
  {
   "cell_type": "code",
   "execution_count": 10,
   "id": "cfc253e3-b4d4-4fa9-bfdb-9fda802af47d",
   "metadata": {
    "tags": []
   },
   "outputs": [
    {
     "data": {
      "text/html": [
       "<div>\n",
       "<style scoped>\n",
       "    .dataframe tbody tr th:only-of-type {\n",
       "        vertical-align: middle;\n",
       "    }\n",
       "\n",
       "    .dataframe tbody tr th {\n",
       "        vertical-align: top;\n",
       "    }\n",
       "\n",
       "    .dataframe thead th {\n",
       "        text-align: right;\n",
       "    }\n",
       "</style>\n",
       "<table border=\"1\" class=\"dataframe\">\n",
       "  <thead>\n",
       "    <tr style=\"text-align: right;\">\n",
       "      <th></th>\n",
       "      <th>Unnamed: 0</th>\n",
       "      <th>id</th>\n",
       "      <th>username</th>\n",
       "      <th>text</th>\n",
       "      <th>retweet_count</th>\n",
       "      <th>like_count</th>\n",
       "      <th>created_at</th>\n",
       "      <th>clean</th>\n",
       "      <th>Token</th>\n",
       "    </tr>\n",
       "  </thead>\n",
       "  <tbody>\n",
       "    <tr>\n",
       "      <th>0</th>\n",
       "      <td>0</td>\n",
       "      <td>1622612766266900481</td>\n",
       "      <td>ntsana_</td>\n",
       "      <td>RT @knockknock0408: groovechaja ins\\n@weareone...</td>\n",
       "      <td>4534</td>\n",
       "      <td>0</td>\n",
       "      <td>2023-02-06 15:06:44+00:00</td>\n",
       "      <td>rt groovechaja ins https co rexmdaipjl</td>\n",
       "      <td>[rt, groovechaja, ins, https, co, rexmdaipjl]</td>\n",
       "    </tr>\n",
       "  </tbody>\n",
       "</table>\n",
       "</div>"
      ],
      "text/plain": [
       "   Unnamed: 0                   id username  \\\n",
       "0           0  1622612766266900481  ntsana_   \n",
       "\n",
       "                                                text  retweet_count  \\\n",
       "0  RT @knockknock0408: groovechaja ins\\n@weareone...           4534   \n",
       "\n",
       "   like_count                 created_at  \\\n",
       "0           0  2023-02-06 15:06:44+00:00   \n",
       "\n",
       "                                    clean  \\\n",
       "0  rt groovechaja ins https co rexmdaipjl   \n",
       "\n",
       "                                           Token  \n",
       "0  [rt, groovechaja, ins, https, co, rexmdaipjl]  "
      ]
     },
     "execution_count": 10,
     "metadata": {},
     "output_type": "execute_result"
    }
   ],
   "source": [
    "tweet_coba.head(1)"
   ]
  },
  {
   "cell_type": "code",
   "execution_count": 11,
   "id": "089fd703-301a-4473-9386-05b2124b2e96",
   "metadata": {},
   "outputs": [
    {
     "data": {
      "text/html": [
       "<div>\n",
       "<style scoped>\n",
       "    .dataframe tbody tr th:only-of-type {\n",
       "        vertical-align: middle;\n",
       "    }\n",
       "\n",
       "    .dataframe tbody tr th {\n",
       "        vertical-align: top;\n",
       "    }\n",
       "\n",
       "    .dataframe thead th {\n",
       "        text-align: right;\n",
       "    }\n",
       "</style>\n",
       "<table border=\"1\" class=\"dataframe\">\n",
       "  <thead>\n",
       "    <tr style=\"text-align: right;\">\n",
       "      <th></th>\n",
       "      <th>Unnamed: 0</th>\n",
       "      <th>id</th>\n",
       "      <th>username</th>\n",
       "      <th>text</th>\n",
       "      <th>retweet_count</th>\n",
       "      <th>like_count</th>\n",
       "      <th>created_at</th>\n",
       "      <th>clean</th>\n",
       "      <th>Token</th>\n",
       "      <th>Normalisasi</th>\n",
       "    </tr>\n",
       "  </thead>\n",
       "  <tbody>\n",
       "    <tr>\n",
       "      <th>0</th>\n",
       "      <td>0</td>\n",
       "      <td>1622612766266900481</td>\n",
       "      <td>ntsana_</td>\n",
       "      <td>RT @knockknock0408: groovechaja ins\\n@weareone...</td>\n",
       "      <td>4534</td>\n",
       "      <td>0</td>\n",
       "      <td>2023-02-06 15:06:44+00:00</td>\n",
       "      <td>rt groovechaja ins https co rexmdaipjl</td>\n",
       "      <td>[rt, groovechaja, ins, https, co, rexmdaipjl]</td>\n",
       "      <td>[rt, groovechaja, ins, https, co, rexmdaipjl]</td>\n",
       "    </tr>\n",
       "    <tr>\n",
       "      <th>1</th>\n",
       "      <td>1</td>\n",
       "      <td>1622583399105069057</td>\n",
       "      <td>ntsana_</td>\n",
       "      <td>🤡 https://t.co/sly9cEUdaB https://t.co/OgZhRSmYJh</td>\n",
       "      <td>585</td>\n",
       "      <td>3838</td>\n",
       "      <td>2023-02-06 13:10:03+00:00</td>\n",
       "      <td>https co sly ceudab https co ogzhrsmyjh</td>\n",
       "      <td>[https, co, sly, ceudab, https, co, ogzhrsmyjh]</td>\n",
       "      <td>[https, co, sly, ceudab, https, co, ogzhrsmyjh]</td>\n",
       "    </tr>\n",
       "    <tr>\n",
       "      <th>2</th>\n",
       "      <td>2</td>\n",
       "      <td>1621496343834546177</td>\n",
       "      <td>ntsana_</td>\n",
       "      <td>😭 https://t.co/7suaOGFlx3 https://t.co/NxnNkXFwU9</td>\n",
       "      <td>571</td>\n",
       "      <td>4843</td>\n",
       "      <td>2023-02-03 13:10:28+00:00</td>\n",
       "      <td>https co suaogflx https co nxnnkxfwu</td>\n",
       "      <td>[https, co, suaogflx, https, co, nxnnkxfwu]</td>\n",
       "      <td>[https, co, suaogflx, https, co, nxnnkxfwu]</td>\n",
       "    </tr>\n",
       "    <tr>\n",
       "      <th>3</th>\n",
       "      <td>3</td>\n",
       "      <td>1621164409728176129</td>\n",
       "      <td>ntsana_</td>\n",
       "      <td>RT @B_hundred_Hyun: 곧만나!!&amp;gt;&amp;lt;</td>\n",
       "      <td>115056</td>\n",
       "      <td>0</td>\n",
       "      <td>2023-02-02 15:11:29+00:00</td>\n",
       "      <td>rt gt lt</td>\n",
       "      <td>[rt, gt, lt]</td>\n",
       "      <td>[rt, begitu, lt]</td>\n",
       "    </tr>\n",
       "    <tr>\n",
       "      <th>4</th>\n",
       "      <td>4</td>\n",
       "      <td>1620046837246988288</td>\n",
       "      <td>ntsana_</td>\n",
       "      <td>mantap \\nhttps://t.co/bGA4lyxu3v https://t.co/...</td>\n",
       "      <td>285</td>\n",
       "      <td>2321</td>\n",
       "      <td>2023-01-30 13:10:39+00:00</td>\n",
       "      <td>mantap https co bga lyxu https co wqcwd sw</td>\n",
       "      <td>[mantap, https, co, bga, lyxu, https, co, wqcw...</td>\n",
       "      <td>[mantap, https, co, bga, lyxu, https, co, wqcw...</td>\n",
       "    </tr>\n",
       "  </tbody>\n",
       "</table>\n",
       "</div>"
      ],
      "text/plain": [
       "   Unnamed: 0                   id username  \\\n",
       "0           0  1622612766266900481  ntsana_   \n",
       "1           1  1622583399105069057  ntsana_   \n",
       "2           2  1621496343834546177  ntsana_   \n",
       "3           3  1621164409728176129  ntsana_   \n",
       "4           4  1620046837246988288  ntsana_   \n",
       "\n",
       "                                                text  retweet_count  \\\n",
       "0  RT @knockknock0408: groovechaja ins\\n@weareone...           4534   \n",
       "1  🤡 https://t.co/sly9cEUdaB https://t.co/OgZhRSmYJh            585   \n",
       "2  😭 https://t.co/7suaOGFlx3 https://t.co/NxnNkXFwU9            571   \n",
       "3                  RT @B_hundred_Hyun: 곧만나!!&gt;&lt;         115056   \n",
       "4  mantap \\nhttps://t.co/bGA4lyxu3v https://t.co/...            285   \n",
       "\n",
       "   like_count                 created_at  \\\n",
       "0           0  2023-02-06 15:06:44+00:00   \n",
       "1        3838  2023-02-06 13:10:03+00:00   \n",
       "2        4843  2023-02-03 13:10:28+00:00   \n",
       "3           0  2023-02-02 15:11:29+00:00   \n",
       "4        2321  2023-01-30 13:10:39+00:00   \n",
       "\n",
       "                                        clean  \\\n",
       "0      rt groovechaja ins https co rexmdaipjl   \n",
       "1     https co sly ceudab https co ogzhrsmyjh   \n",
       "2        https co suaogflx https co nxnnkxfwu   \n",
       "3                                    rt gt lt   \n",
       "4  mantap https co bga lyxu https co wqcwd sw   \n",
       "\n",
       "                                               Token  \\\n",
       "0      [rt, groovechaja, ins, https, co, rexmdaipjl]   \n",
       "1    [https, co, sly, ceudab, https, co, ogzhrsmyjh]   \n",
       "2        [https, co, suaogflx, https, co, nxnnkxfwu]   \n",
       "3                                       [rt, gt, lt]   \n",
       "4  [mantap, https, co, bga, lyxu, https, co, wqcw...   \n",
       "\n",
       "                                         Normalisasi  \n",
       "0      [rt, groovechaja, ins, https, co, rexmdaipjl]  \n",
       "1    [https, co, sly, ceudab, https, co, ogzhrsmyjh]  \n",
       "2        [https, co, suaogflx, https, co, nxnnkxfwu]  \n",
       "3                                   [rt, begitu, lt]  \n",
       "4  [mantap, https, co, bga, lyxu, https, co, wqcw...  "
      ]
     },
     "execution_count": 11,
     "metadata": {},
     "output_type": "execute_result"
    }
   ],
   "source": [
    "normalized_word = pd.read_csv(\"normalisasi.csv\", encoding='latin1')\n",
    "\n",
    "normalized_word_dict={}\n",
    "for index, row in normalized_word.iterrows():\n",
    "    if row[0] not in normalized_word_dict:\n",
    "        normalized_word_dict[row[0]] = row[1]\n",
    "                \n",
    "def normalized_term(document):\n",
    "    return [normalized_word_dict[term] if term in normalized_word_dict else term for term in document]\n",
    "tweet_coba['Normalisasi'] = tweet_coba['Token'].apply(normalized_term)\n",
    "tweet_coba.head(5)"
   ]
  },
  {
   "cell_type": "code",
   "execution_count": 12,
   "id": "f1892006-327d-4672-b747-8141403ded2e",
   "metadata": {
    "tags": []
   },
   "outputs": [],
   "source": [
    "# Remove Stopwords"
   ]
  },
  {
   "cell_type": "code",
   "execution_count": 13,
   "id": "be2417bd-a7a8-4be6-a989-af4a3d13a81b",
   "metadata": {
    "tags": []
   },
   "outputs": [],
   "source": [
    "from nltk.corpus import stopwords\n",
    "import nltk"
   ]
  },
  {
   "cell_type": "code",
   "execution_count": 14,
   "id": "516fe0a8-e14b-4476-86f0-737c6602ac93",
   "metadata": {
    "tags": []
   },
   "outputs": [],
   "source": [
    "# nltk.download(\"stopwords\")"
   ]
  },
  {
   "cell_type": "code",
   "execution_count": 15,
   "id": "46afbc72-ba64-4883-9253-5c39e7c6f516",
   "metadata": {
    "tags": []
   },
   "outputs": [],
   "source": [
    "stopword = stopwords.words('indonesian')\n",
    "txt_stopword = pd.read_csv(\"stopword.txt\", names=[\"stopwords\"], header = None)"
   ]
  },
  {
   "cell_type": "code",
   "execution_count": 16,
   "id": "c0a47531-d60d-4ffb-a1ef-938313d6160e",
   "metadata": {
    "tags": []
   },
   "outputs": [],
   "source": [
    "##masukkan kata tambahan di luar file\n",
    "stopword.extend([\"yaha\"])"
   ]
  },
  {
   "cell_type": "code",
   "execution_count": 17,
   "id": "662ed57a-9b51-4987-bff5-17f37f29439f",
   "metadata": {
    "tags": []
   },
   "outputs": [],
   "source": [
    "stopword.extend(txt_stopword[\"stopwords\"][0].split(' '))\n",
    "stopword = set(stopword)"
   ]
  },
  {
   "cell_type": "code",
   "execution_count": 19,
   "id": "8cc9780d-9e53-4d37-9991-aa89c74fc45d",
   "metadata": {},
   "outputs": [
    {
     "data": {
      "text/html": [
       "<div>\n",
       "<style scoped>\n",
       "    .dataframe tbody tr th:only-of-type {\n",
       "        vertical-align: middle;\n",
       "    }\n",
       "\n",
       "    .dataframe tbody tr th {\n",
       "        vertical-align: top;\n",
       "    }\n",
       "\n",
       "    .dataframe thead th {\n",
       "        text-align: right;\n",
       "    }\n",
       "</style>\n",
       "<table border=\"1\" class=\"dataframe\">\n",
       "  <thead>\n",
       "    <tr style=\"text-align: right;\">\n",
       "      <th></th>\n",
       "      <th>Unnamed: 0</th>\n",
       "      <th>id</th>\n",
       "      <th>username</th>\n",
       "      <th>text</th>\n",
       "      <th>retweet_count</th>\n",
       "      <th>like_count</th>\n",
       "      <th>created_at</th>\n",
       "      <th>clean</th>\n",
       "      <th>Token</th>\n",
       "      <th>Normalisasi</th>\n",
       "      <th>Stopwords</th>\n",
       "    </tr>\n",
       "  </thead>\n",
       "  <tbody>\n",
       "    <tr>\n",
       "      <th>0</th>\n",
       "      <td>0</td>\n",
       "      <td>1622612766266900481</td>\n",
       "      <td>ntsana_</td>\n",
       "      <td>RT @knockknock0408: groovechaja ins\\n@weareone...</td>\n",
       "      <td>4534</td>\n",
       "      <td>0</td>\n",
       "      <td>2023-02-06 15:06:44+00:00</td>\n",
       "      <td>rt groovechaja ins https co rexmdaipjl</td>\n",
       "      <td>[rt, groovechaja, ins, https, co, rexmdaipjl]</td>\n",
       "      <td>[rt, groovechaja, ins, https, co, rexmdaipjl]</td>\n",
       "      <td>[rt, groovechaja, ins, https, co, rexmdaipjl]</td>\n",
       "    </tr>\n",
       "    <tr>\n",
       "      <th>1</th>\n",
       "      <td>1</td>\n",
       "      <td>1622583399105069057</td>\n",
       "      <td>ntsana_</td>\n",
       "      <td>🤡 https://t.co/sly9cEUdaB https://t.co/OgZhRSmYJh</td>\n",
       "      <td>585</td>\n",
       "      <td>3838</td>\n",
       "      <td>2023-02-06 13:10:03+00:00</td>\n",
       "      <td>https co sly ceudab https co ogzhrsmyjh</td>\n",
       "      <td>[https, co, sly, ceudab, https, co, ogzhrsmyjh]</td>\n",
       "      <td>[https, co, sly, ceudab, https, co, ogzhrsmyjh]</td>\n",
       "      <td>[https, co, sly, ceudab, https, co, ogzhrsmyjh]</td>\n",
       "    </tr>\n",
       "    <tr>\n",
       "      <th>2</th>\n",
       "      <td>2</td>\n",
       "      <td>1621496343834546177</td>\n",
       "      <td>ntsana_</td>\n",
       "      <td>😭 https://t.co/7suaOGFlx3 https://t.co/NxnNkXFwU9</td>\n",
       "      <td>571</td>\n",
       "      <td>4843</td>\n",
       "      <td>2023-02-03 13:10:28+00:00</td>\n",
       "      <td>https co suaogflx https co nxnnkxfwu</td>\n",
       "      <td>[https, co, suaogflx, https, co, nxnnkxfwu]</td>\n",
       "      <td>[https, co, suaogflx, https, co, nxnnkxfwu]</td>\n",
       "      <td>[https, co, suaogflx, https, co, nxnnkxfwu]</td>\n",
       "    </tr>\n",
       "    <tr>\n",
       "      <th>3</th>\n",
       "      <td>3</td>\n",
       "      <td>1621164409728176129</td>\n",
       "      <td>ntsana_</td>\n",
       "      <td>RT @B_hundred_Hyun: 곧만나!!&amp;gt;&amp;lt;</td>\n",
       "      <td>115056</td>\n",
       "      <td>0</td>\n",
       "      <td>2023-02-02 15:11:29+00:00</td>\n",
       "      <td>rt gt lt</td>\n",
       "      <td>[rt, gt, lt]</td>\n",
       "      <td>[rt, begitu, lt]</td>\n",
       "      <td>[rt, lt]</td>\n",
       "    </tr>\n",
       "    <tr>\n",
       "      <th>4</th>\n",
       "      <td>4</td>\n",
       "      <td>1620046837246988288</td>\n",
       "      <td>ntsana_</td>\n",
       "      <td>mantap \\nhttps://t.co/bGA4lyxu3v https://t.co/...</td>\n",
       "      <td>285</td>\n",
       "      <td>2321</td>\n",
       "      <td>2023-01-30 13:10:39+00:00</td>\n",
       "      <td>mantap https co bga lyxu https co wqcwd sw</td>\n",
       "      <td>[mantap, https, co, bga, lyxu, https, co, wqcw...</td>\n",
       "      <td>[mantap, https, co, bga, lyxu, https, co, wqcw...</td>\n",
       "      <td>[mantap, https, co, bga, lyxu, https, co, wqcw...</td>\n",
       "    </tr>\n",
       "  </tbody>\n",
       "</table>\n",
       "</div>"
      ],
      "text/plain": [
       "   Unnamed: 0                   id username  \\\n",
       "0           0  1622612766266900481  ntsana_   \n",
       "1           1  1622583399105069057  ntsana_   \n",
       "2           2  1621496343834546177  ntsana_   \n",
       "3           3  1621164409728176129  ntsana_   \n",
       "4           4  1620046837246988288  ntsana_   \n",
       "\n",
       "                                                text  retweet_count  \\\n",
       "0  RT @knockknock0408: groovechaja ins\\n@weareone...           4534   \n",
       "1  🤡 https://t.co/sly9cEUdaB https://t.co/OgZhRSmYJh            585   \n",
       "2  😭 https://t.co/7suaOGFlx3 https://t.co/NxnNkXFwU9            571   \n",
       "3                  RT @B_hundred_Hyun: 곧만나!!&gt;&lt;         115056   \n",
       "4  mantap \\nhttps://t.co/bGA4lyxu3v https://t.co/...            285   \n",
       "\n",
       "   like_count                 created_at  \\\n",
       "0           0  2023-02-06 15:06:44+00:00   \n",
       "1        3838  2023-02-06 13:10:03+00:00   \n",
       "2        4843  2023-02-03 13:10:28+00:00   \n",
       "3           0  2023-02-02 15:11:29+00:00   \n",
       "4        2321  2023-01-30 13:10:39+00:00   \n",
       "\n",
       "                                        clean  \\\n",
       "0      rt groovechaja ins https co rexmdaipjl   \n",
       "1     https co sly ceudab https co ogzhrsmyjh   \n",
       "2        https co suaogflx https co nxnnkxfwu   \n",
       "3                                    rt gt lt   \n",
       "4  mantap https co bga lyxu https co wqcwd sw   \n",
       "\n",
       "                                               Token  \\\n",
       "0      [rt, groovechaja, ins, https, co, rexmdaipjl]   \n",
       "1    [https, co, sly, ceudab, https, co, ogzhrsmyjh]   \n",
       "2        [https, co, suaogflx, https, co, nxnnkxfwu]   \n",
       "3                                       [rt, gt, lt]   \n",
       "4  [mantap, https, co, bga, lyxu, https, co, wqcw...   \n",
       "\n",
       "                                         Normalisasi  \\\n",
       "0      [rt, groovechaja, ins, https, co, rexmdaipjl]   \n",
       "1    [https, co, sly, ceudab, https, co, ogzhrsmyjh]   \n",
       "2        [https, co, suaogflx, https, co, nxnnkxfwu]   \n",
       "3                                   [rt, begitu, lt]   \n",
       "4  [mantap, https, co, bga, lyxu, https, co, wqcw...   \n",
       "\n",
       "                                           Stopwords  \n",
       "0      [rt, groovechaja, ins, https, co, rexmdaipjl]  \n",
       "1    [https, co, sly, ceudab, https, co, ogzhrsmyjh]  \n",
       "2        [https, co, suaogflx, https, co, nxnnkxfwu]  \n",
       "3                                           [rt, lt]  \n",
       "4  [mantap, https, co, bga, lyxu, https, co, wqcw...  "
      ]
     },
     "execution_count": 19,
     "metadata": {},
     "output_type": "execute_result"
    }
   ],
   "source": [
    "def stopwords(text):\n",
    "    text = [word for word in text if word not in stopword]\n",
    "    return text\n",
    "tweet_coba['Stopwords'] = tweet_coba['Normalisasi'].apply(stopwords)\n",
    "tweet_coba.head(5)"
   ]
  },
  {
   "cell_type": "code",
   "execution_count": null,
   "id": "9186787e-ef9a-4dd6-b525-96d9a2c86ffa",
   "metadata": {},
   "outputs": [],
   "source": []
  }
 ],
 "metadata": {
  "kernelspec": {
   "display_name": "Python 3 (ipykernel)",
   "language": "python",
   "name": "python3"
  },
  "language_info": {
   "codemirror_mode": {
    "name": "ipython",
    "version": 3
   },
   "file_extension": ".py",
   "mimetype": "text/x-python",
   "name": "python",
   "nbconvert_exporter": "python",
   "pygments_lexer": "ipython3",
   "version": "3.9.7"
  }
 },
 "nbformat": 4,
 "nbformat_minor": 5
}

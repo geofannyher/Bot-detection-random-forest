{
 "cells": [
  {
   "cell_type": "code",
   "execution_count": 5,
   "id": "311f66c9-d61c-49bf-9e9c-fb6505dad321",
   "metadata": {
    "tags": []
   },
   "outputs": [
    {
     "name": "stdout",
     "output_type": "stream",
     "text": [
      "1200\n",
      "datetime64[ns]\n",
      "1200\n",
      "1200\n",
      "1200\n"
     ]
    },
    {
     "name": "stderr",
     "output_type": "stream",
     "text": [
      "C:\\Users\\xotiss\\AppData\\Local\\Temp\\ipykernel_7728\\1668883791.py:62: FutureWarning: Dropping of nuisance columns in DataFrame reductions (with 'numeric_only=None') is deprecated; in a future version this will raise TypeError.  Select only valid columns before calling the reduction.\n",
      "  dataset = dataset.fillna(dataset.mean())\n"
     ]
    }
   ],
   "source": [
    "import pandas as pd\n",
    "import matplotlib.pyplot as plt\n",
    "from sklearn.feature_extraction.text import TfidfVectorizer\n",
    "from sklearn.ensemble import RandomForestClassifier\n",
    "from sklearn.model_selection import train_test_split\n",
    "from sklearn.metrics import confusion_matrix, precision_score, recall_score, f1_score,accuracy_score, classification_report\n",
    "import numpy as np\n",
    "# Load dataset\n",
    "dataset = pd.read_csv('training_dataset.csv')\n",
    "# menghapus nilai duplikat yang sama\n",
    "dataset = dataset.drop_duplicates(keep='first', inplace=False)\n",
    "# mengubah format datetime dalam format standar\n",
    "dataset['created_at']= pd.to_datetime(dataset['created_at'])\n",
    "print(len(dataset))\n",
    "print(dataset['created_at'].dtype)\n",
    "# dataset.replace(np.inf, 0) \n",
    "# dataset.replace(-np.inf, 0)\n",
    "dataset['ratio_statuses_count_per_age']=dataset['statuses_count']/dataset['account_age_days']\n",
    "dataset['ratio_favorites_per_age']=dataset['favourites_count']/dataset['account_age_days']\n",
    "dataset['ratio_friends_per_followers']=dataset['friends_count']/dataset['followers_count']\n",
    "dataset['description'].fillna('x', inplace = True)\n",
    "dataset['word_count']=dataset['description'].apply(lambda x: \n",
    "len(str(x).split(\" \")))#count the word\n",
    "dataset['char_count'] = dataset['description'].str.len() \n",
    "#count the character including space\n",
    "dataset['reputation']= dataset['followers_count']/(dataset['followers_count']+ dataset['friends_count'])\n",
    "dataset.head()\n",
    "print(len(dataset))\n",
    "#Feture Entrophy\n",
    "# Mengubah tipe data kolom 'created_at' menjadi datetime\n",
    "dataset['created_at'] = pd.to_datetime(dataset['created_at'])\n",
    "#menugurutkan\n",
    "dataset.sort_values([\"screen_name\", \"created_at\"])\n",
    "dataset.head()\n",
    "print(len(dataset))\n",
    "dataset.drop(['created_at'], axis=1,inplace=True)\n",
    "# dataset.head()\n",
    "# mengubah menjadi boolean dan mengecek apakah tidak ada null.\n",
    "dataset['location']=pd.notnull(dataset['location'])\n",
    "dataset.head()\n",
    "print(len(dataset))\n",
    "# mengecek apakah dalam descripsi ada teks bot atau tidak dan menjadikannya kedalam bolean\n",
    "import re\n",
    "dataset['contains_bot_name']=dataset['description'].str.extract(\"\\b(bot|b0t|updates|hourly|automatically|generating|generated|every|computer-generated|twitterbot|automated|FakeBots|')\\b|Bots\", \n",
    "                                                                    flags=re.IGNORECASE,expand=False)\n",
    "                                                                    # regex=True)\n",
    "dataset['contains_bot_name'].fillna(0).astype(bool).sum(axis=0)\n",
    "#Feature avg_word\n",
    "dataset['description'] = dataset['description'].astype(str)\n",
    "dataset['description_word_count'] = dataset['description'].apply(lambda x: len(str(x).split()))\n",
    "dataset['description_character_count'] = dataset['description'].apply(lambda x: sum(len(word) for word in str(x).split()))\n",
    "dataset['avg_word'] = dataset['description_character_count'] / dataset['description_word_count']\n",
    "dataset.head()\n",
    "dataset.drop(['screen_name','description'], inplace=True, axis=1)\n",
    "# dataset.head()\n",
    "dataset[\"reputation\"].fillna(0, inplace = True) \n",
    "dataset[\"contains_bot_name\"].fillna(False, inplace=True)\n",
    "dataset.replace(np.inf, 0)\n",
    "dataset.replace(-np.inf, 0)\n",
    "dataset=dataset.replace([np.inf, -np.inf], np.nan)\n",
    "dataset=dataset.replace([np.inf, -np.inf], np.nan).dropna(how=\"all\")\n",
    "dataset = dataset.fillna(dataset.mean())\n",
    "dataset.to_csv('hasilpreprocessing.csv')\n",
    "\n"
   ]
  },
  {
   "cell_type": "code",
   "execution_count": null,
   "id": "4e1cb484-25eb-4cb6-8774-4b979af1665f",
   "metadata": {},
   "outputs": [],
   "source": []
  }
 ],
 "metadata": {
  "kernelspec": {
   "display_name": "Python 3 (ipykernel)",
   "language": "python",
   "name": "python3"
  },
  "language_info": {
   "codemirror_mode": {
    "name": "ipython",
    "version": 3
   },
   "file_extension": ".py",
   "mimetype": "text/x-python",
   "name": "python",
   "nbconvert_exporter": "python",
   "pygments_lexer": "ipython3",
   "version": "3.9.7"
  }
 },
 "nbformat": 4,
 "nbformat_minor": 5
}

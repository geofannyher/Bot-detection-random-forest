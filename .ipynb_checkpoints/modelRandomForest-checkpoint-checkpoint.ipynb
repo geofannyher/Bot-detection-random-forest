{
 "cells": [
  {
   "cell_type": "code",
   "execution_count": 26,
   "id": "7bc20976-2acc-44a6-af1c-4310094ed498",
   "metadata": {
    "tags": []
   },
   "outputs": [
    {
     "data": {
      "text/html": [
       "<div>\n",
       "<style scoped>\n",
       "    .dataframe tbody tr th:only-of-type {\n",
       "        vertical-align: middle;\n",
       "    }\n",
       "\n",
       "    .dataframe tbody tr th {\n",
       "        vertical-align: top;\n",
       "    }\n",
       "\n",
       "    .dataframe thead th {\n",
       "        text-align: right;\n",
       "    }\n",
       "</style>\n",
       "<table border=\"1\" class=\"dataframe\">\n",
       "  <thead>\n",
       "    <tr style=\"text-align: right;\">\n",
       "      <th></th>\n",
       "      <th>Unnamed: 0</th>\n",
       "      <th>Unnamed: 0.1</th>\n",
       "      <th>id</th>\n",
       "      <th>username</th>\n",
       "      <th>text</th>\n",
       "      <th>retweet_count</th>\n",
       "      <th>like_count</th>\n",
       "      <th>created_at</th>\n",
       "      <th>label</th>\n",
       "    </tr>\n",
       "  </thead>\n",
       "  <tbody>\n",
       "    <tr>\n",
       "      <th>0</th>\n",
       "      <td>0</td>\n",
       "      <td>0</td>\n",
       "      <td>1622623482793316353</td>\n",
       "      <td>starfess</td>\n",
       "      <td>-hi last music video yang kalian tonton di yut...</td>\n",
       "      <td>0</td>\n",
       "      <td>0</td>\n",
       "      <td>2023-02-06 15:49:19+00:00</td>\n",
       "      <td>human</td>\n",
       "    </tr>\n",
       "  </tbody>\n",
       "</table>\n",
       "</div>"
      ],
      "text/plain": [
       "   Unnamed: 0  Unnamed: 0.1                   id  username  \\\n",
       "0           0             0  1622623482793316353  starfess   \n",
       "\n",
       "                                                text  retweet_count  \\\n",
       "0  -hi last music video yang kalian tonton di yut...              0   \n",
       "\n",
       "   like_count                 created_at  label  \n",
       "0           0  2023-02-06 15:49:19+00:00  human  "
      ]
     },
     "execution_count": 26,
     "metadata": {},
     "output_type": "execute_result"
    }
   ],
   "source": [
    "# cara 1\n",
    "# Import library yang dibutuhkan\n",
    "import pandas as pd\n",
    "import matplotlib.pyplot as plt\n",
    "from sklearn.feature_extraction.text import TfidfVectorizer\n",
    "from sklearn.ensemble import RandomForestClassifier\n",
    "from sklearn.model_selection import train_test_split\n",
    "from sklearn.metrics import confusion_matrix,classification_report, precision_score, recall_score, f1_score,accuracy_score\n",
    "from nltk.stem import PorterStemmer\n",
    "from nltk.tokenize import word_tokenize\n",
    "# Load dataset\n",
    "dataset = pd.read_csv('sbyfess_labeled2-checkpoint.csv')\n",
    "dataset.head(1)\n"
   ]
  },
  {
   "cell_type": "code",
   "execution_count": 27,
   "id": "7611a78b-3ff5-49b8-9dae-5a78cd131577",
   "metadata": {
    "tags": []
   },
   "outputs": [
    {
     "data": {
      "text/plain": [
       "0    human\n",
       "1      bot\n",
       "2      bot\n",
       "3      bot\n",
       "4      bot\n",
       "Name: label, dtype: object"
      ]
     },
     "execution_count": 27,
     "metadata": {},
     "output_type": "execute_result"
    }
   ],
   "source": [
    "# Pre-processing data\n",
    "# Membersihkan data dari karakter-karakter yang tidak diinginkan\n",
    "dataset['text'] = dataset['text'].apply(lambda x: ' '.join([word for word in x.split() if not word.startswith('@')])) \n",
    "dataset['text'] = dataset['text'].str.replace('[^a-zA-Z0-9\\s]', '',regex=True) \n",
    "\n",
    "# Melakukan tokenisasi dan stemming\n",
    "stemmer = PorterStemmer()\n",
    "\n",
    "def tokenize(text):\n",
    "    tokens = word_tokenize(text.lower())\n",
    "    stemmed_tokens = [stemmer.stem(token) for token in tokens]\n",
    "    return stemmed_tokens\n",
    "vectorizer = TfidfVectorizer(tokenizer=tokenize)\n",
    "X = vectorizer.fit_transform(dataset['text'])\n",
    "y = dataset['label']\n",
    "y.head(5)\n"
   ]
  },
  {
   "cell_type": "code",
   "execution_count": 28,
   "id": "1780138a-d0fb-452a-814e-be9a49f1fc55",
   "metadata": {
    "tags": []
   },
   "outputs": [
    {
     "data": {
      "text/plain": [
       "dtype('float64')"
      ]
     },
     "execution_count": 28,
     "metadata": {},
     "output_type": "execute_result"
    }
   ],
   "source": [
    "# Membuat model Random Forest Classifier\n",
    "X_train, X_test, y_train, y_test = train_test_split(X, y, test_size = 0.33)\n",
    "X_train.shape, X_test.shape\n",
    "X_train.dtype\n"
   ]
  },
  {
   "cell_type": "code",
   "execution_count": 29,
   "id": "a4a9154e-51ba-4bb0-b24d-da9467655f5d",
   "metadata": {
    "tags": []
   },
   "outputs": [
    {
     "name": "stdout",
     "output_type": "stream",
     "text": [
      "Model accuracy score with 10 decision-trees : 0.8939\n"
     ]
    },
    {
     "data": {
      "text/html": [
       "<div>\n",
       "<style scoped>\n",
       "    .dataframe tbody tr th:only-of-type {\n",
       "        vertical-align: middle;\n",
       "    }\n",
       "\n",
       "    .dataframe tbody tr th {\n",
       "        vertical-align: top;\n",
       "    }\n",
       "\n",
       "    .dataframe thead th {\n",
       "        text-align: right;\n",
       "    }\n",
       "</style>\n",
       "<table border=\"1\" class=\"dataframe\">\n",
       "  <thead>\n",
       "    <tr style=\"text-align: right;\">\n",
       "      <th></th>\n",
       "      <th>label</th>\n",
       "    </tr>\n",
       "  </thead>\n",
       "  <tbody>\n",
       "    <tr>\n",
       "      <th>167</th>\n",
       "      <td>bot</td>\n",
       "    </tr>\n",
       "    <tr>\n",
       "      <th>84</th>\n",
       "      <td>bot</td>\n",
       "    </tr>\n",
       "    <tr>\n",
       "      <th>33</th>\n",
       "      <td>bot</td>\n",
       "    </tr>\n",
       "    <tr>\n",
       "      <th>50</th>\n",
       "      <td>bot</td>\n",
       "    </tr>\n",
       "    <tr>\n",
       "      <th>43</th>\n",
       "      <td>bot</td>\n",
       "    </tr>\n",
       "  </tbody>\n",
       "</table>\n",
       "</div>"
      ],
      "text/plain": [
       "    label\n",
       "167   bot\n",
       "84    bot\n",
       "33    bot\n",
       "50    bot\n",
       "43    bot"
      ]
     },
     "execution_count": 29,
     "metadata": {},
     "output_type": "execute_result"
    }
   ],
   "source": [
    "# Membangun model Random Forest Classifier dan mencari important features \n",
    "rfc = RandomForestClassifier(n_estimators=100,random_state=42)\n",
    "rfc.fit(X_train, y_train)\n",
    "y_pred = rfc.predict(X_test)\n",
    "\n",
    "print('Model accuracy score with 10 decision-trees : {0:0.4f}'. format(accuracy_score(y_test,y_pred)))\n",
    "\n",
    "# print(X_train)\n",
    "dframe = pd.DataFrame(y_test)\n",
    "dframe.head()\n"
   ]
  },
  {
   "cell_type": "code",
   "execution_count": 30,
   "id": "f970d6f6-0820-4bf7-92da-f844a664212f",
   "metadata": {},
   "outputs": [
    {
     "name": "stdout",
     "output_type": "stream",
     "text": [
      "Fitur importance:\n",
      "           importance\n",
      "3           0.098001\n",
      "random      0.036193\n",
      "kalian      0.035803\n",
      "orang       0.033901\n",
      "rt          0.028990\n",
      "grup        0.024616\n",
      "lagu        0.022376\n",
      "yang        0.021202\n",
      "dong        0.019014\n",
      "tercepat    0.018405\n"
     ]
    },
    {
     "name": "stderr",
     "output_type": "stream",
     "text": [
      "c:\\Users\\xotiss\\AppData\\Local\\Programs\\Python\\Python39\\lib\\site-packages\\sklearn\\utils\\deprecation.py:87: FutureWarning: Function get_feature_names is deprecated; get_feature_names is deprecated in 1.0 and will be removed in 1.2. Please use get_feature_names_out instead.\n",
      "  warnings.warn(msg, category=FutureWarning)\n"
     ]
    }
   ],
   "source": [
    "# feature_scores = pd.Series(rfc.feature_importances_, index=X_train.index).sort_values(ascending=False)\n",
    "# feature_scores()\n",
    "# importances = rfc.feature_importances_\n",
    "# for feature, importance in zip(X_train, importances):\n",
    "# print(feature, ':', importance)\n",
    "feature_importances = pd.DataFrame(rfc.feature_importances_,\n",
    "                                   index=vectorizer.get_feature_names(),\n",
    "                                   columns=['importance']).sort_values('importance', ascending=False)\n",
    "\n",
    "# Tampilkan 10 fitur teratas\n",
    "print(\"Fitur importance:\\n\", feature_importances.head(10))"
   ]
  },
  {
   "cell_type": "code",
   "execution_count": 31,
   "id": "3575dfb3-cbce-4f52-a493-0df19179f125",
   "metadata": {
    "tags": []
   },
   "outputs": [
    {
     "data": {
      "image/png": "[encoded data removed]",
      "text/plain": [
       "<Figure size 720x576 with 1 Axes>"
      ]
     },
     "metadata": {},
     "output_type": "display_data"
    },
    {
     "name": "stdout",
     "output_type": "stream",
     "text": [
      "Classification Report:\n",
      "               precision    recall  f1-score   support\n",
      "\n",
      "       human       0.89      1.00      0.94        54\n",
      "         bot       1.00      0.42      0.59        12\n",
      "\n",
      "    accuracy                           0.89        66\n",
      "   macro avg       0.94      0.71      0.76        66\n",
      "weighted avg       0.91      0.89      0.88        66\n",
      "\n"
     ]
    },
    {
     "data": {
      "image/png": "[encoded data removed]",
      "text/plain": [
       "<Figure size 432x288 with 2 Axes>"
      ]
     },
     "metadata": {},
     "output_type": "display_data"
    }
   ],
   "source": [
    "import seaborn as sns \n",
    "\n",
    "# Add labels to the graph\n",
    "sns.set_style(\"whitegrid\")\n",
    "plt.figure(figsize=(10, 8))\n",
    "sns.barplot(x=feature_importances.importance[:10], y=feature_importances.index[:10], color='b')\n",
    "\n",
    "plt.xlabel('Feature Importance Score')\n",
    "plt.ylabel('Features')\n",
    "\n",
    "# Add title to the graph\n",
    "\n",
    "plt.title(\"Visualizing Important Features\")\n",
    "\n",
    "# Visualize the graph\n",
    "\n",
    "plt.show()\n",
    "\n",
    "# Memprediksi data testing\n",
    "y_pred = rfc.predict(X_test)\n",
    "accuracy = (y_pred == y_test).mean()\n",
    "print(\"Classification Report:\\n\", classification_report(y_test, y_pred, target_names=['human', 'bot']))\n",
    "\n",
    "\n",
    "# Evaluasi model\n",
    "# print('Confusion Matrix:')\n",
    "# print(confusion_matrix(y_test, y_pred))\n",
    "# print('Accuracy:', accuracy)\n",
    "# print('Precision:', precision_score(y_test, y_pred))\n",
    "# print('Recall:', recall_score(y_test, y_pred))\n",
    "# print('F1 Score:', f1_score(y_test, y_pred))\n",
    "cm = confusion_matrix(y_test, y_pred)\n",
    "sns.heatmap(cm, annot=True, fmt='d', cmap='Blues')\n",
    "plt.xlabel('Predicted Label')\n",
    "plt.ylabel('True Label')\n",
    "plt.title('Confusion Matrix')\n",
    "plt.show()"
   ]
  },
  {
   "cell_type": "code",
   "execution_count": 34,
   "id": "84070c1e-5b98-4a59-a649-f9826dade433",
   "metadata": {},
   "outputs": [
    {
     "name": "stdout",
     "output_type": "stream",
     "text": [
      "Jumlah akun human: 38\n",
      "Jumlah akun bot: 162\n"
     ]
    }
   ],
   "source": [
    "data = pd.read_csv('sbyfess_labeled2-checkpoint.csv')\n",
    "label_counts = data['label'].value_counts()\n",
    "print(\"Jumlah akun human:\", label_counts['human'])\n",
    "print(\"Jumlah akun bot:\", label_counts['bot'])"
   ]
  },
  {
   "cell_type": "code",
   "execution_count": 52,
   "id": "82681812",
   "metadata": {},
   "outputs": [
    {
     "ename": "ValueError",
     "evalue": "The truth value of an array with more than one element is ambiguous. Use a.any() or a.all()",
     "output_type": "error",
     "traceback": [
      "\u001b[1;31m---------------------------------------------------------------------------\u001b[0m",
      "\u001b[1;31mValueError\u001b[0m                                Traceback (most recent call last)",
      "\u001b[1;32me:\\Kuliah\\1. Skripsi\\dataskripsi\\1.scraping\\.ipynb_checkpoints\\modelRandomForest-checkpoint.ipynb Cell 8\u001b[0m in \u001b[0;36m<module>\u001b[1;34m\u001b[0m\n\u001b[0;32m      <a href='vscode-notebook-cell:/e%3A/Kuliah/1.%20Skripsi/dataskripsi/1.scraping/.ipynb_checkpoints/modelRandomForest-checkpoint.ipynb#X10sZmlsZQ%3D%3D?line=1'>2</a>\u001b[0m is_bot \u001b[39m=\u001b[39m rfc\u001b[39m.\u001b[39mpredict(X)  \u001b[39m# X adalah data fitur dari akun Twitter yang akan diklasifikasikan\u001b[39;00m\n\u001b[0;32m      <a href='vscode-notebook-cell:/e%3A/Kuliah/1.%20Skripsi/dataskripsi/1.scraping/.ipynb_checkpoints/modelRandomForest-checkpoint.ipynb#X10sZmlsZQ%3D%3D?line=3'>4</a>\u001b[0m \u001b[39m# Menampilkan hasil klasifikasi\u001b[39;00m\n\u001b[1;32m----> <a href='vscode-notebook-cell:/e%3A/Kuliah/1.%20Skripsi/dataskripsi/1.scraping/.ipynb_checkpoints/modelRandomForest-checkpoint.ipynb#X10sZmlsZQ%3D%3D?line=4'>5</a>\u001b[0m \u001b[39mif\u001b[39;00m is_bot \u001b[39m==\u001b[39;49m \u001b[39m1\u001b[39;49m:\n\u001b[0;32m      <a href='vscode-notebook-cell:/e%3A/Kuliah/1.%20Skripsi/dataskripsi/1.scraping/.ipynb_checkpoints/modelRandomForest-checkpoint.ipynb#X10sZmlsZQ%3D%3D?line=5'>6</a>\u001b[0m     \u001b[39mprint\u001b[39m(\u001b[39mf\u001b[39m\u001b[39m\"\u001b[39m\u001b[39mAkun \u001b[39m\u001b[39m{\u001b[39;00musername\u001b[39m}\u001b[39;00m\u001b[39m terindikasi sebagai akun bot.\u001b[39m\u001b[39m\"\u001b[39m)\n\u001b[0;32m      <a href='vscode-notebook-cell:/e%3A/Kuliah/1.%20Skripsi/dataskripsi/1.scraping/.ipynb_checkpoints/modelRandomForest-checkpoint.ipynb#X10sZmlsZQ%3D%3D?line=6'>7</a>\u001b[0m \u001b[39melse\u001b[39;00m:\n",
      "\u001b[1;31mValueError\u001b[0m: The truth value of an array with more than one element is ambiguous. Use a.any() or a.all()"
     ]
    }
   ],
   "source": [
    "username = \"sbyfess\"\n",
    "is_bot = rfc.predict(X)  # X adalah data fitur dari akun Twitter yang akan diklasifikasikan\n",
    "\n",
    "# Menampilkan hasil klasifikasi\n",
    "if is_bot == 1:\n",
    "    print(f\"Akun {username} terindikasi sebagai akun bot.\")\n",
    "else:\n",
    "    print(f\"Akun {username} terindikasi sebagai akun human.\")"
   ]
  },
  {
   "cell_type": "code",
   "execution_count": null,
   "id": "c49ef372",
   "metadata": {},
   "outputs": [],
   "source": []
  }
 ],
 "metadata": {
  "kernelspec": {
   "display_name": "Python 3 (ipykernel)",
   "language": "python",
   "name": "python3"
  },
  "language_info": {
   "codemirror_mode": {
    "name": "ipython",
    "version": 3
   },
   "file_extension": ".py",
   "mimetype": "text/x-python",
   "name": "python",
   "nbconvert_exporter": "python",
   "pygments_lexer": "ipython3",
   "version": "3.9.7"
  }
 },
 "nbformat": 4,
 "nbformat_minor": 5
}

{
 "cells": [
  {
   "cell_type": "code",
   "execution_count": 1,
   "id": "5ed2d38f-4fce-43eb-9a6b-e8afd645a602",
   "metadata": {
    "tags": []
   },
   "outputs": [],
   "source": [
    "import pandas as pd\n",
    "from sklearn.metrics import confusion_matrix, precision_score, recall_score, f1_score,accuracy_score, classification_report\n",
    "from sklearn.model_selection import train_test_split\n",
    "from sklearn.ensemble import RandomForestClassifier\n",
    "import matplotlib.pyplot as plt\n",
    "import matplotlib as mpl\n",
    "import seaborn as sns\n",
    "from collections import OrderedDict\n",
    "import joblib\n",
    "from sklearn.preprocessing import MinMaxScaler\n",
    "from sklearn.pipeline import make_pipeline\n",
    "\n",
    "#data hasil preprocessing\n",
    "data_baru = pd.read_csv(\"hasilpreprocessing_training.csv\")\n",
    "\n",
    "# #memilih feature yang akan digunakan keculali 'account_type'\n",
    "X = data_baru.drop('account_type', axis=1)\n",
    "y = data_baru['account_type']\n",
    "\n",
    "# Split data into training and testing sets\n",
    "X_train, X_test, y_train, y_test = train_test_split(X,y, test_size=0.1, random_state=42)\n",
    "\n"
   ]
  },
  {
   "cell_type": "code",
   "execution_count": 2,
   "id": "87852685-0a8b-4759-bdff-4462b5c2ba2e",
   "metadata": {
    "tags": []
   },
   "outputs": [
    {
     "data": {
      "text/html": [
       "<div>\n",
       "<style scoped>\n",
       "    .dataframe tbody tr th:only-of-type {\n",
       "        vertical-align: middle;\n",
       "    }\n",
       "\n",
       "    .dataframe tbody tr th {\n",
       "        vertical-align: top;\n",
       "    }\n",
       "\n",
       "    .dataframe thead th {\n",
       "        text-align: right;\n",
       "    }\n",
       "</style>\n",
       "<table border=\"1\" class=\"dataframe\">\n",
       "  <thead>\n",
       "    <tr style=\"text-align: right;\">\n",
       "      <th></th>\n",
       "      <th>default_profile</th>\n",
       "      <th>favourites_count</th>\n",
       "      <th>followers_count</th>\n",
       "      <th>friends_count</th>\n",
       "      <th>id</th>\n",
       "      <th>location</th>\n",
       "      <th>statuses_count</th>\n",
       "      <th>verified</th>\n",
       "      <th>account_age_days</th>\n",
       "      <th>account_type</th>\n",
       "      <th>ratio_statuses_count_per_age</th>\n",
       "      <th>ratio_favorites_per_age</th>\n",
       "      <th>ratio_friends_per_followers</th>\n",
       "      <th>word_count</th>\n",
       "      <th>char_count</th>\n",
       "      <th>reputation</th>\n",
       "      <th>contains_bot_name</th>\n",
       "      <th>description_word_count</th>\n",
       "      <th>description_character_count</th>\n",
       "      <th>avg_word</th>\n",
       "    </tr>\n",
       "  </thead>\n",
       "  <tbody>\n",
       "    <tr>\n",
       "      <th>0</th>\n",
       "      <td>True</td>\n",
       "      <td>491</td>\n",
       "      <td>0</td>\n",
       "      <td>0</td>\n",
       "      <td>2559057222</td>\n",
       "      <td>True</td>\n",
       "      <td>116</td>\n",
       "      <td>False</td>\n",
       "      <td>2261</td>\n",
       "      <td>bot</td>\n",
       "      <td>0.051305</td>\n",
       "      <td>0.217161</td>\n",
       "      <td>2.709532</td>\n",
       "      <td>7</td>\n",
       "      <td>63</td>\n",
       "      <td>0.000000</td>\n",
       "      <td>False</td>\n",
       "      <td>7</td>\n",
       "      <td>57</td>\n",
       "      <td>8.142857</td>\n",
       "    </tr>\n",
       "    <tr>\n",
       "      <th>1</th>\n",
       "      <td>True</td>\n",
       "      <td>1390</td>\n",
       "      <td>16</td>\n",
       "      <td>22</td>\n",
       "      <td>119284832</td>\n",
       "      <td>True</td>\n",
       "      <td>2033</td>\n",
       "      <td>False</td>\n",
       "      <td>3822</td>\n",
       "      <td>bot</td>\n",
       "      <td>0.531920</td>\n",
       "      <td>0.363684</td>\n",
       "      <td>1.375000</td>\n",
       "      <td>1</td>\n",
       "      <td>1</td>\n",
       "      <td>0.421053</td>\n",
       "      <td>False</td>\n",
       "      <td>1</td>\n",
       "      <td>1</td>\n",
       "      <td>1.000000</td>\n",
       "    </tr>\n",
       "    <tr>\n",
       "      <th>2</th>\n",
       "      <td>True</td>\n",
       "      <td>1444</td>\n",
       "      <td>8789</td>\n",
       "      <td>721</td>\n",
       "      <td>19663518</td>\n",
       "      <td>True</td>\n",
       "      <td>6026</td>\n",
       "      <td>False</td>\n",
       "      <td>4220</td>\n",
       "      <td>human</td>\n",
       "      <td>1.427962</td>\n",
       "      <td>0.342180</td>\n",
       "      <td>0.082034</td>\n",
       "      <td>17</td>\n",
       "      <td>107</td>\n",
       "      <td>0.924185</td>\n",
       "      <td>False</td>\n",
       "      <td>17</td>\n",
       "      <td>91</td>\n",
       "      <td>5.352941</td>\n",
       "    </tr>\n",
       "    <tr>\n",
       "      <th>3</th>\n",
       "      <td>False</td>\n",
       "      <td>6013</td>\n",
       "      <td>649266</td>\n",
       "      <td>898</td>\n",
       "      <td>72878707</td>\n",
       "      <td>True</td>\n",
       "      <td>7224</td>\n",
       "      <td>False</td>\n",
       "      <td>3996</td>\n",
       "      <td>human</td>\n",
       "      <td>1.807808</td>\n",
       "      <td>1.504755</td>\n",
       "      <td>0.001383</td>\n",
       "      <td>3</td>\n",
       "      <td>18</td>\n",
       "      <td>0.998619</td>\n",
       "      <td>False</td>\n",
       "      <td>3</td>\n",
       "      <td>16</td>\n",
       "      <td>5.333333</td>\n",
       "    </tr>\n",
       "    <tr>\n",
       "      <th>4</th>\n",
       "      <td>False</td>\n",
       "      <td>66356</td>\n",
       "      <td>62501</td>\n",
       "      <td>3390</td>\n",
       "      <td>23595924</td>\n",
       "      <td>True</td>\n",
       "      <td>68308</td>\n",
       "      <td>True</td>\n",
       "      <td>4179</td>\n",
       "      <td>human</td>\n",
       "      <td>16.345537</td>\n",
       "      <td>15.878440</td>\n",
       "      <td>0.054239</td>\n",
       "      <td>22</td>\n",
       "      <td>148</td>\n",
       "      <td>0.948551</td>\n",
       "      <td>False</td>\n",
       "      <td>23</td>\n",
       "      <td>125</td>\n",
       "      <td>5.434783</td>\n",
       "    </tr>\n",
       "  </tbody>\n",
       "</table>\n",
       "</div>"
      ],
      "text/plain": [
       "   default_profile  favourites_count  followers_count  friends_count  \\\n",
       "0             True               491                0              0   \n",
       "1             True              1390               16             22   \n",
       "2             True              1444             8789            721   \n",
       "3            False              6013           649266            898   \n",
       "4            False             66356            62501           3390   \n",
       "\n",
       "           id  location  statuses_count  verified  account_age_days  \\\n",
       "0  2559057222      True             116     False              2261   \n",
       "1   119284832      True            2033     False              3822   \n",
       "2    19663518      True            6026     False              4220   \n",
       "3    72878707      True            7224     False              3996   \n",
       "4    23595924      True           68308      True              4179   \n",
       "\n",
       "  account_type  ratio_statuses_count_per_age  ratio_favorites_per_age  \\\n",
       "0          bot                      0.051305                 0.217161   \n",
       "1          bot                      0.531920                 0.363684   \n",
       "2        human                      1.427962                 0.342180   \n",
       "3        human                      1.807808                 1.504755   \n",
       "4        human                     16.345537                15.878440   \n",
       "\n",
       "   ratio_friends_per_followers  word_count  char_count  reputation  \\\n",
       "0                     2.709532           7          63    0.000000   \n",
       "1                     1.375000           1           1    0.421053   \n",
       "2                     0.082034          17         107    0.924185   \n",
       "3                     0.001383           3          18    0.998619   \n",
       "4                     0.054239          22         148    0.948551   \n",
       "\n",
       "   contains_bot_name  description_word_count  description_character_count  \\\n",
       "0              False                       7                           57   \n",
       "1              False                       1                            1   \n",
       "2              False                      17                           91   \n",
       "3              False                       3                           16   \n",
       "4              False                      23                          125   \n",
       "\n",
       "   avg_word  \n",
       "0  8.142857  \n",
       "1  1.000000  \n",
       "2  5.352941  \n",
       "3  5.333333  \n",
       "4  5.434783  "
      ]
     },
     "execution_count": 2,
     "metadata": {},
     "output_type": "execute_result"
    }
   ],
   "source": [
    "data_baru.head()"
   ]
  },
  {
   "cell_type": "code",
   "execution_count": 3,
   "id": "627381e9-12e0-48a5-a667-fbb733b54f75",
   "metadata": {
    "tags": []
   },
   "outputs": [
    {
     "name": "stdout",
     "output_type": "stream",
     "text": [
      "Akurasi: 0.8166666666666667\n"
     ]
    },
    {
     "data": {
      "image/png": "[encoded data removed]",
      "text/plain": [
       "<Figure size 576x576 with 1 Axes>"
      ]
     },
     "metadata": {
      "needs_background": "light"
     },
     "output_type": "display_data"
    }
   ],
   "source": [
    "# Membuat model Random Forest Classifier\n",
    "model = RandomForestClassifier(n_estimators=100, random_state=42)\n",
    "\n",
    "# Melatih model dengan data latih\n",
    "model.fit(X_train, y_train)\n",
    "\n",
    "tree_feature =  pd.Series(model.feature_importances_, X.columns).sort_values(ascending = True)\n",
    "plt.figure(figsize = (8,8))\n",
    "plt.barh(X.columns, tree_feature)\n",
    "plt.xlabel('Feature Important Score', fontsize = 12)\n",
    "plt.ylabel('Features', fontsize = 12)\n",
    "plt.yticks(fontsize = 12)\n",
    "plt.title('Visualizing Feature Importances', fontsize = 20)\n",
    "\n",
    "# Menampilkan angka per fitur pada visualisasi\n",
    "for i, v in enumerate(tree_feature):\n",
    "    plt.text(v, i, str(round(v, 2)), color='black', va='center')\n",
    "\n",
    "# memprediksi label atau target yang sesuai dengan fitur-fitur dalam X_test\n",
    "y_pred = model.predict(X_test)\n",
    "\n",
    "# Menghitung akurasi model pada dataset\n",
    "accuracy = accuracy_score(y_test, y_pred)\n",
    "\n",
    "print(\"Akurasi:\", accuracy)"
   ]
  },
  {
   "cell_type": "code",
   "execution_count": 4,
   "id": "47a16f9a-cb94-427a-98fb-5e1e56675d06",
   "metadata": {
    "tags": []
   },
   "outputs": [
    {
     "data": {
      "image/png": "[encoded data removed]",
      "text/plain": [
       "<Figure size 576x432 with 2 Axes>"
      ]
     },
     "metadata": {
      "needs_background": "light"
     },
     "output_type": "display_data"
    },
    {
     "name": "stdout",
     "output_type": "stream",
     "text": [
      "Confusion Matrix:\n",
      "----------------------------------------\n",
      "True Positif (TP): 67\n",
      "False Positif (FP): 14\n",
      "True Negatif (TN): 31\n",
      "False Negatif (FN): 8\n"
     ]
    }
   ],
   "source": [
    "#menghitung confusion matrix berdasarkan label sebenarnya (y_test) dan hasil prediksi model (y_pred)\n",
    "cm = confusion_matrix(y_test, y_pred)\n",
    "\n",
    "# membuat plot confusion matrix\n",
    "plt.figure(figsize=(8, 6))\n",
    "sns.heatmap(cm, annot=True, fmt='g', cmap='Blues')\n",
    "plt.xlabel('Predicted')\n",
    "plt.ylabel('Actual')\n",
    "plt.show()\n",
    "# print(cm)\n",
    "\n",
    "print(\"Confusion Matrix:\")\n",
    "print(\"----------------------------------------\")\n",
    "print(\"True Positif (TP):\", cm[1, 1])\n",
    "print(\"False Positif (FP):\", cm[0, 1])\n",
    "print(\"True Negatif (TN):\", cm[0, 0])\n",
    "print(\"False Negatif (FN):\", cm[1, 0])"
   ]
  },
  {
   "cell_type": "code",
   "execution_count": 5,
   "id": "3ba23f32",
   "metadata": {},
   "outputs": [
    {
     "name": "stdout",
     "output_type": "stream",
     "text": [
      "              precision    recall  f1-score   support\n",
      "\n",
      "         bot       0.79      0.69      0.74        45\n",
      "       human       0.83      0.89      0.86        75\n",
      "\n",
      "    accuracy                           0.82       120\n",
      "   macro avg       0.81      0.79      0.80       120\n",
      "weighted avg       0.82      0.82      0.81       120\n",
      "\n"
     ]
    }
   ],
   "source": [
    "# mencetak laporan klasifikasi\n",
    "print(classification_report(y_test, y_pred))"
   ]
  },
  {
   "cell_type": "code",
   "execution_count": 6,
   "id": "586251bc",
   "metadata": {
    "tags": []
   },
   "outputs": [
    {
     "data": {
      "text/plain": [
       "['model.pkl']"
      ]
     },
     "execution_count": 6,
     "metadata": {},
     "output_type": "execute_result"
    }
   ],
   "source": [
    "#menyimpan model klasifikasi Random Forest dengan menggunakan pipeline\n",
    "pipe = make_pipeline(MinMaxScaler(),RandomForestClassifier()) \n",
    "\n",
    "# melakukan pelatihan (fitting) model pada data pelatihan (X_train dan y_train).\n",
    "pipe.fit(X_train, y_train)\n",
    "\n",
    "#menyimpan model yang telah dilatih ke dalam file dengan ekstensi .pkl\n",
    "joblib.dump(pipe, 'model.pkl')"
   ]
  }
 ],
 "metadata": {
  "kernelspec": {
   "display_name": "Python 3 (ipykernel)",
   "language": "python",
   "name": "python3"
  },
  "language_info": {
   "codemirror_mode": {
    "name": "ipython",
    "version": 3
   },
   "file_extension": ".py",
   "mimetype": "text/x-python",
   "name": "python",
   "nbconvert_exporter": "python",
   "pygments_lexer": "ipython3",
   "version": "3.9.7"
  },
  "vscode": {
   "interpreter": {
    "hash": "0f10d22a3628a9f0fd1ad0104081a91081d2b40cc3ba42563365157939c62f11"
   }
  }
 },
 "nbformat": 4,
 "nbformat_minor": 5
}

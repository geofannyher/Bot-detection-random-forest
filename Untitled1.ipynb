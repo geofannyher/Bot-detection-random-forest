{
 "cells": [
  {
   "cell_type": "code",
   "execution_count": 1,
   "id": "ce2ef128-150c-471f-b9d6-1e66ba814441",
   "metadata": {
    "tags": []
   },
   "outputs": [
    {
     "name": "stdout",
     "output_type": "stream",
     "text": [
      "RT @banyaklukanyaa: Promo shopee edufair buat upgrade skill 🥳\n",
      "\n",
      "🚀 MySkill - Paket Video E-Learning 1 Bulan berserifikat hanya dengan Rp9.800…\n"
     ]
    }
   ],
   "source": [
    "import pandas as pd\n",
    "\n",
    "# baca file csv\n",
    "data = pd.read_csv(\"awesomeposted.csv\")\n",
    "\n",
    "# tampilkan teks pada line 64\n",
    "teks = data.iloc[63]['text']\n",
    "print(teks)\n"
   ]
  }
 ],
 "metadata": {
  "kernelspec": {
   "display_name": "Python 3 (ipykernel)",
   "language": "python",
   "name": "python3"
  },
  "language_info": {
   "codemirror_mode": {
    "name": "ipython",
    "version": 3
   },
   "file_extension": ".py",
   "mimetype": "text/x-python",
   "name": "python",
   "nbconvert_exporter": "python",
   "pygments_lexer": "ipython3",
   "version": "3.9.7"
  }
 },
 "nbformat": 4,
 "nbformat_minor": 5
}

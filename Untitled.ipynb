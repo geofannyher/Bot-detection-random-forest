{
 "cells": [
  {
   "cell_type": "code",
   "execution_count": 1,
   "id": "dfe0dd12-434c-4c92-b5f8-ae7853d3db88",
   "metadata": {
    "tags": []
   },
   "outputs": [],
   "source": [
    "import tweepy\n",
    "import pandas as pd\n",
    "\n",
    "# Masukkan API key, API secret key, access token, dan access token secret\n",
    "consumer_key = \"1jyHN0gmb7kOrPs7raCZuYwNZ\"\n",
    "consumer_secret = \"nrFnPcbVUAS7N1tHQowC08DdtHakyLr3vR1cEEhMRsbbwG02R7\"\n",
    "access_token = \"1215248323579236353-c1VL0Ti9bntvKPHNdX4vWjKvzxmrvB\"\n",
    "access_token_secret = \"NachpxfacgvB1uQ5zfKli8seAvYkDHi0ULjqqXYEGSUb2\"\n",
    "\n",
    "auth = tweepy.OAuthHandler(consumer_key, consumer_secret)\n",
    "auth.set_access_token(access_token, access_token_secret)\n",
    "\n",
    "# Membuat API dengan autentikasi yang sudah dibuat\n",
    "api = tweepy.API(auth)\n",
    "\n",
    "# Menentukan username yang akan diambil datanya\n",
    "username = \"@xotisss\"\n",
    "\n",
    "# Mengambil 1000 tweet terbaru dari akun Twitter\n",
    "tweets = api.user_timeline(screen_name=username, count=100)\n",
    "\n",
    "# Memasukkan data tweet ke dalam list\n",
    "tweets_data = [[tweet.user.screen_name, tweet.id, tweet.text, tweet.favorite_count, tweet.retweet_count] for tweet in tweets]\n",
    "\n",
    "# Memasukkan data list ke dalam dataframe Pandas\n",
    "df = pd.DataFrame(tweets_data, columns=[\"Username\", \"ID Tweet\", \"Isi Tweet\", \"Jumlah Like\", \"Jumlah Retweet\"])\n",
    "\n",
    "# Menyimpan dataframe ke dalam file CSV\n",
    "df.to_csv(\"tweets.csv\", index=False)\n"
   ]
  }
 ],
 "metadata": {
  "kernelspec": {
   "display_name": "Python 3 (ipykernel)",
   "language": "python",
   "name": "python3"
  },
  "language_info": {
   "codemirror_mode": {
    "name": "ipython",
    "version": 3
   },
   "file_extension": ".py",
   "mimetype": "text/x-python",
   "name": "python",
   "nbconvert_exporter": "python",
   "pygments_lexer": "ipython3",
   "version": "3.9.7"
  }
 },
 "nbformat": 4,
 "nbformat_minor": 5
}

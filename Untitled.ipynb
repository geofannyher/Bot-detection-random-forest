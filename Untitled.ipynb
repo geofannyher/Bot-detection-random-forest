{
 "cells": [
  {
   "cell_type": "code",
   "execution_count": 17,
   "id": "dfe0dd12-434c-4c92-b5f8-ae7853d3db88",
   "metadata": {
    "tags": []
   },
   "outputs": [],
   "source": [
    "import pandas as pd\n",
    "\n",
    "# load dataset\n",
    "df = pd.read_csv('dataset_tweet_baru.csv')\n",
    "\n",
    "# memisahkan dataset menjadi 2 bagian, dengan rasio 80:20\n",
    "train_data = df.sample(frac=0.8, random_state=42)\n",
    "test_data = df.drop(train_data.index)\n",
    "\n",
    "# menyimpan dataset training dan testing ke dalam format CSV\n",
    "train_data.to_csv('training_dataset.csv', index=False)\n",
    "test_data.to_csv('testing_dataset.csv', index=False)\n"
   ]
  },
  {
   "cell_type": "code",
   "execution_count": 22,
   "id": "55e41734-97cc-4b66-b749-9aebd2faf08e",
   "metadata": {
    "tags": []
   },
   "outputs": [],
   "source": [
    "import pandas as pd\n",
    "\n",
    "# baca file CSV dan hapus kolom Unnamed\n",
    "data = pd.read_csv('datatest.csv')\n",
    "data = data.loc[:, ~data.columns.str.contains('^Unnamed')]\n",
    "\n",
    "# simpan ke file CSV tanpa kolom Unnamed\n",
    "data.to_csv('datatest2.csv', index=False)"
   ]
  },
  {
   "cell_type": "code",
   "execution_count": 12,
   "id": "c484df75",
   "metadata": {},
   "outputs": [],
   "source": [
    "import pandas as pd\n",
    "\n",
    "# membaca dataset\n",
    "dataset = pd.read_csv('twitter_human_bots_dataset.csv')\n"
   ]
  },
  {
   "cell_type": "code",
   "execution_count": 13,
   "id": "fc0273a3-5748-461f-9659-c9b73e2bd1b3",
   "metadata": {},
   "outputs": [],
   "source": [
    "\n",
    "# menghapus kolom yang tidak diperlukan\n",
    "dataset = dataset.drop(['default_profile_image', 'geo_enabled','lang','profile_background_image_url','profile_image_url','average_tweets_per_day'], axis=1)\n",
    "\n",
    "# menyimpan dataset yang telah dimodifikasi ke file CSV baru\n",
    "dataset.to_csv('dataset_tweet_baru.csv', index=False)"
   ]
  },
  {
   "cell_type": "code",
   "execution_count": 14,
   "id": "917e60e6",
   "metadata": {
    "tags": []
   },
   "outputs": [],
   "source": [
    "#potong data\n",
    "import pandas as pd\n",
    "\n",
    "# Load dataset\n",
    "df = pd.read_csv('dataset_tweet_baru.csv')\n",
    "\n",
    "# Slice dataset to 2000 rows\n",
    "df = df[:1500]\n",
    "\n",
    "# Save sliced dataset to CSV\n",
    "df.to_csv('dataset_tweet_baru1500.csv', index=False)\n"
   ]
  },
  {
   "cell_type": "code",
   "execution_count": 21,
   "id": "912d16d4",
   "metadata": {},
   "outputs": [
    {
     "name": "stdout",
     "output_type": "stream",
     "text": [
      "Data dengan ID yang diberikan:\n"
     ]
    }
   ],
   "source": [
    "import pandas as pd\n",
    "\n",
    "# Membaca dataset dari file CSV\n",
    "df = pd.read_csv('testing_dataset.csv')\n",
    "\n",
    "# Mengambil data dengan ID yang diberikan\n",
    "id_list = [19923515, 495716215, 258478116, 4469821522, 393483438,23330998,21758143,235667666,1015021614,211550281]\n",
    "filtered_data = df[df['id'].isin(id_list)]\n",
    "\n",
    "# Menampilkan hasil\n",
    "print(\"Data dengan ID yang diberikan:\")\n",
    "filtered_data.to_csv('datatest.csv')\n"
   ]
  },
  {
   "cell_type": "code",
   "execution_count": null,
   "id": "5db276a0-9fb7-49ef-b8ae-820d07b335cf",
   "metadata": {},
   "outputs": [],
   "source": []
  }
 ],
 "metadata": {
  "kernelspec": {
   "display_name": "Python 3 (ipykernel)",
   "language": "python",
   "name": "python3"
  },
  "language_info": {
   "codemirror_mode": {
    "name": "ipython",
    "version": 3
   },
   "file_extension": ".py",
   "mimetype": "text/x-python",
   "name": "python",
   "nbconvert_exporter": "python",
   "pygments_lexer": "ipython3",
   "version": "3.9.7"
  },
  "vscode": {
   "interpreter": {
    "hash": "0f10d22a3628a9f0fd1ad0104081a91081d2b40cc3ba42563365157939c62f11"
   }
  }
 },
 "nbformat": 4,
 "nbformat_minor": 5
}

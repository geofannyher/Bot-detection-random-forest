{
 "cells": [
  {
   "cell_type": "code",
   "execution_count": 1,
   "id": "c538659f-2c1e-427e-87e2-872c338386b0",
   "metadata": {},
   "outputs": [],
   "source": [
    "#import Library\n",
    "import tweepy as tw\n",
    "import csv\n",
    "import pandas as pd\n",
    "from datetime import timedelta, datetime"
   ]
  },
  {
   "cell_type": "code",
   "execution_count": 2,
   "id": "a2cef28e-be4e-4767-89d4-e28d7aeb0c73",
   "metadata": {},
   "outputs": [],
   "source": [
    "access_token = '1215248323579236353-c1VL0Ti9bntvKPHNdX4vWjKvzxmrvB'\n",
    "access_token_secret = 'NachpxfacgvB1uQ5zfKli8seAvYkDHi0ULjqqXYEGSUb2'\n",
    "consumer_key = '1jyHN0gmb7kOrPs7raCZuYwNZ'\n",
    "consumer_key_secret = 'nrFnPcbVUAS7N1tHQowC08DdtHakyLr3vR1cEEhMRsbbwG02R7'"
   ]
  },
  {
   "cell_type": "code",
   "execution_count": 3,
   "id": "7864076c-f83b-4a78-8501-97c460f7754d",
   "metadata": {},
   "outputs": [],
   "source": [
    "auth = tw.OAuthHandler(consumer_key,consumer_key_secret)\n",
    "auth.set_access_token(access_token,access_token_secret)\n",
    "api = tw.API(auth, wait_on_rate_limit=True)"
   ]
  },
  {
   "cell_type": "code",
   "execution_count": 4,
   "id": "590afdf4-045a-4f1d-bfed-91b04fc2118d",
   "metadata": {},
   "outputs": [],
   "source": [
    "\n",
    "def scrape_tweets_by_username(username,total):\n",
    "    tweets_list = []\n",
    "    tweets = api.user_timeline(screen_name=username,count=total)\n",
    "    \n",
    "    for tweet in tweets:\n",
    "        _tweet = {\n",
    "            \"id\" : tweet.id_str,\n",
    "            \"username\" : tweet.user.screen_name,\n",
    "            \"text\" : tweet.text,\n",
    "            \"retweet_count\" : tweet.retweet_count,\n",
    "            \"like_count\" : tweet.favorite_count,\n",
    "            \"created_at\" : tweet.created_at,\n",
    "        }\n",
    "        \n",
    "        tweets_list.append(_tweet)\n",
    "        \n",
    "        df_tweets = pd.DataFrame(tweets_list)\n",
    "    return df_tweets"
   ]
  },
  {
   "cell_type": "code",
   "execution_count": 5,
   "id": "13aa5bb6-1e8c-48b5-8cfa-c7e90f543139",
   "metadata": {},
   "outputs": [
    {
     "name": "stdout",
     "output_type": "stream",
     "text": [
      "Proses Scrape Tweet By Username Selesai. Total  id               198\n",
      "username         198\n",
      "text             198\n",
      "retweet_count    198\n",
      "like_count       198\n",
      "created_at       198\n",
      "dtype: int64\n"
     ]
    }
   ],
   "source": [
    "df_tweets_by_username = scrape_tweets_by_username(\"@dayatpiliang\",200)\n",
    "print(\"Proses Scrape Tweet By Username Selesai. Total \",df_tweets_by_username.count())"
   ]
  },
  {
   "cell_type": "code",
   "execution_count": 6,
   "id": "31dd5cf8-2391-479f-81a4-d9d22c8c9948",
   "metadata": {},
   "outputs": [],
   "source": [
    "today = datetime.today().strftime(\"%Y-%m-%d\")\n",
    "last_week = (datetime.today() - timedelta(30)).strftime(\"%Y-%m-%d\") #30 hari terakhir\n",
    "date_since = last_week\n",
    "date_until = today"
   ]
  },
  {
   "cell_type": "code",
   "execution_count": 7,
   "id": "fc93c182-7b17-4b39-a6ac-4033307e3a74",
   "metadata": {
    "tags": []
   },
   "outputs": [],
   "source": [
    "filename = \"Hasil3.csv\"\n",
    "df_tweets_by_username.to_csv(filename)"
   ]
  }
 ],
 "metadata": {
  "kernelspec": {
   "display_name": "Python 3 (ipykernel)",
   "language": "python",
   "name": "python3"
  },
  "language_info": {
   "codemirror_mode": {
    "name": "ipython",
    "version": 3
   },
   "file_extension": ".py",
   "mimetype": "text/x-python",
   "name": "python",
   "nbconvert_exporter": "python",
   "pygments_lexer": "ipython3",
   "version": "3.9.7"
  }
 },
 "nbformat": 4,
 "nbformat_minor": 5
}

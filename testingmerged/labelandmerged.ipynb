{
 "cells": [
  {
   "cell_type": "code",
   "execution_count": 2,
   "id": "2ae6007e-c5a6-4941-994e-04685304c794",
   "metadata": {
    "tags": []
   },
   "outputs": [],
   "source": [
    "import pandas as pd\n",
    "import os\n",
    "\n",
    "# mengambil semua file CSV pada folder yang sama\n",
    "csv_files = [f for f in os.listdir('.') if f.endswith('.csv')]\n",
    "\n",
    "# membuat list kosong untuk menampung dataframe hasil pembacaan file\n",
    "dfs = []\n",
    "\n",
    "# loop melalui setiap file dan membaca isinya\n",
    "for file in csv_files:\n",
    "    df = pd.read_csv(file)\n",
    "    \n",
    "    # cek apakah ada string 'http' pada kolom 'text'\n",
    "    df['label'] = df['text'].str.contains('http').astype(int)\n",
    "    \n",
    "    # tambahkan dataframe ke list dfs\n",
    "    dfs.append(df)\n",
    "\n",
    "# gabungkan semua dataframe menjadi satu dataframe\n",
    "merged_df = pd.concat(dfs, ignore_index=True)\n",
    "\n",
    "# simpan dataframe hasil gabungan ke file CSV baru\n",
    "merged_df.to_csv('hasilsemualabel.csv', index=False)\n"
   ]
  },
  {
   "cell_type": "code",
   "execution_count": null,
   "id": "6a7affae-5955-41ff-b4fc-8b6418139d2b",
   "metadata": {},
   "outputs": [],
   "source": []
  }
 ],
 "metadata": {
  "kernelspec": {
   "display_name": "Python 3 (ipykernel)",
   "language": "python",
   "name": "python3"
  },
  "language_info": {
   "codemirror_mode": {
    "name": "ipython",
    "version": 3
   },
   "file_extension": ".py",
   "mimetype": "text/x-python",
   "name": "python",
   "nbconvert_exporter": "python",
   "pygments_lexer": "ipython3",
   "version": "3.9.7"
  }
 },
 "nbformat": 4,
 "nbformat_minor": 5
}

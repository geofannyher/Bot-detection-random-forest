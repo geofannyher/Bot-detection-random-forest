{
 "cells": [
  {
   "cell_type": "code",
   "execution_count": 91,
   "id": "5ed2d38f-4fce-43eb-9a6b-e8afd645a602",
   "metadata": {
    "tags": []
   },
   "outputs": [],
   "source": [
    "import pandas as pd\n",
    "from sklearn.metrics import confusion_matrix, precision_score, recall_score, f1_score,accuracy_score, classification_report\n",
    "from sklearn.model_selection import train_test_split\n",
    "from sklearn.ensemble import RandomForestClassifier\n",
    "import matplotlib.pyplot as plt\n",
    "from sklearn.feature_extraction.text import TfidfVectorizer\n",
    "\n",
    "data_baru = pd.read_csv(\"hasilpreprocessing_training.csv\")\n",
    "# #memilih feature yang akan digunakan\n",
    "X = data_baru.drop('account_type', axis=1) # Memilih semua kolom kecuali 'class'\n",
    "y = data_baru['account_type']\n",
    "\n",
    "# Split data into training and testing sets\n",
    "X_train, X_test, y_train, y_test = train_test_split(X,y, test_size=0.1, random_state=42)\n"
   ]
  },
  {
   "cell_type": "code",
   "execution_count": 92,
   "id": "87852685-0a8b-4759-bdff-4462b5c2ba2e",
   "metadata": {
    "tags": []
   },
   "outputs": [
    {
     "data": {
      "text/html": [
       "<div>\n",
       "<style scoped>\n",
       "    .dataframe tbody tr th:only-of-type {\n",
       "        vertical-align: middle;\n",
       "    }\n",
       "\n",
       "    .dataframe tbody tr th {\n",
       "        vertical-align: top;\n",
       "    }\n",
       "\n",
       "    .dataframe thead th {\n",
       "        text-align: right;\n",
       "    }\n",
       "</style>\n",
       "<table border=\"1\" class=\"dataframe\">\n",
       "  <thead>\n",
       "    <tr style=\"text-align: right;\">\n",
       "      <th></th>\n",
       "      <th>default_profile</th>\n",
       "      <th>favourites_count</th>\n",
       "      <th>followers_count</th>\n",
       "      <th>friends_count</th>\n",
       "      <th>location</th>\n",
       "      <th>statuses_count</th>\n",
       "      <th>verified</th>\n",
       "      <th>account_age_days</th>\n",
       "      <th>account_type</th>\n",
       "      <th>ratio_statuses_count_per_age</th>\n",
       "      <th>ratio_favorites_per_age</th>\n",
       "      <th>ratio_friends_per_followers</th>\n",
       "      <th>word_count</th>\n",
       "      <th>char_count</th>\n",
       "      <th>reputation</th>\n",
       "      <th>contains_bot_name</th>\n",
       "      <th>description_word_count</th>\n",
       "      <th>description_character_count</th>\n",
       "      <th>avg_word</th>\n",
       "    </tr>\n",
       "  </thead>\n",
       "  <tbody>\n",
       "    <tr>\n",
       "      <th>0</th>\n",
       "      <td>True</td>\n",
       "      <td>2169</td>\n",
       "      <td>0</td>\n",
       "      <td>111</td>\n",
       "      <td>True</td>\n",
       "      <td>2195</td>\n",
       "      <td>False</td>\n",
       "      <td>2875</td>\n",
       "      <td>bot</td>\n",
       "      <td>0.763478</td>\n",
       "      <td>0.754435</td>\n",
       "      <td>2.303236</td>\n",
       "      <td>18</td>\n",
       "      <td>102</td>\n",
       "      <td>0.000000</td>\n",
       "      <td>False</td>\n",
       "      <td>18</td>\n",
       "      <td>85</td>\n",
       "      <td>4.722222</td>\n",
       "    </tr>\n",
       "    <tr>\n",
       "      <th>1</th>\n",
       "      <td>True</td>\n",
       "      <td>54</td>\n",
       "      <td>6</td>\n",
       "      <td>65</td>\n",
       "      <td>True</td>\n",
       "      <td>11</td>\n",
       "      <td>False</td>\n",
       "      <td>4014</td>\n",
       "      <td>bot</td>\n",
       "      <td>0.002740</td>\n",
       "      <td>0.013453</td>\n",
       "      <td>10.833333</td>\n",
       "      <td>8</td>\n",
       "      <td>54</td>\n",
       "      <td>0.084507</td>\n",
       "      <td>False</td>\n",
       "      <td>8</td>\n",
       "      <td>47</td>\n",
       "      <td>5.875000</td>\n",
       "    </tr>\n",
       "    <tr>\n",
       "      <th>2</th>\n",
       "      <td>False</td>\n",
       "      <td>34328</td>\n",
       "      <td>1132</td>\n",
       "      <td>468</td>\n",
       "      <td>True</td>\n",
       "      <td>28628</td>\n",
       "      <td>False</td>\n",
       "      <td>2988</td>\n",
       "      <td>human</td>\n",
       "      <td>9.580991</td>\n",
       "      <td>11.488621</td>\n",
       "      <td>0.413428</td>\n",
       "      <td>10</td>\n",
       "      <td>54</td>\n",
       "      <td>0.707500</td>\n",
       "      <td>False</td>\n",
       "      <td>10</td>\n",
       "      <td>45</td>\n",
       "      <td>4.500000</td>\n",
       "    </tr>\n",
       "    <tr>\n",
       "      <th>3</th>\n",
       "      <td>False</td>\n",
       "      <td>6737</td>\n",
       "      <td>83</td>\n",
       "      <td>382</td>\n",
       "      <td>True</td>\n",
       "      <td>13023</td>\n",
       "      <td>False</td>\n",
       "      <td>2277</td>\n",
       "      <td>human</td>\n",
       "      <td>5.719368</td>\n",
       "      <td>2.958718</td>\n",
       "      <td>4.602410</td>\n",
       "      <td>1</td>\n",
       "      <td>21</td>\n",
       "      <td>0.178495</td>\n",
       "      <td>False</td>\n",
       "      <td>2</td>\n",
       "      <td>20</td>\n",
       "      <td>10.000000</td>\n",
       "    </tr>\n",
       "    <tr>\n",
       "      <th>4</th>\n",
       "      <td>False</td>\n",
       "      <td>13498</td>\n",
       "      <td>4397</td>\n",
       "      <td>198</td>\n",
       "      <td>True</td>\n",
       "      <td>15257</td>\n",
       "      <td>False</td>\n",
       "      <td>3036</td>\n",
       "      <td>human</td>\n",
       "      <td>5.025362</td>\n",
       "      <td>4.445982</td>\n",
       "      <td>0.045031</td>\n",
       "      <td>19</td>\n",
       "      <td>157</td>\n",
       "      <td>0.956910</td>\n",
       "      <td>False</td>\n",
       "      <td>19</td>\n",
       "      <td>139</td>\n",
       "      <td>7.315789</td>\n",
       "    </tr>\n",
       "  </tbody>\n",
       "</table>\n",
       "</div>"
      ],
      "text/plain": [
       "   default_profile  favourites_count  followers_count  friends_count  \\\n",
       "0             True              2169                0            111   \n",
       "1             True                54                6             65   \n",
       "2            False             34328             1132            468   \n",
       "3            False              6737               83            382   \n",
       "4            False             13498             4397            198   \n",
       "\n",
       "   location  statuses_count  verified  account_age_days account_type  \\\n",
       "0      True            2195     False              2875          bot   \n",
       "1      True              11     False              4014          bot   \n",
       "2      True           28628     False              2988        human   \n",
       "3      True           13023     False              2277        human   \n",
       "4      True           15257     False              3036        human   \n",
       "\n",
       "   ratio_statuses_count_per_age  ratio_favorites_per_age  \\\n",
       "0                      0.763478                 0.754435   \n",
       "1                      0.002740                 0.013453   \n",
       "2                      9.580991                11.488621   \n",
       "3                      5.719368                 2.958718   \n",
       "4                      5.025362                 4.445982   \n",
       "\n",
       "   ratio_friends_per_followers  word_count  char_count  reputation  \\\n",
       "0                     2.303236          18         102    0.000000   \n",
       "1                    10.833333           8          54    0.084507   \n",
       "2                     0.413428          10          54    0.707500   \n",
       "3                     4.602410           1          21    0.178495   \n",
       "4                     0.045031          19         157    0.956910   \n",
       "\n",
       "   contains_bot_name  description_word_count  description_character_count  \\\n",
       "0              False                      18                           85   \n",
       "1              False                       8                           47   \n",
       "2              False                      10                           45   \n",
       "3              False                       2                           20   \n",
       "4              False                      19                          139   \n",
       "\n",
       "    avg_word  \n",
       "0   4.722222  \n",
       "1   5.875000  \n",
       "2   4.500000  \n",
       "3  10.000000  \n",
       "4   7.315789  "
      ]
     },
     "execution_count": 92,
     "metadata": {},
     "output_type": "execute_result"
    }
   ],
   "source": [
    "data_baru.head()"
   ]
  },
  {
   "cell_type": "code",
   "execution_count": 93,
   "id": "627381e9-12e0-48a5-a667-fbb733b54f75",
   "metadata": {
    "tags": []
   },
   "outputs": [
    {
     "name": "stdout",
     "output_type": "stream",
     "text": [
      "Akurasi: 0.8666666666666667\n"
     ]
    },
    {
     "data": {
      "image/png": "[encoded data removed]",
      "text/plain": [
       "<Figure size 576x576 with 1 Axes>"
      ]
     },
     "metadata": {
      "needs_background": "light"
     },
     "output_type": "display_data"
    }
   ],
   "source": [
    "# Membuat model Random Forest Classifier\n",
    "model = RandomForestClassifier(n_estimators=100, random_state=42)\n",
    "\n",
    "# Melatih model dengan data latih\n",
    "model.fit(X_train, y_train)\n",
    "\n",
    "tree_feature =  pd.Series(model.feature_importances_, X.columns).sort_values(ascending = True)\n",
    "plt.figure(figsize = (8,8))\n",
    "plt.barh(X.columns, tree_feature)\n",
    "plt.xlabel('Feature Important Score', fontsize = 12)\n",
    "plt.ylabel('Features', fontsize = 12)\n",
    "plt.yticks(fontsize = 12)\n",
    "plt.title('Visualizing Feature Importances', fontsize = 20)\n",
    "# Memprediksi label pada data uji\n",
    "y_pred = model.predict(X_test)\n",
    "\n",
    "# Menghitung akurasi\n",
    "accuracy = accuracy_score(y_test, y_pred)\n",
    "print(\"Akurasi:\", accuracy)"
   ]
  },
  {
   "cell_type": "code",
   "execution_count": 94,
   "id": "47a16f9a-cb94-427a-98fb-5e1e56675d06",
   "metadata": {
    "tags": []
   },
   "outputs": [
    {
     "data": {
      "image/png": "[encoded data removed]",
      "text/plain": [
       "<Figure size 432x288 with 2 Axes>"
      ]
     },
     "metadata": {
      "needs_background": "light"
     },
     "output_type": "display_data"
    },
    {
     "name": "stdout",
     "output_type": "stream",
     "text": [
      "[[32  8]\n",
      " [ 8 72]]\n"
     ]
    }
   ],
   "source": [
    "import matplotlib as mpl\n",
    "import seaborn as sns\n",
    "from matplotlib import pyplot as plt\n",
    "from collections import OrderedDict\n",
    "\n",
    "cm = confusion_matrix(y_test, y_pred)\n",
    "\n",
    "# membuat plot confusion matrix\n",
    "sns.heatmap(cm, annot=True, fmt='g')\n",
    "plt.xlabel('Predicted')\n",
    "plt.ylabel('Actual')\n",
    "plt.show()\n",
    "print(cm)"
   ]
  },
  {
   "cell_type": "code",
   "execution_count": 95,
   "id": "3ba23f32",
   "metadata": {},
   "outputs": [
    {
     "name": "stdout",
     "output_type": "stream",
     "text": [
      "              precision    recall  f1-score   support\n",
      "\n",
      "         bot       0.80      0.80      0.80        40\n",
      "       human       0.90      0.90      0.90        80\n",
      "\n",
      "    accuracy                           0.87       120\n",
      "   macro avg       0.85      0.85      0.85       120\n",
      "weighted avg       0.87      0.87      0.87       120\n",
      "\n"
     ]
    }
   ],
   "source": [
    "print(classification_report(y_test, y_pred))"
   ]
  },
  {
   "cell_type": "code",
   "execution_count": 96,
   "id": "586251bc",
   "metadata": {},
   "outputs": [
    {
     "data": {
      "text/plain": [
       "['model.pkl']"
      ]
     },
     "execution_count": 96,
     "metadata": {},
     "output_type": "execute_result"
    }
   ],
   "source": [
    "#untuk menyimpan model\n",
    "import joblib\n",
    "from sklearn.preprocessing import MinMaxScaler\n",
    "from sklearn.pipeline import make_pipeline\n",
    "pipe = make_pipeline(MinMaxScaler(),RandomForestClassifier()) \n",
    "pipe.fit(X_train, y_train)\n",
    "joblib.dump(pipe, 'model.pkl')"
   ]
  }
 ],
 "metadata": {
  "kernelspec": {
   "display_name": "Python 3 (ipykernel)",
   "language": "python",
   "name": "python3"
  },
  "language_info": {
   "codemirror_mode": {
    "name": "ipython",
    "version": 3
   },
   "file_extension": ".py",
   "mimetype": "text/x-python",
   "name": "python",
   "nbconvert_exporter": "python",
   "pygments_lexer": "ipython3",
   "version": "3.9.7"
  },
  "vscode": {
   "interpreter": {
    "hash": "0f10d22a3628a9f0fd1ad0104081a91081d2b40cc3ba42563365157939c62f11"
   }
  }
 },
 "nbformat": 4,
 "nbformat_minor": 5
}

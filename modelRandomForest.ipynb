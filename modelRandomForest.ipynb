{
 "cells": [
  {
   "cell_type": "code",
   "execution_count": 1,
   "id": "7bc20976-2acc-44a6-af1c-4310094ed498",
   "metadata": {
    "tags": []
   },
   "outputs": [],
   "source": [
    "import pandas as pd\n",
    "import matplotlib.pyplot as plt\n",
    "from sklearn.feature_extraction.text import TfidfVectorizer\n",
    "from sklearn.ensemble import RandomForestClassifier\n",
    "from sklearn.model_selection import train_test_split\n",
    "from sklearn.metrics import confusion_matrix, precision_score, recall_score, f1_score,accuracy_score, classification_report\n",
    "import numpy as np\n"
   ]
  },
  {
   "cell_type": "code",
   "execution_count": 2,
   "id": "f84de6e4-4e23-428d-91b4-3ec5006651a0",
   "metadata": {
    "tags": []
   },
   "outputs": [
    {
     "data": {
      "text/html": [
       "<div>\n",
       "<style scoped>\n",
       "    .dataframe tbody tr th:only-of-type {\n",
       "        vertical-align: middle;\n",
       "    }\n",
       "\n",
       "    .dataframe tbody tr th {\n",
       "        vertical-align: top;\n",
       "    }\n",
       "\n",
       "    .dataframe thead th {\n",
       "        text-align: right;\n",
       "    }\n",
       "</style>\n",
       "<table border=\"1\" class=\"dataframe\">\n",
       "  <thead>\n",
       "    <tr style=\"text-align: right;\">\n",
       "      <th></th>\n",
       "      <th>created_at</th>\n",
       "      <th>default_profile</th>\n",
       "      <th>description</th>\n",
       "      <th>favourites_count</th>\n",
       "      <th>followers_count</th>\n",
       "      <th>friends_count</th>\n",
       "      <th>id</th>\n",
       "      <th>location</th>\n",
       "      <th>screen_name</th>\n",
       "      <th>statuses_count</th>\n",
       "      <th>verified</th>\n",
       "      <th>account_age_days</th>\n",
       "      <th>account_type</th>\n",
       "    </tr>\n",
       "  </thead>\n",
       "  <tbody>\n",
       "    <tr>\n",
       "      <th>0</th>\n",
       "      <td>2014-06-10 13:48:21</td>\n",
       "      <td>True</td>\n",
       "      <td>Cosplay master. Unicorn. Waiting you at https:...</td>\n",
       "      <td>491</td>\n",
       "      <td>0</td>\n",
       "      <td>0</td>\n",
       "      <td>2559057222</td>\n",
       "      <td>unknown</td>\n",
       "      <td>lavenderr90</td>\n",
       "      <td>116</td>\n",
       "      <td>False</td>\n",
       "      <td>2261</td>\n",
       "      <td>bot</td>\n",
       "    </tr>\n",
       "    <tr>\n",
       "      <th>1</th>\n",
       "      <td>2010-03-03 05:34:58</td>\n",
       "      <td>True</td>\n",
       "      <td>NaN</td>\n",
       "      <td>1390</td>\n",
       "      <td>16</td>\n",
       "      <td>22</td>\n",
       "      <td>119284832</td>\n",
       "      <td>unknown</td>\n",
       "      <td>sherrik2326384</td>\n",
       "      <td>2033</td>\n",
       "      <td>False</td>\n",
       "      <td>3822</td>\n",
       "      <td>bot</td>\n",
       "    </tr>\n",
       "    <tr>\n",
       "      <th>2</th>\n",
       "      <td>2009-01-28 17:30:10</td>\n",
       "      <td>True</td>\n",
       "      <td>The official Twitter account for San Antonio C...</td>\n",
       "      <td>1444</td>\n",
       "      <td>8789</td>\n",
       "      <td>721</td>\n",
       "      <td>19663518</td>\n",
       "      <td>San Antonio, TX</td>\n",
       "      <td>SAC_PR</td>\n",
       "      <td>6026</td>\n",
       "      <td>False</td>\n",
       "      <td>4220</td>\n",
       "      <td>human</td>\n",
       "    </tr>\n",
       "    <tr>\n",
       "      <th>3</th>\n",
       "      <td>2009-09-09 15:32:48</td>\n",
       "      <td>False</td>\n",
       "      <td>The Panda’s Friend</td>\n",
       "      <td>6013</td>\n",
       "      <td>649266</td>\n",
       "      <td>898</td>\n",
       "      <td>72878707</td>\n",
       "      <td>Los Angeles, CA</td>\n",
       "      <td>MettaWorld37</td>\n",
       "      <td>7224</td>\n",
       "      <td>False</td>\n",
       "      <td>3996</td>\n",
       "      <td>human</td>\n",
       "    </tr>\n",
       "    <tr>\n",
       "      <th>4</th>\n",
       "      <td>2009-03-10 14:16:09</td>\n",
       "      <td>False</td>\n",
       "      <td>I've wrestled for the #WWE, I'm an #ECW Origin...</td>\n",
       "      <td>66356</td>\n",
       "      <td>62501</td>\n",
       "      <td>3390</td>\n",
       "      <td>23595924</td>\n",
       "      <td>Philadelphia, PA</td>\n",
       "      <td>BlueMeanieBWO</td>\n",
       "      <td>68308</td>\n",
       "      <td>True</td>\n",
       "      <td>4179</td>\n",
       "      <td>human</td>\n",
       "    </tr>\n",
       "  </tbody>\n",
       "</table>\n",
       "</div>"
      ],
      "text/plain": [
       "            created_at  default_profile  \\\n",
       "0  2014-06-10 13:48:21             True   \n",
       "1  2010-03-03 05:34:58             True   \n",
       "2  2009-01-28 17:30:10             True   \n",
       "3  2009-09-09 15:32:48            False   \n",
       "4  2009-03-10 14:16:09            False   \n",
       "\n",
       "                                         description  favourites_count  \\\n",
       "0  Cosplay master. Unicorn. Waiting you at https:...               491   \n",
       "1                                                NaN              1390   \n",
       "2  The official Twitter account for San Antonio C...              1444   \n",
       "3                                 The Panda’s Friend              6013   \n",
       "4  I've wrestled for the #WWE, I'm an #ECW Origin...             66356   \n",
       "\n",
       "   followers_count  friends_count          id          location  \\\n",
       "0                0              0  2559057222           unknown   \n",
       "1               16             22   119284832           unknown   \n",
       "2             8789            721    19663518   San Antonio, TX   \n",
       "3           649266            898    72878707   Los Angeles, CA   \n",
       "4            62501           3390    23595924  Philadelphia, PA   \n",
       "\n",
       "      screen_name  statuses_count  verified  account_age_days account_type  \n",
       "0     lavenderr90             116     False              2261          bot  \n",
       "1  sherrik2326384            2033     False              3822          bot  \n",
       "2          SAC_PR            6026     False              4220        human  \n",
       "3    MettaWorld37            7224     False              3996        human  \n",
       "4   BlueMeanieBWO           68308      True              4179        human  "
      ]
     },
     "execution_count": 2,
     "metadata": {},
     "output_type": "execute_result"
    }
   ],
   "source": [
    "# Load dataset\n",
    "dataset = pd.read_csv('training_dataset.csv')\n",
    "dataset.head()"
   ]
  },
  {
   "cell_type": "code",
   "execution_count": 3,
   "id": "e8e8950e-5cac-4279-b5f0-939cdb968045",
   "metadata": {
    "tags": []
   },
   "outputs": [
    {
     "name": "stdout",
     "output_type": "stream",
     "text": [
      "1200\n",
      "datetime64[ns]\n"
     ]
    }
   ],
   "source": [
    "# menghapus nilai duplikat yang sama\n",
    "dataset = dataset.drop_duplicates(keep='first', inplace=False)\n",
    "\n",
    "\n",
    "# mengubah format datetime dalam format standar\n",
    "dataset['created_at']= pd.to_datetime(dataset['created_at'])\n",
    "print(len(dataset))\n",
    "print(dataset['created_at'].dtype)\n",
    "# dataset.replace(np.inf, 0) \n",
    "# dataset.replace(-np.inf, 0)"
   ]
  },
  {
   "cell_type": "code",
   "execution_count": 4,
   "id": "ea934e01",
   "metadata": {
    "tags": []
   },
   "outputs": [],
   "source": [
    "dataset['ratio_statuses_count_per_age']=dataset['statuses_count']/dataset['account_age_days']"
   ]
  },
  {
   "cell_type": "code",
   "execution_count": 5,
   "id": "5e0db6a3",
   "metadata": {
    "tags": []
   },
   "outputs": [],
   "source": [
    "dataset['ratio_favorites_per_age']=dataset['favourites_count']/dataset['account_age_days']"
   ]
  },
  {
   "cell_type": "code",
   "execution_count": 6,
   "id": "f10fc49b",
   "metadata": {
    "tags": []
   },
   "outputs": [],
   "source": [
    "dataset['ratio_friends_per_followers']=dataset['friends_count']/dataset['followers_count']"
   ]
  },
  {
   "cell_type": "code",
   "execution_count": 7,
   "id": "6b00ea4e",
   "metadata": {
    "tags": []
   },
   "outputs": [],
   "source": [
    "dataset['description'].fillna('x', inplace = True)"
   ]
  },
  {
   "cell_type": "code",
   "execution_count": 8,
   "id": "fbd61167",
   "metadata": {
    "tags": []
   },
   "outputs": [],
   "source": [
    "dataset['word_count']=dataset['description'].apply(lambda x: \n",
    "len(str(x).split(\" \")))#count the word"
   ]
  },
  {
   "cell_type": "code",
   "execution_count": 9,
   "id": "dfd07863",
   "metadata": {
    "tags": []
   },
   "outputs": [],
   "source": [
    "dataset['char_count'] = dataset['description'].str.len() \n",
    "#count the character including space"
   ]
  },
  {
   "cell_type": "code",
   "execution_count": 10,
   "id": "14b0ad09",
   "metadata": {
    "tags": []
   },
   "outputs": [
    {
     "name": "stdout",
     "output_type": "stream",
     "text": [
      "1200\n"
     ]
    }
   ],
   "source": [
    "dataset['reputation']= dataset['followers_count']/(dataset['followers_count']+ dataset['friends_count'])\n",
    "dataset.head()\n",
    "print(len(dataset))\n"
   ]
  },
  {
   "cell_type": "code",
   "execution_count": 11,
   "id": "d97508d1",
   "metadata": {
    "tags": []
   },
   "outputs": [
    {
     "name": "stdout",
     "output_type": "stream",
     "text": [
      "1200\n"
     ]
    }
   ],
   "source": [
    "#Feture Entrophy\n",
    "# Mengubah tipe data kolom 'created_at' menjadi datetime\n",
    "dataset['created_at'] = pd.to_datetime(dataset['created_at'])\n",
    "#menugurutkan\n",
    "dataset.sort_values([\"screen_name\", \"created_at\"])\n",
    "dataset.head()\n",
    "print(len(dataset))\n"
   ]
  },
  {
   "cell_type": "code",
   "execution_count": 12,
   "id": "ca215680",
   "metadata": {
    "tags": []
   },
   "outputs": [],
   "source": [
    "# dataset['time_diff'] = (dataset['created_at'] - dataset['created_at'].shift()).abs()  / np.timedelta64(1, 'h')\n",
    "# #fill missing value in time_diff with zero\n",
    "# dataset['time_diff'] = dataset['time_diff'].fillna(0)\n",
    "# #there is 50 tweet per user extracted, so n=50\n",
    "# g_sum = 50 \n",
    "# #measure the probability for this interval\n",
    "# values = dataset['time_diff']/g_sum\n",
    "# #time interval entropy\n",
    "# dataset['entropy'] = -(values*np.log(values))\n",
    "# dataset['entropy'] = dataset['entropy'].fillna(0)\n",
    "# # dataset.dropna(inplace=True)\n",
    "# # dataset.drop(dataset[dataset.entropy < 0].index, inplace=True)\n",
    "# dataset.to_csv('hasil_min.csv')\n",
    "\n"
   ]
  },
  {
   "cell_type": "code",
   "execution_count": 13,
   "id": "f9baeddf",
   "metadata": {
    "tags": []
   },
   "outputs": [],
   "source": [
    "dataset.drop(['created_at'], axis=1,inplace=True)\n",
    "# dataset.head()"
   ]
  },
  {
   "cell_type": "code",
   "execution_count": 14,
   "id": "d45e95a3",
   "metadata": {
    "tags": []
   },
   "outputs": [
    {
     "name": "stdout",
     "output_type": "stream",
     "text": [
      "1200\n"
     ]
    }
   ],
   "source": [
    "# mengubah menjadi boolean dan mengecek apakah tidak ada null.\n",
    "dataset['location']=pd.notnull(dataset['location'])\n",
    "dataset.head()\n",
    "print(len(dataset))"
   ]
  },
  {
   "cell_type": "code",
   "execution_count": 15,
   "id": "d72dc4fb",
   "metadata": {
    "tags": []
   },
   "outputs": [
    {
     "data": {
      "text/plain": [
       "0"
      ]
     },
     "execution_count": 15,
     "metadata": {},
     "output_type": "execute_result"
    }
   ],
   "source": [
    "# mengecek apakah dalam descripsi ada teks bot atau tidak dan menjadikannya kedalam bolean\n",
    "import re\n",
    "dataset['contains_bot_name']=dataset['description'].str.extract(\"\\b(bot|b0t|updates|hourly|automatically|generating|generated|every|computer-generated|twitterbot|automated|FakeBots|')\\b|Bots\", \n",
    "                                                                        flags=re.IGNORECASE,expand=False)\n",
    "                                                                        # regex=True)\n",
    "dataset['contains_bot_name'].fillna(0).astype(bool).sum(axis=0)"
   ]
  },
  {
   "cell_type": "code",
   "execution_count": 16,
   "id": "f3eb1d3c",
   "metadata": {
    "tags": []
   },
   "outputs": [
    {
     "data": {
      "text/html": [
       "<div>\n",
       "<style scoped>\n",
       "    .dataframe tbody tr th:only-of-type {\n",
       "        vertical-align: middle;\n",
       "    }\n",
       "\n",
       "    .dataframe tbody tr th {\n",
       "        vertical-align: top;\n",
       "    }\n",
       "\n",
       "    .dataframe thead th {\n",
       "        text-align: right;\n",
       "    }\n",
       "</style>\n",
       "<table border=\"1\" class=\"dataframe\">\n",
       "  <thead>\n",
       "    <tr style=\"text-align: right;\">\n",
       "      <th></th>\n",
       "      <th>default_profile</th>\n",
       "      <th>description</th>\n",
       "      <th>favourites_count</th>\n",
       "      <th>followers_count</th>\n",
       "      <th>friends_count</th>\n",
       "      <th>id</th>\n",
       "      <th>location</th>\n",
       "      <th>screen_name</th>\n",
       "      <th>statuses_count</th>\n",
       "      <th>verified</th>\n",
       "      <th>...</th>\n",
       "      <th>ratio_statuses_count_per_age</th>\n",
       "      <th>ratio_favorites_per_age</th>\n",
       "      <th>ratio_friends_per_followers</th>\n",
       "      <th>word_count</th>\n",
       "      <th>char_count</th>\n",
       "      <th>reputation</th>\n",
       "      <th>contains_bot_name</th>\n",
       "      <th>description_word_count</th>\n",
       "      <th>description_character_count</th>\n",
       "      <th>avg_word</th>\n",
       "    </tr>\n",
       "  </thead>\n",
       "  <tbody>\n",
       "    <tr>\n",
       "      <th>0</th>\n",
       "      <td>True</td>\n",
       "      <td>Cosplay master. Unicorn. Waiting you at https:...</td>\n",
       "      <td>491</td>\n",
       "      <td>0</td>\n",
       "      <td>0</td>\n",
       "      <td>2559057222</td>\n",
       "      <td>True</td>\n",
       "      <td>lavenderr90</td>\n",
       "      <td>116</td>\n",
       "      <td>False</td>\n",
       "      <td>...</td>\n",
       "      <td>0.051305</td>\n",
       "      <td>0.217161</td>\n",
       "      <td>NaN</td>\n",
       "      <td>7</td>\n",
       "      <td>63</td>\n",
       "      <td>NaN</td>\n",
       "      <td>NaN</td>\n",
       "      <td>7</td>\n",
       "      <td>57</td>\n",
       "      <td>8.142857</td>\n",
       "    </tr>\n",
       "    <tr>\n",
       "      <th>1</th>\n",
       "      <td>True</td>\n",
       "      <td>x</td>\n",
       "      <td>1390</td>\n",
       "      <td>16</td>\n",
       "      <td>22</td>\n",
       "      <td>119284832</td>\n",
       "      <td>True</td>\n",
       "      <td>sherrik2326384</td>\n",
       "      <td>2033</td>\n",
       "      <td>False</td>\n",
       "      <td>...</td>\n",
       "      <td>0.531920</td>\n",
       "      <td>0.363684</td>\n",
       "      <td>1.375000</td>\n",
       "      <td>1</td>\n",
       "      <td>1</td>\n",
       "      <td>0.421053</td>\n",
       "      <td>NaN</td>\n",
       "      <td>1</td>\n",
       "      <td>1</td>\n",
       "      <td>1.000000</td>\n",
       "    </tr>\n",
       "    <tr>\n",
       "      <th>2</th>\n",
       "      <td>True</td>\n",
       "      <td>The official Twitter account for San Antonio C...</td>\n",
       "      <td>1444</td>\n",
       "      <td>8789</td>\n",
       "      <td>721</td>\n",
       "      <td>19663518</td>\n",
       "      <td>True</td>\n",
       "      <td>SAC_PR</td>\n",
       "      <td>6026</td>\n",
       "      <td>False</td>\n",
       "      <td>...</td>\n",
       "      <td>1.427962</td>\n",
       "      <td>0.342180</td>\n",
       "      <td>0.082034</td>\n",
       "      <td>17</td>\n",
       "      <td>107</td>\n",
       "      <td>0.924185</td>\n",
       "      <td>NaN</td>\n",
       "      <td>17</td>\n",
       "      <td>91</td>\n",
       "      <td>5.352941</td>\n",
       "    </tr>\n",
       "    <tr>\n",
       "      <th>3</th>\n",
       "      <td>False</td>\n",
       "      <td>The Panda’s Friend</td>\n",
       "      <td>6013</td>\n",
       "      <td>649266</td>\n",
       "      <td>898</td>\n",
       "      <td>72878707</td>\n",
       "      <td>True</td>\n",
       "      <td>MettaWorld37</td>\n",
       "      <td>7224</td>\n",
       "      <td>False</td>\n",
       "      <td>...</td>\n",
       "      <td>1.807808</td>\n",
       "      <td>1.504755</td>\n",
       "      <td>0.001383</td>\n",
       "      <td>3</td>\n",
       "      <td>18</td>\n",
       "      <td>0.998619</td>\n",
       "      <td>NaN</td>\n",
       "      <td>3</td>\n",
       "      <td>16</td>\n",
       "      <td>5.333333</td>\n",
       "    </tr>\n",
       "    <tr>\n",
       "      <th>4</th>\n",
       "      <td>False</td>\n",
       "      <td>I've wrestled for the #WWE, I'm an #ECW Origin...</td>\n",
       "      <td>66356</td>\n",
       "      <td>62501</td>\n",
       "      <td>3390</td>\n",
       "      <td>23595924</td>\n",
       "      <td>True</td>\n",
       "      <td>BlueMeanieBWO</td>\n",
       "      <td>68308</td>\n",
       "      <td>True</td>\n",
       "      <td>...</td>\n",
       "      <td>16.345537</td>\n",
       "      <td>15.878440</td>\n",
       "      <td>0.054239</td>\n",
       "      <td>22</td>\n",
       "      <td>148</td>\n",
       "      <td>0.948551</td>\n",
       "      <td>NaN</td>\n",
       "      <td>23</td>\n",
       "      <td>125</td>\n",
       "      <td>5.434783</td>\n",
       "    </tr>\n",
       "  </tbody>\n",
       "</table>\n",
       "<p>5 rows × 22 columns</p>\n",
       "</div>"
      ],
      "text/plain": [
       "   default_profile                                        description  \\\n",
       "0             True  Cosplay master. Unicorn. Waiting you at https:...   \n",
       "1             True                                                  x   \n",
       "2             True  The official Twitter account for San Antonio C...   \n",
       "3            False                                 The Panda’s Friend   \n",
       "4            False  I've wrestled for the #WWE, I'm an #ECW Origin...   \n",
       "\n",
       "   favourites_count  followers_count  friends_count          id  location  \\\n",
       "0               491                0              0  2559057222      True   \n",
       "1              1390               16             22   119284832      True   \n",
       "2              1444             8789            721    19663518      True   \n",
       "3              6013           649266            898    72878707      True   \n",
       "4             66356            62501           3390    23595924      True   \n",
       "\n",
       "      screen_name  statuses_count  verified  ...  \\\n",
       "0     lavenderr90             116     False  ...   \n",
       "1  sherrik2326384            2033     False  ...   \n",
       "2          SAC_PR            6026     False  ...   \n",
       "3    MettaWorld37            7224     False  ...   \n",
       "4   BlueMeanieBWO           68308      True  ...   \n",
       "\n",
       "   ratio_statuses_count_per_age ratio_favorites_per_age  \\\n",
       "0                      0.051305                0.217161   \n",
       "1                      0.531920                0.363684   \n",
       "2                      1.427962                0.342180   \n",
       "3                      1.807808                1.504755   \n",
       "4                     16.345537               15.878440   \n",
       "\n",
       "   ratio_friends_per_followers  word_count  char_count  reputation  \\\n",
       "0                          NaN           7          63         NaN   \n",
       "1                     1.375000           1           1    0.421053   \n",
       "2                     0.082034          17         107    0.924185   \n",
       "3                     0.001383           3          18    0.998619   \n",
       "4                     0.054239          22         148    0.948551   \n",
       "\n",
       "   contains_bot_name  description_word_count description_character_count  \\\n",
       "0                NaN                       7                          57   \n",
       "1                NaN                       1                           1   \n",
       "2                NaN                      17                          91   \n",
       "3                NaN                       3                          16   \n",
       "4                NaN                      23                         125   \n",
       "\n",
       "   avg_word  \n",
       "0  8.142857  \n",
       "1  1.000000  \n",
       "2  5.352941  \n",
       "3  5.333333  \n",
       "4  5.434783  \n",
       "\n",
       "[5 rows x 22 columns]"
      ]
     },
     "execution_count": 16,
     "metadata": {},
     "output_type": "execute_result"
    }
   ],
   "source": [
    "#Feature avg_word\n",
    "dataset['description'] = dataset['description'].astype(str)\n",
    "dataset['description_word_count'] = dataset['description'].apply(lambda x: len(str(x).split()))\n",
    "dataset['description_character_count'] = dataset['description'].apply(lambda x: sum(len(word) for word in str(x).split()))\n",
    "dataset['avg_word'] = dataset['description_character_count'] / dataset['description_word_count']\n",
    "dataset.head()"
   ]
  },
  {
   "cell_type": "code",
   "execution_count": 17,
   "id": "52d9bbb9-496b-4d43-b319-98b6355c84d0",
   "metadata": {
    "tags": []
   },
   "outputs": [],
   "source": [
    "dataset.to_csv(\"ceknihboy.csv\")"
   ]
  },
  {
   "cell_type": "code",
   "execution_count": 18,
   "id": "d77d2fca",
   "metadata": {
    "tags": []
   },
   "outputs": [],
   "source": [
    "dataset.drop(['screen_name','description'], inplace=True, axis=1)"
   ]
  },
  {
   "cell_type": "code",
   "execution_count": 19,
   "id": "bfb8ae44",
   "metadata": {
    "tags": []
   },
   "outputs": [],
   "source": [
    "# dataset.head()\n",
    "dataset[\"reputation\"].fillna(0, inplace = True) "
   ]
  },
  {
   "cell_type": "code",
   "execution_count": 20,
   "id": "1c6cee49",
   "metadata": {
    "tags": []
   },
   "outputs": [
    {
     "data": {
      "text/html": [
       "<div>\n",
       "<style scoped>\n",
       "    .dataframe tbody tr th:only-of-type {\n",
       "        vertical-align: middle;\n",
       "    }\n",
       "\n",
       "    .dataframe tbody tr th {\n",
       "        vertical-align: top;\n",
       "    }\n",
       "\n",
       "    .dataframe thead th {\n",
       "        text-align: right;\n",
       "    }\n",
       "</style>\n",
       "<table border=\"1\" class=\"dataframe\">\n",
       "  <thead>\n",
       "    <tr style=\"text-align: right;\">\n",
       "      <th></th>\n",
       "      <th>default_profile</th>\n",
       "      <th>favourites_count</th>\n",
       "      <th>followers_count</th>\n",
       "      <th>friends_count</th>\n",
       "      <th>id</th>\n",
       "      <th>location</th>\n",
       "      <th>statuses_count</th>\n",
       "      <th>verified</th>\n",
       "      <th>account_age_days</th>\n",
       "      <th>account_type</th>\n",
       "      <th>ratio_statuses_count_per_age</th>\n",
       "      <th>ratio_favorites_per_age</th>\n",
       "      <th>ratio_friends_per_followers</th>\n",
       "      <th>word_count</th>\n",
       "      <th>char_count</th>\n",
       "      <th>reputation</th>\n",
       "      <th>contains_bot_name</th>\n",
       "      <th>description_word_count</th>\n",
       "      <th>description_character_count</th>\n",
       "      <th>avg_word</th>\n",
       "    </tr>\n",
       "  </thead>\n",
       "  <tbody>\n",
       "    <tr>\n",
       "      <th>0</th>\n",
       "      <td>True</td>\n",
       "      <td>491</td>\n",
       "      <td>0</td>\n",
       "      <td>0</td>\n",
       "      <td>2559057222</td>\n",
       "      <td>True</td>\n",
       "      <td>116</td>\n",
       "      <td>False</td>\n",
       "      <td>2261</td>\n",
       "      <td>bot</td>\n",
       "      <td>0.051305</td>\n",
       "      <td>0.217161</td>\n",
       "      <td>NaN</td>\n",
       "      <td>7</td>\n",
       "      <td>63</td>\n",
       "      <td>0.000000</td>\n",
       "      <td>False</td>\n",
       "      <td>7</td>\n",
       "      <td>57</td>\n",
       "      <td>8.142857</td>\n",
       "    </tr>\n",
       "    <tr>\n",
       "      <th>1</th>\n",
       "      <td>True</td>\n",
       "      <td>1390</td>\n",
       "      <td>16</td>\n",
       "      <td>22</td>\n",
       "      <td>119284832</td>\n",
       "      <td>True</td>\n",
       "      <td>2033</td>\n",
       "      <td>False</td>\n",
       "      <td>3822</td>\n",
       "      <td>bot</td>\n",
       "      <td>0.531920</td>\n",
       "      <td>0.363684</td>\n",
       "      <td>1.375000</td>\n",
       "      <td>1</td>\n",
       "      <td>1</td>\n",
       "      <td>0.421053</td>\n",
       "      <td>False</td>\n",
       "      <td>1</td>\n",
       "      <td>1</td>\n",
       "      <td>1.000000</td>\n",
       "    </tr>\n",
       "    <tr>\n",
       "      <th>2</th>\n",
       "      <td>True</td>\n",
       "      <td>1444</td>\n",
       "      <td>8789</td>\n",
       "      <td>721</td>\n",
       "      <td>19663518</td>\n",
       "      <td>True</td>\n",
       "      <td>6026</td>\n",
       "      <td>False</td>\n",
       "      <td>4220</td>\n",
       "      <td>human</td>\n",
       "      <td>1.427962</td>\n",
       "      <td>0.342180</td>\n",
       "      <td>0.082034</td>\n",
       "      <td>17</td>\n",
       "      <td>107</td>\n",
       "      <td>0.924185</td>\n",
       "      <td>False</td>\n",
       "      <td>17</td>\n",
       "      <td>91</td>\n",
       "      <td>5.352941</td>\n",
       "    </tr>\n",
       "    <tr>\n",
       "      <th>3</th>\n",
       "      <td>False</td>\n",
       "      <td>6013</td>\n",
       "      <td>649266</td>\n",
       "      <td>898</td>\n",
       "      <td>72878707</td>\n",
       "      <td>True</td>\n",
       "      <td>7224</td>\n",
       "      <td>False</td>\n",
       "      <td>3996</td>\n",
       "      <td>human</td>\n",
       "      <td>1.807808</td>\n",
       "      <td>1.504755</td>\n",
       "      <td>0.001383</td>\n",
       "      <td>3</td>\n",
       "      <td>18</td>\n",
       "      <td>0.998619</td>\n",
       "      <td>False</td>\n",
       "      <td>3</td>\n",
       "      <td>16</td>\n",
       "      <td>5.333333</td>\n",
       "    </tr>\n",
       "    <tr>\n",
       "      <th>4</th>\n",
       "      <td>False</td>\n",
       "      <td>66356</td>\n",
       "      <td>62501</td>\n",
       "      <td>3390</td>\n",
       "      <td>23595924</td>\n",
       "      <td>True</td>\n",
       "      <td>68308</td>\n",
       "      <td>True</td>\n",
       "      <td>4179</td>\n",
       "      <td>human</td>\n",
       "      <td>16.345537</td>\n",
       "      <td>15.878440</td>\n",
       "      <td>0.054239</td>\n",
       "      <td>22</td>\n",
       "      <td>148</td>\n",
       "      <td>0.948551</td>\n",
       "      <td>False</td>\n",
       "      <td>23</td>\n",
       "      <td>125</td>\n",
       "      <td>5.434783</td>\n",
       "    </tr>\n",
       "    <tr>\n",
       "      <th>...</th>\n",
       "      <td>...</td>\n",
       "      <td>...</td>\n",
       "      <td>...</td>\n",
       "      <td>...</td>\n",
       "      <td>...</td>\n",
       "      <td>...</td>\n",
       "      <td>...</td>\n",
       "      <td>...</td>\n",
       "      <td>...</td>\n",
       "      <td>...</td>\n",
       "      <td>...</td>\n",
       "      <td>...</td>\n",
       "      <td>...</td>\n",
       "      <td>...</td>\n",
       "      <td>...</td>\n",
       "      <td>...</td>\n",
       "      <td>...</td>\n",
       "      <td>...</td>\n",
       "      <td>...</td>\n",
       "      <td>...</td>\n",
       "    </tr>\n",
       "    <tr>\n",
       "      <th>1195</th>\n",
       "      <td>False</td>\n",
       "      <td>28610</td>\n",
       "      <td>1073472</td>\n",
       "      <td>8709</td>\n",
       "      <td>342363193</td>\n",
       "      <td>True</td>\n",
       "      <td>70531</td>\n",
       "      <td>False</td>\n",
       "      <td>3312</td>\n",
       "      <td>human</td>\n",
       "      <td>21.295592</td>\n",
       "      <td>8.638285</td>\n",
       "      <td>0.008113</td>\n",
       "      <td>14</td>\n",
       "      <td>108</td>\n",
       "      <td>0.991952</td>\n",
       "      <td>False</td>\n",
       "      <td>14</td>\n",
       "      <td>95</td>\n",
       "      <td>6.785714</td>\n",
       "    </tr>\n",
       "    <tr>\n",
       "      <th>1196</th>\n",
       "      <td>False</td>\n",
       "      <td>94</td>\n",
       "      <td>606</td>\n",
       "      <td>106</td>\n",
       "      <td>24642526</td>\n",
       "      <td>True</td>\n",
       "      <td>1205</td>\n",
       "      <td>False</td>\n",
       "      <td>4174</td>\n",
       "      <td>human</td>\n",
       "      <td>0.288692</td>\n",
       "      <td>0.022520</td>\n",
       "      <td>0.174917</td>\n",
       "      <td>11</td>\n",
       "      <td>104</td>\n",
       "      <td>0.851124</td>\n",
       "      <td>False</td>\n",
       "      <td>12</td>\n",
       "      <td>93</td>\n",
       "      <td>7.750000</td>\n",
       "    </tr>\n",
       "    <tr>\n",
       "      <th>1197</th>\n",
       "      <td>True</td>\n",
       "      <td>184</td>\n",
       "      <td>6</td>\n",
       "      <td>0</td>\n",
       "      <td>557850467</td>\n",
       "      <td>True</td>\n",
       "      <td>30</td>\n",
       "      <td>False</td>\n",
       "      <td>3043</td>\n",
       "      <td>bot</td>\n",
       "      <td>0.009859</td>\n",
       "      <td>0.060467</td>\n",
       "      <td>0.000000</td>\n",
       "      <td>7</td>\n",
       "      <td>47</td>\n",
       "      <td>1.000000</td>\n",
       "      <td>False</td>\n",
       "      <td>6</td>\n",
       "      <td>41</td>\n",
       "      <td>6.833333</td>\n",
       "    </tr>\n",
       "    <tr>\n",
       "      <th>1198</th>\n",
       "      <td>True</td>\n",
       "      <td>139</td>\n",
       "      <td>0</td>\n",
       "      <td>0</td>\n",
       "      <td>772106131875500032</td>\n",
       "      <td>True</td>\n",
       "      <td>272</td>\n",
       "      <td>False</td>\n",
       "      <td>1445</td>\n",
       "      <td>human</td>\n",
       "      <td>0.188235</td>\n",
       "      <td>0.096194</td>\n",
       "      <td>NaN</td>\n",
       "      <td>1</td>\n",
       "      <td>11</td>\n",
       "      <td>0.000000</td>\n",
       "      <td>False</td>\n",
       "      <td>1</td>\n",
       "      <td>11</td>\n",
       "      <td>11.000000</td>\n",
       "    </tr>\n",
       "    <tr>\n",
       "      <th>1199</th>\n",
       "      <td>False</td>\n",
       "      <td>6315</td>\n",
       "      <td>248</td>\n",
       "      <td>125</td>\n",
       "      <td>439884868</td>\n",
       "      <td>True</td>\n",
       "      <td>4901</td>\n",
       "      <td>False</td>\n",
       "      <td>3167</td>\n",
       "      <td>human</td>\n",
       "      <td>1.547521</td>\n",
       "      <td>1.994001</td>\n",
       "      <td>0.504032</td>\n",
       "      <td>3</td>\n",
       "      <td>18</td>\n",
       "      <td>0.664879</td>\n",
       "      <td>False</td>\n",
       "      <td>3</td>\n",
       "      <td>16</td>\n",
       "      <td>5.333333</td>\n",
       "    </tr>\n",
       "  </tbody>\n",
       "</table>\n",
       "<p>1200 rows × 20 columns</p>\n",
       "</div>"
      ],
      "text/plain": [
       "      default_profile  favourites_count  followers_count  friends_count  \\\n",
       "0                True               491                0              0   \n",
       "1                True              1390               16             22   \n",
       "2                True              1444             8789            721   \n",
       "3               False              6013           649266            898   \n",
       "4               False             66356            62501           3390   \n",
       "...               ...               ...              ...            ...   \n",
       "1195            False             28610          1073472           8709   \n",
       "1196            False                94              606            106   \n",
       "1197             True               184                6              0   \n",
       "1198             True               139                0              0   \n",
       "1199            False              6315              248            125   \n",
       "\n",
       "                      id  location  statuses_count  verified  \\\n",
       "0             2559057222      True             116     False   \n",
       "1              119284832      True            2033     False   \n",
       "2               19663518      True            6026     False   \n",
       "3               72878707      True            7224     False   \n",
       "4               23595924      True           68308      True   \n",
       "...                  ...       ...             ...       ...   \n",
       "1195           342363193      True           70531     False   \n",
       "1196            24642526      True            1205     False   \n",
       "1197           557850467      True              30     False   \n",
       "1198  772106131875500032      True             272     False   \n",
       "1199           439884868      True            4901     False   \n",
       "\n",
       "      account_age_days account_type  ratio_statuses_count_per_age  \\\n",
       "0                 2261          bot                      0.051305   \n",
       "1                 3822          bot                      0.531920   \n",
       "2                 4220        human                      1.427962   \n",
       "3                 3996        human                      1.807808   \n",
       "4                 4179        human                     16.345537   \n",
       "...                ...          ...                           ...   \n",
       "1195              3312        human                     21.295592   \n",
       "1196              4174        human                      0.288692   \n",
       "1197              3043          bot                      0.009859   \n",
       "1198              1445        human                      0.188235   \n",
       "1199              3167        human                      1.547521   \n",
       "\n",
       "      ratio_favorites_per_age  ratio_friends_per_followers  word_count  \\\n",
       "0                    0.217161                          NaN           7   \n",
       "1                    0.363684                     1.375000           1   \n",
       "2                    0.342180                     0.082034          17   \n",
       "3                    1.504755                     0.001383           3   \n",
       "4                   15.878440                     0.054239          22   \n",
       "...                       ...                          ...         ...   \n",
       "1195                 8.638285                     0.008113          14   \n",
       "1196                 0.022520                     0.174917          11   \n",
       "1197                 0.060467                     0.000000           7   \n",
       "1198                 0.096194                          NaN           1   \n",
       "1199                 1.994001                     0.504032           3   \n",
       "\n",
       "      char_count  reputation  contains_bot_name  description_word_count  \\\n",
       "0             63    0.000000              False                       7   \n",
       "1              1    0.421053              False                       1   \n",
       "2            107    0.924185              False                      17   \n",
       "3             18    0.998619              False                       3   \n",
       "4            148    0.948551              False                      23   \n",
       "...          ...         ...                ...                     ...   \n",
       "1195         108    0.991952              False                      14   \n",
       "1196         104    0.851124              False                      12   \n",
       "1197          47    1.000000              False                       6   \n",
       "1198          11    0.000000              False                       1   \n",
       "1199          18    0.664879              False                       3   \n",
       "\n",
       "      description_character_count   avg_word  \n",
       "0                              57   8.142857  \n",
       "1                               1   1.000000  \n",
       "2                              91   5.352941  \n",
       "3                              16   5.333333  \n",
       "4                             125   5.434783  \n",
       "...                           ...        ...  \n",
       "1195                           95   6.785714  \n",
       "1196                           93   7.750000  \n",
       "1197                           41   6.833333  \n",
       "1198                           11  11.000000  \n",
       "1199                           16   5.333333  \n",
       "\n",
       "[1200 rows x 20 columns]"
      ]
     },
     "execution_count": 20,
     "metadata": {},
     "output_type": "execute_result"
    }
   ],
   "source": [
    "dataset[\"contains_bot_name\"].fillna(False, inplace=True)\n",
    "dataset.replace(np.inf, 0)\n",
    "dataset.replace(-np.inf, 0)"
   ]
  },
  {
   "cell_type": "code",
   "execution_count": 21,
   "id": "cbaecbcd",
   "metadata": {
    "tags": []
   },
   "outputs": [
    {
     "name": "stderr",
     "output_type": "stream",
     "text": [
      "C:\\Users\\xotiss\\AppData\\Local\\Temp\\ipykernel_10044\\1888651205.py:3: FutureWarning: Dropping of nuisance columns in DataFrame reductions (with 'numeric_only=None') is deprecated; in a future version this will raise TypeError.  Select only valid columns before calling the reduction.\n",
      "  dataset = dataset.fillna(dataset.mean())\n"
     ]
    },
    {
     "data": {
      "text/html": [
       "<div>\n",
       "<style scoped>\n",
       "    .dataframe tbody tr th:only-of-type {\n",
       "        vertical-align: middle;\n",
       "    }\n",
       "\n",
       "    .dataframe tbody tr th {\n",
       "        vertical-align: top;\n",
       "    }\n",
       "\n",
       "    .dataframe thead th {\n",
       "        text-align: right;\n",
       "    }\n",
       "</style>\n",
       "<table border=\"1\" class=\"dataframe\">\n",
       "  <thead>\n",
       "    <tr style=\"text-align: right;\">\n",
       "      <th></th>\n",
       "      <th>default_profile</th>\n",
       "      <th>favourites_count</th>\n",
       "      <th>followers_count</th>\n",
       "      <th>friends_count</th>\n",
       "      <th>id</th>\n",
       "      <th>location</th>\n",
       "      <th>statuses_count</th>\n",
       "      <th>verified</th>\n",
       "      <th>account_age_days</th>\n",
       "      <th>account_type</th>\n",
       "      <th>ratio_statuses_count_per_age</th>\n",
       "      <th>ratio_favorites_per_age</th>\n",
       "      <th>ratio_friends_per_followers</th>\n",
       "      <th>word_count</th>\n",
       "      <th>char_count</th>\n",
       "      <th>reputation</th>\n",
       "      <th>contains_bot_name</th>\n",
       "      <th>description_word_count</th>\n",
       "      <th>description_character_count</th>\n",
       "      <th>avg_word</th>\n",
       "    </tr>\n",
       "  </thead>\n",
       "  <tbody>\n",
       "    <tr>\n",
       "      <th>0</th>\n",
       "      <td>True</td>\n",
       "      <td>491</td>\n",
       "      <td>0</td>\n",
       "      <td>0</td>\n",
       "      <td>2559057222</td>\n",
       "      <td>True</td>\n",
       "      <td>116</td>\n",
       "      <td>False</td>\n",
       "      <td>2261</td>\n",
       "      <td>bot</td>\n",
       "      <td>0.051305</td>\n",
       "      <td>0.217161</td>\n",
       "      <td>2.709532</td>\n",
       "      <td>7</td>\n",
       "      <td>63</td>\n",
       "      <td>0.000000</td>\n",
       "      <td>False</td>\n",
       "      <td>7</td>\n",
       "      <td>57</td>\n",
       "      <td>8.142857</td>\n",
       "    </tr>\n",
       "    <tr>\n",
       "      <th>1</th>\n",
       "      <td>True</td>\n",
       "      <td>1390</td>\n",
       "      <td>16</td>\n",
       "      <td>22</td>\n",
       "      <td>119284832</td>\n",
       "      <td>True</td>\n",
       "      <td>2033</td>\n",
       "      <td>False</td>\n",
       "      <td>3822</td>\n",
       "      <td>bot</td>\n",
       "      <td>0.531920</td>\n",
       "      <td>0.363684</td>\n",
       "      <td>1.375000</td>\n",
       "      <td>1</td>\n",
       "      <td>1</td>\n",
       "      <td>0.421053</td>\n",
       "      <td>False</td>\n",
       "      <td>1</td>\n",
       "      <td>1</td>\n",
       "      <td>1.000000</td>\n",
       "    </tr>\n",
       "    <tr>\n",
       "      <th>2</th>\n",
       "      <td>True</td>\n",
       "      <td>1444</td>\n",
       "      <td>8789</td>\n",
       "      <td>721</td>\n",
       "      <td>19663518</td>\n",
       "      <td>True</td>\n",
       "      <td>6026</td>\n",
       "      <td>False</td>\n",
       "      <td>4220</td>\n",
       "      <td>human</td>\n",
       "      <td>1.427962</td>\n",
       "      <td>0.342180</td>\n",
       "      <td>0.082034</td>\n",
       "      <td>17</td>\n",
       "      <td>107</td>\n",
       "      <td>0.924185</td>\n",
       "      <td>False</td>\n",
       "      <td>17</td>\n",
       "      <td>91</td>\n",
       "      <td>5.352941</td>\n",
       "    </tr>\n",
       "    <tr>\n",
       "      <th>3</th>\n",
       "      <td>False</td>\n",
       "      <td>6013</td>\n",
       "      <td>649266</td>\n",
       "      <td>898</td>\n",
       "      <td>72878707</td>\n",
       "      <td>True</td>\n",
       "      <td>7224</td>\n",
       "      <td>False</td>\n",
       "      <td>3996</td>\n",
       "      <td>human</td>\n",
       "      <td>1.807808</td>\n",
       "      <td>1.504755</td>\n",
       "      <td>0.001383</td>\n",
       "      <td>3</td>\n",
       "      <td>18</td>\n",
       "      <td>0.998619</td>\n",
       "      <td>False</td>\n",
       "      <td>3</td>\n",
       "      <td>16</td>\n",
       "      <td>5.333333</td>\n",
       "    </tr>\n",
       "    <tr>\n",
       "      <th>4</th>\n",
       "      <td>False</td>\n",
       "      <td>66356</td>\n",
       "      <td>62501</td>\n",
       "      <td>3390</td>\n",
       "      <td>23595924</td>\n",
       "      <td>True</td>\n",
       "      <td>68308</td>\n",
       "      <td>True</td>\n",
       "      <td>4179</td>\n",
       "      <td>human</td>\n",
       "      <td>16.345537</td>\n",
       "      <td>15.878440</td>\n",
       "      <td>0.054239</td>\n",
       "      <td>22</td>\n",
       "      <td>148</td>\n",
       "      <td>0.948551</td>\n",
       "      <td>False</td>\n",
       "      <td>23</td>\n",
       "      <td>125</td>\n",
       "      <td>5.434783</td>\n",
       "    </tr>\n",
       "  </tbody>\n",
       "</table>\n",
       "</div>"
      ],
      "text/plain": [
       "   default_profile  favourites_count  followers_count  friends_count  \\\n",
       "0             True               491                0              0   \n",
       "1             True              1390               16             22   \n",
       "2             True              1444             8789            721   \n",
       "3            False              6013           649266            898   \n",
       "4            False             66356            62501           3390   \n",
       "\n",
       "           id  location  statuses_count  verified  account_age_days  \\\n",
       "0  2559057222      True             116     False              2261   \n",
       "1   119284832      True            2033     False              3822   \n",
       "2    19663518      True            6026     False              4220   \n",
       "3    72878707      True            7224     False              3996   \n",
       "4    23595924      True           68308      True              4179   \n",
       "\n",
       "  account_type  ratio_statuses_count_per_age  ratio_favorites_per_age  \\\n",
       "0          bot                      0.051305                 0.217161   \n",
       "1          bot                      0.531920                 0.363684   \n",
       "2        human                      1.427962                 0.342180   \n",
       "3        human                      1.807808                 1.504755   \n",
       "4        human                     16.345537                15.878440   \n",
       "\n",
       "   ratio_friends_per_followers  word_count  char_count  reputation  \\\n",
       "0                     2.709532           7          63    0.000000   \n",
       "1                     1.375000           1           1    0.421053   \n",
       "2                     0.082034          17         107    0.924185   \n",
       "3                     0.001383           3          18    0.998619   \n",
       "4                     0.054239          22         148    0.948551   \n",
       "\n",
       "   contains_bot_name  description_word_count  description_character_count  \\\n",
       "0              False                       7                           57   \n",
       "1              False                       1                            1   \n",
       "2              False                      17                           91   \n",
       "3              False                       3                           16   \n",
       "4              False                      23                          125   \n",
       "\n",
       "   avg_word  \n",
       "0  8.142857  \n",
       "1  1.000000  \n",
       "2  5.352941  \n",
       "3  5.333333  \n",
       "4  5.434783  "
      ]
     },
     "execution_count": 21,
     "metadata": {},
     "output_type": "execute_result"
    }
   ],
   "source": [
    "dataset=dataset.replace([np.inf, -np.inf], np.nan)\n",
    "dataset=dataset.replace([np.inf, -np.inf], np.nan).dropna(how=\"all\")\n",
    "dataset = dataset.fillna(dataset.mean())\n",
    "dataset.head()"
   ]
  },
  {
   "cell_type": "code",
   "execution_count": 22,
   "id": "b652d021-5c28-4f4c-9efd-8c2212a55b05",
   "metadata": {
    "tags": []
   },
   "outputs": [],
   "source": [
    "# Preprocessing menjadikan ke boolean kolom\n",
    "# boolean_cols: list = [\"default_profile\", \"default_profile_image\",\n",
    "#                       \"geo_enabled\", \"verified\"]\n",
    "# twitter_accounts_df = convert_bool_to_int(data=dataset, boolean_cols=boolean_cols)\n",
    "# twitter_accounts_df.head()"
   ]
  },
  {
   "cell_type": "code",
   "execution_count": 23,
   "id": "a4a9154e-51ba-4bb0-b24d-da9467655f5d",
   "metadata": {
    "tags": []
   },
   "outputs": [],
   "source": [
    "# EDA\n",
    "\n",
    "import matplotlib as mpl\n",
    "import seaborn as sns\n",
    "from matplotlib import pyplot as plt\n",
    "from collections import OrderedDict\n",
    "\n",
    "mpl.rcParams['font.family'] = 'sans-serif'\n",
    "mpl.rcParams['figure.figsize'] = 12, 8\n",
    "mpl.rcParams['font.sans-serif'] = ['Tahoma']\n",
    "sns.set(font_scale=1.5)\n",
    "sns.set_style(\"whitegrid\")"
   ]
  },
  {
   "cell_type": "code",
   "execution_count": 24,
   "id": "f970d6f6-0820-4bf7-92da-f844a664212f",
   "metadata": {
    "tags": []
   },
   "outputs": [],
   "source": [
    "# Set up some parameters for EDA\n",
    "palette: str = \"husl\"\n",
    "grouped: str = \"account_type\"\n",
    "default_value: str = \"unknown\"\n",
    "\n"
   ]
  },
  {
   "cell_type": "code",
   "execution_count": 25,
   "id": "3575dfb3-cbce-4f52-a493-0df19179f125",
   "metadata": {
    "tags": []
   },
   "outputs": [],
   "source": [
    "import logging\n",
    "logger = logging.getLogger(__name__)\n",
    "\n",
    "def get_labels_colors_from_pandas_column(df: pd.DataFrame, column: str, palette: str):\n",
    "    data_labels: dict = dict()\n",
    "    try:\n",
    "        labels: list = df[column].unique().tolist()\n",
    "        colors: list = sns.color_palette(palette, len(labels))\n",
    "        data_labels: dict = dict(zip(labels, colors))\n",
    "    except Exception as e:\n",
    "        logger.error(e)\n",
    "    return data_labels\n",
    "\n",
    "# Retrieve labels and additional parameters to plot figures\n",
    "data_labels: dict = get_labels_colors_from_pandas_column(\n",
    "    df=dataset, column=grouped, palette=palette)\n"
   ]
  },
  {
   "cell_type": "code",
   "execution_count": 26,
   "id": "84070c1e-5b98-4a59-a649-f9826dade433",
   "metadata": {
    "tags": []
   },
   "outputs": [
    {
     "name": "stdout",
     "output_type": "stream",
     "text": [
      "Unique Target values: dict_keys(['bot', 'human'])\n"
     ]
    }
   ],
   "source": [
    "# Show labels\n",
    "print(f\"Unique Target values: {data_labels.keys()}\")"
   ]
  },
  {
   "cell_type": "code",
   "execution_count": 27,
   "id": "09c94ee1-55e8-446c-a92e-3afe3bc8c367",
   "metadata": {
    "tags": []
   },
   "outputs": [],
   "source": [
    "# Functions to plot data distributions\n",
    "def plot_multiple_histograms(data: pd.DataFrame,\n",
    "                             grouped_col: str,\n",
    "                             target_col: str,\n",
    "                             data_labels: dict):\n",
    "    # Plot\n",
    "    plt.figure(figsize=(12, 10))\n",
    "    title = \"\\n\"\n",
    "    labels: list = list(data_labels.keys())\n",
    "    for j, i in enumerate(labels):\n",
    "        x = data.loc[data[grouped_col] == i, target_col]\n",
    "        mu_x = round(float(np.mean(x)), 3)\n",
    "        sigma_x = round(float(np.std(x)), 3)\n",
    "        ax = sns.distplot(x, color=data_labels.get(i), label=i, hist_kws=dict(alpha=.1),\n",
    "                          kde_kws={'linewidth': 2})\n",
    "        ax.axvline(mu_x, color=data_labels.get(i), linestyle='--')\n",
    "        ax.set(xlabel=f\"{target_col.title()}\", ylabel='Density')\n",
    "        title += f\"Parameters {str(i)}: $G(\\mu=$ {mu_x}, $\\sigma=$ {sigma_x} \\n\"\n",
    "        ax.set_title(title)\n",
    "    plt.legend(title=\"Account Type\")\n",
    "    plt.grid()\n",
    "    plt.tight_layout()\n",
    "    plt.show()\n",
    "\n",
    "\n",
    "def plot_multiple_boxplots(data: pd.DataFrame, grouped_col: str, target_col: str,\n",
    "                           palette: str = \"husl\"):\n",
    "    plt.figure(figsize=(12, 10))\n",
    "\n",
    "    means: dict = data.groupby([grouped_col])[target_col].mean().to_dict(OrderedDict)\n",
    "    counter: int = 0\n",
    "\n",
    "    bp = sns.boxplot(x=grouped_col, y=target_col, data=data, palette=palette, order=list(means.keys()))\n",
    "    bp.set(xlabel='', ylabel=f\"{target_col.title()}\")\n",
    "    ax = bp.axes\n",
    "\n",
    "    for k, v in means.items():\n",
    "        # every 4th line at the interval of 6 is median line\n",
    "        # 0 -> p25 1 -> p75 2 -> lower whisker 3 -> upper whisker 4 -> p50 5 -> upper extreme value\n",
    "        mean = round(v, 2)\n",
    "        ax.text(\n",
    "            counter,\n",
    "            mean,\n",
    "            f'{mean}',\n",
    "            ha='center',\n",
    "            va='center',\n",
    "            fontweight='bold',\n",
    "            size=10,\n",
    "            color='white',\n",
    "            bbox=dict(facecolor='#445A64'))\n",
    "        counter += 1\n",
    "    bp.figure.tight_layout()\n",
    "    plt.grid()\n",
    "    plt.show()"
   ]
  },
  {
   "cell_type": "code",
   "execution_count": 28,
   "id": "b9845d3f-5d32-4198-ad7d-d29de0f90a2b",
   "metadata": {
    "tags": []
   },
   "outputs": [
    {
     "data": {
      "image/png": "[encoded data removed]",
      "text/plain": [
       "<Figure size 576x432 with 1 Axes>"
      ]
     },
     "metadata": {
      "needs_background": "light"
     },
     "output_type": "display_data"
    }
   ],
   "source": [
    "import matplotlib.pyplot as plt\n",
    "\n",
    "# Menghitung jumlah bot dan human\n",
    "jumlah_bot = dataset[dataset[\"account_type\"] == \"bot\"].shape[0]\n",
    "jumlah_human = dataset[dataset[\"account_type\"] == \"human\"].shape[0]\n",
    "\n",
    "# Menyiapkan data untuk histogram\n",
    "labels = [\"Bot\", \"Human\"]\n",
    "jumlah_data = [jumlah_bot, jumlah_human]\n",
    "colors=[\"#dc8353\",\"#4c72b0\"]\n",
    "\n",
    "# Membuat plot histogram\n",
    "plt.figure(figsize=(8, 6))\n",
    "plt.bar(labels, jumlah_data,color=colors)\n",
    "plt.xlabel(\"Label\")\n",
    "plt.ylabel(\"Jumlah Data\")\n",
    "plt.title(\"Jumlah Data Bot dan Human\")\n",
    "\n",
    "# Menampilkan jumlah rinci di atas setiap bar\n",
    "for i in range(len(labels)):\n",
    "    plt.text(i, jumlah_data[i], str(jumlah_data[i]), ha='center', va='bottom')\n",
    "\n",
    "plt.show()\n"
   ]
  },
  {
   "cell_type": "code",
   "execution_count": 29,
   "id": "74ced90b-873f-4709-9b2d-cff8bd25b6f9",
   "metadata": {
    "tags": []
   },
   "outputs": [
    {
     "data": {
      "image/png": "[encoded data removed]",
      "text/plain": [
       "<Figure size 864x720 with 1 Axes>"
      ]
     },
     "metadata": {
      "needs_background": "light"
     },
     "output_type": "display_data"
    }
   ],
   "source": [
    "target: str = \"reputation\"  \n",
    "# Extract histograms\n",
    "# plot_multiple_histograms(data=twitter_accounts_df, \n",
    "#                          grouped_col=grouped,\n",
    "#                          data_labels=data_labels,\n",
    "#                          target_col=target)\n",
    "# Extract Box-plots\n",
    "plot_multiple_boxplots(data=dataset,\n",
    "                       grouped_col=grouped,\n",
    "                       target_col=target,\n",
    "                       palette=palette)\n",
    "\n"
   ]
  },
  {
   "cell_type": "code",
   "execution_count": 30,
   "id": "1b5aae82-29ab-4927-98d0-dd35f772c07c",
   "metadata": {
    "tags": []
   },
   "outputs": [
    {
     "data": {
      "image/png": "[encoded data removed]",
      "text/plain": [
       "<Figure size 864x720 with 1 Axes>"
      ]
     },
     "metadata": {
      "needs_background": "light"
     },
     "output_type": "display_data"
    }
   ],
   "source": [
    "# analyse the average tweets per day\n",
    "target: str = \"account_age_days\"  \n",
    "# # Extract histograms\n",
    "# plot_multiple_histograms(data=twitter_accounts_df, \n",
    "#                          grouped_col=grouped,\n",
    "#                          data_labels=data_labels,\n",
    "#                          target_col=target)\n",
    "# Extract Box-plots\n",
    "plot_multiple_boxplots(data=dataset,\n",
    "                       grouped_col=grouped,\n",
    "                       target_col=target,\n",
    "                       palette=palette)"
   ]
  },
  {
   "cell_type": "code",
   "execution_count": 31,
   "id": "e6cc9e4e-741c-457f-8fe5-098543dc9ca6",
   "metadata": {
    "tags": []
   },
   "outputs": [
    {
     "data": {
      "text/plain": [
       "<AxesSubplot:xlabel='account_type'>"
      ]
     },
     "execution_count": 31,
     "metadata": {},
     "output_type": "execute_result"
    },
    {
     "data": {
      "image/png": "[encoded data removed]",
      "text/plain": [
       "<Figure size 432x288 with 1 Axes>"
      ]
     },
     "metadata": {
      "needs_background": "light"
     },
     "output_type": "display_data"
    }
   ],
   "source": [
    "target_col: str = \"verified\"\n",
    "twitter_accounts_df2 = dataset.groupby([grouped, target_col])[grouped].count().unstack(target_col)\n",
    "twitter_accounts_df2.plot(kind='bar', stacked=True)"
   ]
  },
  {
   "cell_type": "code",
   "execution_count": 32,
   "id": "8153b121-e02d-4547-8461-047a22ab5ef9",
   "metadata": {
    "tags": []
   },
   "outputs": [
    {
     "data": {
      "image/png": "[encoded data removed]",
      "text/plain": [
       "<Figure size 864x720 with 1 Axes>"
      ]
     },
     "metadata": {
      "needs_background": "light"
     },
     "output_type": "display_data"
    }
   ],
   "source": [
    "target: str = \"statuses_count\"  \n",
    "# Extract histograms\n",
    "# plot_multiple_histograms(data=twitter_accounts_df, \n",
    "#                          grouped_col=grouped,\n",
    "#                          data_labels=data_labels,\n",
    "#                          target_col=target)\n",
    "# Extract Box-plots\n",
    "plot_multiple_boxplots(data=dataset,\n",
    "                       grouped_col=grouped,\n",
    "                       target_col=target,\n",
    "                       palette=palette)"
   ]
  },
  {
   "cell_type": "code",
   "execution_count": 33,
   "id": "a2cccd94-5d7e-4651-98ed-99f338c19556",
   "metadata": {
    "tags": []
   },
   "outputs": [
    {
     "data": {
      "text/html": [
       "<div>\n",
       "<style scoped>\n",
       "    .dataframe tbody tr th:only-of-type {\n",
       "        vertical-align: middle;\n",
       "    }\n",
       "\n",
       "    .dataframe tbody tr th {\n",
       "        vertical-align: top;\n",
       "    }\n",
       "\n",
       "    .dataframe thead th {\n",
       "        text-align: right;\n",
       "    }\n",
       "</style>\n",
       "<table border=\"1\" class=\"dataframe\">\n",
       "  <thead>\n",
       "    <tr style=\"text-align: right;\">\n",
       "      <th></th>\n",
       "      <th>default_profile</th>\n",
       "      <th>favourites_count</th>\n",
       "      <th>followers_count</th>\n",
       "      <th>friends_count</th>\n",
       "      <th>id</th>\n",
       "      <th>location</th>\n",
       "      <th>statuses_count</th>\n",
       "      <th>verified</th>\n",
       "      <th>account_age_days</th>\n",
       "      <th>account_type</th>\n",
       "      <th>ratio_statuses_count_per_age</th>\n",
       "      <th>ratio_favorites_per_age</th>\n",
       "      <th>ratio_friends_per_followers</th>\n",
       "      <th>word_count</th>\n",
       "      <th>char_count</th>\n",
       "      <th>reputation</th>\n",
       "      <th>contains_bot_name</th>\n",
       "      <th>description_word_count</th>\n",
       "      <th>description_character_count</th>\n",
       "      <th>avg_word</th>\n",
       "    </tr>\n",
       "  </thead>\n",
       "  <tbody>\n",
       "    <tr>\n",
       "      <th>0</th>\n",
       "      <td>True</td>\n",
       "      <td>491</td>\n",
       "      <td>0</td>\n",
       "      <td>0</td>\n",
       "      <td>2559057222</td>\n",
       "      <td>True</td>\n",
       "      <td>116</td>\n",
       "      <td>False</td>\n",
       "      <td>2261</td>\n",
       "      <td>bot</td>\n",
       "      <td>0.051305</td>\n",
       "      <td>0.217161</td>\n",
       "      <td>2.709532</td>\n",
       "      <td>7</td>\n",
       "      <td>63</td>\n",
       "      <td>0.000000</td>\n",
       "      <td>False</td>\n",
       "      <td>7</td>\n",
       "      <td>57</td>\n",
       "      <td>8.142857</td>\n",
       "    </tr>\n",
       "    <tr>\n",
       "      <th>1</th>\n",
       "      <td>True</td>\n",
       "      <td>1390</td>\n",
       "      <td>16</td>\n",
       "      <td>22</td>\n",
       "      <td>119284832</td>\n",
       "      <td>True</td>\n",
       "      <td>2033</td>\n",
       "      <td>False</td>\n",
       "      <td>3822</td>\n",
       "      <td>bot</td>\n",
       "      <td>0.531920</td>\n",
       "      <td>0.363684</td>\n",
       "      <td>1.375000</td>\n",
       "      <td>1</td>\n",
       "      <td>1</td>\n",
       "      <td>0.421053</td>\n",
       "      <td>False</td>\n",
       "      <td>1</td>\n",
       "      <td>1</td>\n",
       "      <td>1.000000</td>\n",
       "    </tr>\n",
       "    <tr>\n",
       "      <th>2</th>\n",
       "      <td>True</td>\n",
       "      <td>1444</td>\n",
       "      <td>8789</td>\n",
       "      <td>721</td>\n",
       "      <td>19663518</td>\n",
       "      <td>True</td>\n",
       "      <td>6026</td>\n",
       "      <td>False</td>\n",
       "      <td>4220</td>\n",
       "      <td>human</td>\n",
       "      <td>1.427962</td>\n",
       "      <td>0.342180</td>\n",
       "      <td>0.082034</td>\n",
       "      <td>17</td>\n",
       "      <td>107</td>\n",
       "      <td>0.924185</td>\n",
       "      <td>False</td>\n",
       "      <td>17</td>\n",
       "      <td>91</td>\n",
       "      <td>5.352941</td>\n",
       "    </tr>\n",
       "    <tr>\n",
       "      <th>3</th>\n",
       "      <td>False</td>\n",
       "      <td>6013</td>\n",
       "      <td>649266</td>\n",
       "      <td>898</td>\n",
       "      <td>72878707</td>\n",
       "      <td>True</td>\n",
       "      <td>7224</td>\n",
       "      <td>False</td>\n",
       "      <td>3996</td>\n",
       "      <td>human</td>\n",
       "      <td>1.807808</td>\n",
       "      <td>1.504755</td>\n",
       "      <td>0.001383</td>\n",
       "      <td>3</td>\n",
       "      <td>18</td>\n",
       "      <td>0.998619</td>\n",
       "      <td>False</td>\n",
       "      <td>3</td>\n",
       "      <td>16</td>\n",
       "      <td>5.333333</td>\n",
       "    </tr>\n",
       "    <tr>\n",
       "      <th>4</th>\n",
       "      <td>False</td>\n",
       "      <td>66356</td>\n",
       "      <td>62501</td>\n",
       "      <td>3390</td>\n",
       "      <td>23595924</td>\n",
       "      <td>True</td>\n",
       "      <td>68308</td>\n",
       "      <td>True</td>\n",
       "      <td>4179</td>\n",
       "      <td>human</td>\n",
       "      <td>16.345537</td>\n",
       "      <td>15.878440</td>\n",
       "      <td>0.054239</td>\n",
       "      <td>22</td>\n",
       "      <td>148</td>\n",
       "      <td>0.948551</td>\n",
       "      <td>False</td>\n",
       "      <td>23</td>\n",
       "      <td>125</td>\n",
       "      <td>5.434783</td>\n",
       "    </tr>\n",
       "  </tbody>\n",
       "</table>\n",
       "</div>"
      ],
      "text/plain": [
       "   default_profile  favourites_count  followers_count  friends_count  \\\n",
       "0             True               491                0              0   \n",
       "1             True              1390               16             22   \n",
       "2             True              1444             8789            721   \n",
       "3            False              6013           649266            898   \n",
       "4            False             66356            62501           3390   \n",
       "\n",
       "           id  location  statuses_count  verified  account_age_days  \\\n",
       "0  2559057222      True             116     False              2261   \n",
       "1   119284832      True            2033     False              3822   \n",
       "2    19663518      True            6026     False              4220   \n",
       "3    72878707      True            7224     False              3996   \n",
       "4    23595924      True           68308      True              4179   \n",
       "\n",
       "  account_type  ratio_statuses_count_per_age  ratio_favorites_per_age  \\\n",
       "0          bot                      0.051305                 0.217161   \n",
       "1          bot                      0.531920                 0.363684   \n",
       "2        human                      1.427962                 0.342180   \n",
       "3        human                      1.807808                 1.504755   \n",
       "4        human                     16.345537                15.878440   \n",
       "\n",
       "   ratio_friends_per_followers  word_count  char_count  reputation  \\\n",
       "0                     2.709532           7          63    0.000000   \n",
       "1                     1.375000           1           1    0.421053   \n",
       "2                     0.082034          17         107    0.924185   \n",
       "3                     0.001383           3          18    0.998619   \n",
       "4                     0.054239          22         148    0.948551   \n",
       "\n",
       "   contains_bot_name  description_word_count  description_character_count  \\\n",
       "0              False                       7                           57   \n",
       "1              False                       1                            1   \n",
       "2              False                      17                           91   \n",
       "3              False                       3                           16   \n",
       "4              False                      23                          125   \n",
       "\n",
       "   avg_word  \n",
       "0  8.142857  \n",
       "1  1.000000  \n",
       "2  5.352941  \n",
       "3  5.333333  \n",
       "4  5.434783  "
      ]
     },
     "execution_count": 33,
     "metadata": {},
     "output_type": "execute_result"
    }
   ],
   "source": [
    "dataset.describe().to_excel('descriptive_statistics3.xlsx')\n",
    "dataset.head()"
   ]
  },
  {
   "cell_type": "code",
   "execution_count": 34,
   "id": "83a6cee0-95f6-44fb-80a6-99a835890e8e",
   "metadata": {
    "tags": []
   },
   "outputs": [],
   "source": [
    "dataset.to_csv('cek.csv',index=False)"
   ]
  },
  {
   "cell_type": "code",
   "execution_count": 35,
   "id": "f134d745-eb58-4dad-8435-e2a65fc06574",
   "metadata": {
    "tags": []
   },
   "outputs": [],
   "source": [
    "from sklearn.preprocessing import MinMaxScaler\n",
    "df = dataset.dropna(axis=0)\n",
    "# memilih kolom yang ingin diikutkan dalam scaling\n",
    "cols_to_scale = [\"followers_count\",\"default_profile\",\"account_age_days\",\"avg_word\",\"verified\",\"reputation\", \"friends_count\", \"favourites_count\", \"statuses_count\"]\n",
    "\n",
    "# Mengambil subset dari dataset hanya untuk kolom yang digunakan\n",
    "data_to_scale = dataset[cols_to_scale]\n",
    "\n",
    "# scaling menggunakan MinMaxScaler pada kolom-kolom yang dipilih\n",
    "scaler = MinMaxScaler(feature_range=(0,100))\n",
    "\n",
    "# Fit dan transform data menggunakan scaler\n",
    "scaled_data = scaler.fit_transform(data_to_scale)\n",
    "# rescaledX = scaler.fit_transform(twitter_accounts_df[cols_to_scale])\n",
    "\n",
    "# Mengganti kolom asli dengan data yang telah di-scale\n",
    "dataset[cols_to_scale] = scaled_data\n",
    "\n",
    "# Membuat DataFrame dari data yang telah discaling\n",
    "dataset.describe().to_excel('hasil_descriptive_statistics3.xlsx')"
   ]
  },
  {
   "cell_type": "code",
   "execution_count": 36,
   "id": "1d3dba3c-dc04-4d3b-bcd0-be1b56f8a776",
   "metadata": {
    "tags": []
   },
   "outputs": [
    {
     "name": "stdout",
     "output_type": "stream",
     "text": [
      "Jumlah baris pada df_train: 1200\n"
     ]
    }
   ],
   "source": [
    "print(\"Jumlah baris pada df_train:\", dataset.shape[0])"
   ]
  },
  {
   "cell_type": "code",
   "execution_count": 37,
   "id": "d0080586-9fc0-42c6-8540-bd244e1ee0c3",
   "metadata": {
    "tags": []
   },
   "outputs": [
    {
     "name": "stdout",
     "output_type": "stream",
     "text": [
      "default_profile                 0\n",
      "favourites_count                0\n",
      "followers_count                 0\n",
      "friends_count                   0\n",
      "id                              0\n",
      "location                        0\n",
      "statuses_count                  0\n",
      "verified                        0\n",
      "account_age_days                0\n",
      "account_type                    0\n",
      "ratio_statuses_count_per_age    0\n",
      "ratio_favorites_per_age         0\n",
      "ratio_friends_per_followers     0\n",
      "word_count                      0\n",
      "char_count                      0\n",
      "reputation                      0\n",
      "contains_bot_name               0\n",
      "description_word_count          0\n",
      "description_character_count     0\n",
      "avg_word                        0\n",
      "dtype: int64\n"
     ]
    }
   ],
   "source": [
    "print(dataset.isna().sum())"
   ]
  },
  {
   "cell_type": "code",
   "execution_count": 38,
   "id": "1e854e40-3c8f-4334-8116-97bc966c9097",
   "metadata": {
    "tags": []
   },
   "outputs": [],
   "source": [
    "data_baru = dataset.drop([\"location\"], axis=1)\n",
    "# data_baru.head()"
   ]
  },
  {
   "cell_type": "code",
   "execution_count": 39,
   "id": "2b4b36ce-0572-4059-a42b-4357829d1c2e",
   "metadata": {
    "tags": []
   },
   "outputs": [
    {
     "name": "stdout",
     "output_type": "stream",
     "text": [
      "default_profile                 0\n",
      "favourites_count                0\n",
      "followers_count                 0\n",
      "friends_count                   0\n",
      "id                              0\n",
      "statuses_count                  0\n",
      "verified                        0\n",
      "account_age_days                0\n",
      "account_type                    0\n",
      "ratio_statuses_count_per_age    0\n",
      "ratio_favorites_per_age         0\n",
      "ratio_friends_per_followers     0\n",
      "word_count                      0\n",
      "char_count                      0\n",
      "reputation                      0\n",
      "contains_bot_name               0\n",
      "description_word_count          0\n",
      "description_character_count     0\n",
      "avg_word                        0\n",
      "dtype: int64\n"
     ]
    }
   ],
   "source": [
    "print(data_baru.isin(['unknown']).sum())"
   ]
  },
  {
   "cell_type": "code",
   "execution_count": 40,
   "id": "42b3f247",
   "metadata": {
    "tags": []
   },
   "outputs": [
    {
     "name": "stdout",
     "output_type": "stream",
     "text": [
      "default_profile                 float64\n",
      "favourites_count                float64\n",
      "followers_count                 float64\n",
      "friends_count                   float64\n",
      "id                                int64\n",
      "statuses_count                  float64\n",
      "verified                        float64\n",
      "account_age_days                float64\n",
      "account_type                     object\n",
      "ratio_statuses_count_per_age    float64\n",
      "ratio_favorites_per_age         float64\n",
      "ratio_friends_per_followers     float64\n",
      "word_count                        int64\n",
      "char_count                        int64\n",
      "reputation                      float64\n",
      "contains_bot_name                  bool\n",
      "description_word_count            int64\n",
      "description_character_count       int64\n",
      "avg_word                        float64\n",
      "dtype: object\n"
     ]
    }
   ],
   "source": [
    "print(data_baru.dtypes)\n",
    "data_baru.to_csv('nggatau.csv')"
   ]
  },
  {
   "cell_type": "code",
   "execution_count": 41,
   "id": "5693aeb9-f509-42ac-8f80-ec09b7fac70a",
   "metadata": {
    "tags": []
   },
   "outputs": [],
   "source": [
    "# #memilih feature yang akan digunakan keculali 'account_type'\n",
    "X = data_baru.drop('account_type', axis=1)\n",
    "y = data_baru['account_type']\n",
    "\n",
    "# Split data into training and testing sets\n",
    "X_train, X_test, y_train, y_test = train_test_split(X,y, test_size=0.2, random_state=42)\n"
   ]
  },
  {
   "cell_type": "code",
   "execution_count": 42,
   "id": "bc37573f-f34b-4d59-a613-70ceb43f14c8",
   "metadata": {
    "tags": []
   },
   "outputs": [
    {
     "name": "stdout",
     "output_type": "stream",
     "text": [
      "Akurasi: 0.8541666666666666\n"
     ]
    },
    {
     "data": {
      "image/png": "[encoded data removed]",
      "text/plain": [
       "<Figure size 576x576 with 1 Axes>"
      ]
     },
     "metadata": {
      "needs_background": "light"
     },
     "output_type": "display_data"
    }
   ],
   "source": [
    "# Membuat model Random Forest Classifier\n",
    "model = RandomForestClassifier(n_estimators=100, random_state=42)\n",
    "\n",
    "# Melatih model dengan data latih\n",
    "model.fit(X_train, y_train)\n",
    "\n",
    "tree_feature =  pd.Series(model.feature_importances_, X.columns).sort_values(ascending = True)\n",
    "plt.figure(figsize = (8,8))\n",
    "plt.barh(X.columns, tree_feature)\n",
    "plt.xlabel('Feature Important Score', fontsize = 12)\n",
    "plt.ylabel('Features', fontsize = 12)\n",
    "plt.yticks(fontsize = 12)\n",
    "plt.title('Visualizing Feature Importances', fontsize = 20)\n",
    "\n",
    "# Menampilkan angka per fitur pada visualisasi\n",
    "for i, v in enumerate(tree_feature):\n",
    "    plt.text(v, i, str(round(v, 2)), color='black', va='center')\n",
    "\n",
    "# memprediksi label atau target yang sesuai dengan fitur-fitur dalam X_test\n",
    "y_pred = model.predict(X_test)\n",
    "\n",
    "# Menghitung akurasi model pada dataset\n",
    "accuracy = accuracy_score(y_test, y_pred)\n",
    "\n",
    "print(\"Akurasi:\", accuracy)"
   ]
  },
  {
   "cell_type": "code",
   "execution_count": 43,
   "id": "ba68945c-8924-461f-8264-333d66b17e6b",
   "metadata": {
    "tags": []
   },
   "outputs": [
    {
     "data": {
      "image/png": "[encoded data removed]",
      "text/plain": [
       "<Figure size 576x432 with 2 Axes>"
      ]
     },
     "metadata": {
      "needs_background": "light"
     },
     "output_type": "display_data"
    },
    {
     "name": "stdout",
     "output_type": "stream",
     "text": [
      "Confusion Matrix:\n",
      "----------------------------------------\n",
      "True Positif (TP): 139\n",
      "False Positif (FP): 22\n",
      "True Negatif (TN): 66\n",
      "False Negatif (FN): 13\n"
     ]
    }
   ],
   "source": [
    "#menghitung confusion matrix berdasarkan label sebenarnya (y_test) dan hasil prediksi model (y_pred)\n",
    "cm = confusion_matrix(y_test, y_pred)\n",
    "\n",
    "# membuat plot confusion matrix\n",
    "plt.figure(figsize=(8, 6))\n",
    "sns.heatmap(cm, annot=True, fmt='g', cmap='Blues')\n",
    "plt.xlabel('Predicted')\n",
    "plt.ylabel('Actual')\n",
    "plt.show()\n",
    "# print(cm)\n",
    "\n",
    "print(\"Confusion Matrix:\")\n",
    "print(\"----------------------------------------\")\n",
    "print(\"True Positif (TP):\", cm[1, 1])\n",
    "print(\"False Positif (FP):\", cm[0, 1])\n",
    "print(\"True Negatif (TN):\", cm[0, 0])\n",
    "print(\"False Negatif (FN):\", cm[1, 0])"
   ]
  },
  {
   "cell_type": "code",
   "execution_count": 44,
   "id": "82aaa267-a74b-41c6-9bbe-dc907c9c8e98",
   "metadata": {
    "tags": []
   },
   "outputs": [
    {
     "name": "stdout",
     "output_type": "stream",
     "text": [
      "              precision    recall  f1-score   support\n",
      "\n",
      "         bot       0.84      0.75      0.79        88\n",
      "       human       0.86      0.91      0.89       152\n",
      "\n",
      "    accuracy                           0.85       240\n",
      "   macro avg       0.85      0.83      0.84       240\n",
      "weighted avg       0.85      0.85      0.85       240\n",
      "\n"
     ]
    }
   ],
   "source": [
    "print(classification_report(y_test, y_pred))"
   ]
  },
  {
   "cell_type": "code",
   "execution_count": 45,
   "id": "090c9b86-40e5-47d8-ab49-d30ebab4b038",
   "metadata": {
    "tags": []
   },
   "outputs": [
    {
     "data": {
      "text/plain": [
       "['model.pkl']"
      ]
     },
     "execution_count": 45,
     "metadata": {},
     "output_type": "execute_result"
    }
   ],
   "source": [
    "#untuk menyimpan model\n",
    "import joblib\n",
    "from sklearn.pipeline import make_pipeline\n",
    "pipe = make_pipeline(MinMaxScaler(),RandomForestClassifier()) \n",
    "pipe.fit(X_train, y_train)\n",
    "joblib.dump(pipe, 'model.pkl')"
   ]
  },
  {
   "cell_type": "code",
   "execution_count": null,
   "id": "b434b387-0687-45ff-a46a-a6a4446ed9c8",
   "metadata": {},
   "outputs": [],
   "source": []
  }
 ],
 "metadata": {
  "kernelspec": {
   "display_name": "Python 3 (ipykernel)",
   "language": "python",
   "name": "python3"
  },
  "language_info": {
   "codemirror_mode": {
    "name": "ipython",
    "version": 3
   },
   "file_extension": ".py",
   "mimetype": "text/x-python",
   "name": "python",
   "nbconvert_exporter": "python",
   "pygments_lexer": "ipython3",
   "version": "3.9.7"
  },
  "vscode": {
   "interpreter": {
    "hash": "0f10d22a3628a9f0fd1ad0104081a91081d2b40cc3ba42563365157939c62f11"
   }
  }
 },
 "nbformat": 4,
 "nbformat_minor": 5
}

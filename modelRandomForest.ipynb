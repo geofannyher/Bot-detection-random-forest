{
 "cells": [
  {
   "cell_type": "code",
   "execution_count": 1,
   "id": "7bc20976-2acc-44a6-af1c-4310094ed498",
   "metadata": {
    "tags": []
   },
   "outputs": [],
   "source": [
    "import pandas as pd\n",
    "import matplotlib.pyplot as plt\n",
    "from sklearn.feature_extraction.text import TfidfVectorizer\n",
    "from sklearn.ensemble import RandomForestClassifier\n",
    "from sklearn.model_selection import train_test_split\n",
    "from sklearn.metrics import confusion_matrix, precision_score, recall_score, f1_score,accuracy_score\n",
    "import numpy as np\n"
   ]
  },
  {
   "cell_type": "code",
   "execution_count": 2,
   "id": "f84de6e4-4e23-428d-91b4-3ec5006651a0",
   "metadata": {
    "tags": []
   },
   "outputs": [
    {
     "data": {
      "text/html": [
       "<div>\n",
       "<style scoped>\n",
       "    .dataframe tbody tr th:only-of-type {\n",
       "        vertical-align: middle;\n",
       "    }\n",
       "\n",
       "    .dataframe tbody tr th {\n",
       "        vertical-align: top;\n",
       "    }\n",
       "\n",
       "    .dataframe thead th {\n",
       "        text-align: right;\n",
       "    }\n",
       "</style>\n",
       "<table border=\"1\" class=\"dataframe\">\n",
       "  <thead>\n",
       "    <tr style=\"text-align: right;\">\n",
       "      <th></th>\n",
       "      <th>created_at</th>\n",
       "      <th>default_profile</th>\n",
       "      <th>default_profile_image</th>\n",
       "      <th>description</th>\n",
       "      <th>favourites_count</th>\n",
       "      <th>followers_count</th>\n",
       "      <th>friends_count</th>\n",
       "      <th>geo_enabled</th>\n",
       "      <th>id</th>\n",
       "      <th>lang</th>\n",
       "      <th>location</th>\n",
       "      <th>profile_background_image_url</th>\n",
       "      <th>profile_image_url</th>\n",
       "      <th>screen_name</th>\n",
       "      <th>statuses_count</th>\n",
       "      <th>verified</th>\n",
       "      <th>average_tweets_per_day</th>\n",
       "      <th>account_age_days</th>\n",
       "      <th>account_type</th>\n",
       "    </tr>\n",
       "  </thead>\n",
       "  <tbody>\n",
       "    <tr>\n",
       "      <th>0</th>\n",
       "      <td>2016-10-15 21:32:11</td>\n",
       "      <td>False</td>\n",
       "      <td>False</td>\n",
       "      <td>Blame @xaiax, Inspired by @MakingInvisible, us...</td>\n",
       "      <td>4</td>\n",
       "      <td>1589</td>\n",
       "      <td>4</td>\n",
       "      <td>False</td>\n",
       "      <td>787405734442958848</td>\n",
       "      <td>en</td>\n",
       "      <td>unknown</td>\n",
       "      <td>http://abs.twimg.com/images/themes/theme1/bg.png</td>\n",
       "      <td>http://pbs.twimg.com/profile_images/7874121826...</td>\n",
       "      <td>best_in_dumbest</td>\n",
       "      <td>11041</td>\n",
       "      <td>False</td>\n",
       "      <td>7.870</td>\n",
       "      <td>1403</td>\n",
       "      <td>bot</td>\n",
       "    </tr>\n",
       "    <tr>\n",
       "      <th>1</th>\n",
       "      <td>2016-11-09 05:01:30</td>\n",
       "      <td>False</td>\n",
       "      <td>False</td>\n",
       "      <td>Photographing the American West since 1980. I ...</td>\n",
       "      <td>536</td>\n",
       "      <td>860</td>\n",
       "      <td>880</td>\n",
       "      <td>False</td>\n",
       "      <td>796216118331310080</td>\n",
       "      <td>en</td>\n",
       "      <td>Estados Unidos</td>\n",
       "      <td>http://abs.twimg.com/images/themes/theme1/bg.png</td>\n",
       "      <td>http://pbs.twimg.com/profile_images/8023296328...</td>\n",
       "      <td>CJRubinPhoto</td>\n",
       "      <td>252</td>\n",
       "      <td>False</td>\n",
       "      <td>0.183</td>\n",
       "      <td>1379</td>\n",
       "      <td>human</td>\n",
       "    </tr>\n",
       "    <tr>\n",
       "      <th>2</th>\n",
       "      <td>2017-06-17 05:34:27</td>\n",
       "      <td>False</td>\n",
       "      <td>False</td>\n",
       "      <td>Scruffy looking nerf herder and @twitch broadc...</td>\n",
       "      <td>3307</td>\n",
       "      <td>172</td>\n",
       "      <td>594</td>\n",
       "      <td>True</td>\n",
       "      <td>875949740503859204</td>\n",
       "      <td>en</td>\n",
       "      <td>Los Angeles, CA</td>\n",
       "      <td>http://abs.twimg.com/images/themes/theme1/bg.png</td>\n",
       "      <td>http://pbs.twimg.com/profile_images/1278890453...</td>\n",
       "      <td>SVGEGENT</td>\n",
       "      <td>1001</td>\n",
       "      <td>False</td>\n",
       "      <td>0.864</td>\n",
       "      <td>1159</td>\n",
       "      <td>human</td>\n",
       "    </tr>\n",
       "    <tr>\n",
       "      <th>3</th>\n",
       "      <td>2016-07-21 13:32:25</td>\n",
       "      <td>True</td>\n",
       "      <td>False</td>\n",
       "      <td>Wife.Godmother.Friend.Feline Fanatic! Assistan...</td>\n",
       "      <td>8433</td>\n",
       "      <td>517</td>\n",
       "      <td>633</td>\n",
       "      <td>True</td>\n",
       "      <td>756119643622735875</td>\n",
       "      <td>en</td>\n",
       "      <td>Birmingham, AL</td>\n",
       "      <td>NaN</td>\n",
       "      <td>http://pbs.twimg.com/profile_images/1284884924...</td>\n",
       "      <td>TinkerVHELPK5</td>\n",
       "      <td>1324</td>\n",
       "      <td>False</td>\n",
       "      <td>0.889</td>\n",
       "      <td>1489</td>\n",
       "      <td>human</td>\n",
       "    </tr>\n",
       "    <tr>\n",
       "      <th>4</th>\n",
       "      <td>2012-01-15 16:32:35</td>\n",
       "      <td>False</td>\n",
       "      <td>False</td>\n",
       "      <td>Loan coach at @mancity &amp; Aspiring DJ</td>\n",
       "      <td>88</td>\n",
       "      <td>753678</td>\n",
       "      <td>116</td>\n",
       "      <td>True</td>\n",
       "      <td>464781334</td>\n",
       "      <td>en</td>\n",
       "      <td>England, United Kingdom</td>\n",
       "      <td>http://abs.twimg.com/images/themes/theme1/bg.png</td>\n",
       "      <td>http://pbs.twimg.com/profile_images/9952566258...</td>\n",
       "      <td>JoleonLescott</td>\n",
       "      <td>4202</td>\n",
       "      <td>True</td>\n",
       "      <td>1.339</td>\n",
       "      <td>3138</td>\n",
       "      <td>human</td>\n",
       "    </tr>\n",
       "  </tbody>\n",
       "</table>\n",
       "</div>"
      ],
      "text/plain": [
       "            created_at  default_profile  default_profile_image  \\\n",
       "0  2016-10-15 21:32:11            False                  False   \n",
       "1  2016-11-09 05:01:30            False                  False   \n",
       "2  2017-06-17 05:34:27            False                  False   \n",
       "3  2016-07-21 13:32:25             True                  False   \n",
       "4  2012-01-15 16:32:35            False                  False   \n",
       "\n",
       "                                         description  favourites_count  \\\n",
       "0  Blame @xaiax, Inspired by @MakingInvisible, us...                 4   \n",
       "1  Photographing the American West since 1980. I ...               536   \n",
       "2  Scruffy looking nerf herder and @twitch broadc...              3307   \n",
       "3  Wife.Godmother.Friend.Feline Fanatic! Assistan...              8433   \n",
       "4               Loan coach at @mancity & Aspiring DJ                88   \n",
       "\n",
       "   followers_count  friends_count  geo_enabled                  id lang  \\\n",
       "0             1589              4        False  787405734442958848   en   \n",
       "1              860            880        False  796216118331310080   en   \n",
       "2              172            594         True  875949740503859204   en   \n",
       "3              517            633         True  756119643622735875   en   \n",
       "4           753678            116         True           464781334   en   \n",
       "\n",
       "                  location                      profile_background_image_url  \\\n",
       "0                  unknown  http://abs.twimg.com/images/themes/theme1/bg.png   \n",
       "1           Estados Unidos  http://abs.twimg.com/images/themes/theme1/bg.png   \n",
       "2          Los Angeles, CA  http://abs.twimg.com/images/themes/theme1/bg.png   \n",
       "3           Birmingham, AL                                               NaN   \n",
       "4  England, United Kingdom  http://abs.twimg.com/images/themes/theme1/bg.png   \n",
       "\n",
       "                                   profile_image_url      screen_name  \\\n",
       "0  http://pbs.twimg.com/profile_images/7874121826...  best_in_dumbest   \n",
       "1  http://pbs.twimg.com/profile_images/8023296328...     CJRubinPhoto   \n",
       "2  http://pbs.twimg.com/profile_images/1278890453...         SVGEGENT   \n",
       "3  http://pbs.twimg.com/profile_images/1284884924...    TinkerVHELPK5   \n",
       "4  http://pbs.twimg.com/profile_images/9952566258...    JoleonLescott   \n",
       "\n",
       "   statuses_count  verified  average_tweets_per_day  account_age_days  \\\n",
       "0           11041     False                   7.870              1403   \n",
       "1             252     False                   0.183              1379   \n",
       "2            1001     False                   0.864              1159   \n",
       "3            1324     False                   0.889              1489   \n",
       "4            4202      True                   1.339              3138   \n",
       "\n",
       "  account_type  \n",
       "0          bot  \n",
       "1        human  \n",
       "2        human  \n",
       "3        human  \n",
       "4        human  "
      ]
     },
     "execution_count": 2,
     "metadata": {},
     "output_type": "execute_result"
    }
   ],
   "source": [
    "# Load dataset\n",
    "dataset = pd.read_csv('twitter_dataset.csv')\n",
    "dataset.head()"
   ]
  },
  {
   "cell_type": "code",
   "execution_count": 3,
   "id": "e8e8950e-5cac-4279-b5f0-939cdb968045",
   "metadata": {
    "tags": []
   },
   "outputs": [
    {
     "name": "stdout",
     "output_type": "stream",
     "text": [
      "37438\n"
     ]
    }
   ],
   "source": [
    "# menghapus username yang sama\n",
    "dataset = dataset.drop_duplicates(subset=['screen_name'])\n",
    "print(len(dataset))"
   ]
  },
  {
   "cell_type": "code",
   "execution_count": 4,
   "id": "7611a78b-3ff5-49b8-9dae-5a78cd131577",
   "metadata": {
    "tags": []
   },
   "outputs": [],
   "source": [
    "# Functions untuk preprocessing ke Dataframe\n",
    "def convert_bool_to_int(data: pd.DataFrame, boolean_cols: list):\n",
    "    try:\n",
    "        for col in boolean_cols:\n",
    "            data[col] = data[col].astype(int)\n",
    "    except Exception as e:\n",
    "        print(e)\n",
    "    return data\n",
    "\n",
    "# def popularity_metric(friends_count: int, followers_count: int):\n",
    "#     return np.round(np.log(1+friends_count) * np.log(1+followers_count), 3)\n",
    "\n",
    "\n",
    "# def compute_popularity_metric(row):\n",
    "#     return popularity_metric(friends_count=row[\"friends_count\"],\n",
    "#                              followers_count=row[\"followers_count\"])\n",
    "def compute_reputation(row):\n",
    "    if row['followers_count'] == 0 or row['friends_count'] == 0:\n",
    "        return 0\n",
    "    else:\n",
    "        return row['followers_count'] / (row['followers_count'] + row['friends_count'])\n"
   ]
  },
  {
   "cell_type": "code",
   "execution_count": 5,
   "id": "b652d021-5c28-4f4c-9efd-8c2212a55b05",
   "metadata": {
    "tags": []
   },
   "outputs": [
    {
     "name": "stdout",
     "output_type": "stream",
     "text": [
      "invalid literal for int() with base 10: 'en'\n"
     ]
    },
    {
     "data": {
      "text/html": [
       "<div>\n",
       "<style scoped>\n",
       "    .dataframe tbody tr th:only-of-type {\n",
       "        vertical-align: middle;\n",
       "    }\n",
       "\n",
       "    .dataframe tbody tr th {\n",
       "        vertical-align: top;\n",
       "    }\n",
       "\n",
       "    .dataframe thead th {\n",
       "        text-align: right;\n",
       "    }\n",
       "</style>\n",
       "<table border=\"1\" class=\"dataframe\">\n",
       "  <thead>\n",
       "    <tr style=\"text-align: right;\">\n",
       "      <th></th>\n",
       "      <th>created_at</th>\n",
       "      <th>default_profile</th>\n",
       "      <th>default_profile_image</th>\n",
       "      <th>description</th>\n",
       "      <th>favourites_count</th>\n",
       "      <th>followers_count</th>\n",
       "      <th>friends_count</th>\n",
       "      <th>geo_enabled</th>\n",
       "      <th>id</th>\n",
       "      <th>lang</th>\n",
       "      <th>location</th>\n",
       "      <th>profile_background_image_url</th>\n",
       "      <th>profile_image_url</th>\n",
       "      <th>screen_name</th>\n",
       "      <th>statuses_count</th>\n",
       "      <th>verified</th>\n",
       "      <th>average_tweets_per_day</th>\n",
       "      <th>account_age_days</th>\n",
       "      <th>account_type</th>\n",
       "    </tr>\n",
       "  </thead>\n",
       "  <tbody>\n",
       "    <tr>\n",
       "      <th>0</th>\n",
       "      <td>2016-10-15 21:32:11</td>\n",
       "      <td>0</td>\n",
       "      <td>0</td>\n",
       "      <td>Blame @xaiax, Inspired by @MakingInvisible, us...</td>\n",
       "      <td>4</td>\n",
       "      <td>1589</td>\n",
       "      <td>4</td>\n",
       "      <td>0</td>\n",
       "      <td>787405734442958848</td>\n",
       "      <td>en</td>\n",
       "      <td>unknown</td>\n",
       "      <td>http://abs.twimg.com/images/themes/theme1/bg.png</td>\n",
       "      <td>http://pbs.twimg.com/profile_images/7874121826...</td>\n",
       "      <td>best_in_dumbest</td>\n",
       "      <td>11041</td>\n",
       "      <td>0</td>\n",
       "      <td>7.870</td>\n",
       "      <td>1403</td>\n",
       "      <td>bot</td>\n",
       "    </tr>\n",
       "    <tr>\n",
       "      <th>1</th>\n",
       "      <td>2016-11-09 05:01:30</td>\n",
       "      <td>0</td>\n",
       "      <td>0</td>\n",
       "      <td>Photographing the American West since 1980. I ...</td>\n",
       "      <td>536</td>\n",
       "      <td>860</td>\n",
       "      <td>880</td>\n",
       "      <td>0</td>\n",
       "      <td>796216118331310080</td>\n",
       "      <td>en</td>\n",
       "      <td>Estados Unidos</td>\n",
       "      <td>http://abs.twimg.com/images/themes/theme1/bg.png</td>\n",
       "      <td>http://pbs.twimg.com/profile_images/8023296328...</td>\n",
       "      <td>CJRubinPhoto</td>\n",
       "      <td>252</td>\n",
       "      <td>0</td>\n",
       "      <td>0.183</td>\n",
       "      <td>1379</td>\n",
       "      <td>human</td>\n",
       "    </tr>\n",
       "    <tr>\n",
       "      <th>2</th>\n",
       "      <td>2017-06-17 05:34:27</td>\n",
       "      <td>0</td>\n",
       "      <td>0</td>\n",
       "      <td>Scruffy looking nerf herder and @twitch broadc...</td>\n",
       "      <td>3307</td>\n",
       "      <td>172</td>\n",
       "      <td>594</td>\n",
       "      <td>1</td>\n",
       "      <td>875949740503859204</td>\n",
       "      <td>en</td>\n",
       "      <td>Los Angeles, CA</td>\n",
       "      <td>http://abs.twimg.com/images/themes/theme1/bg.png</td>\n",
       "      <td>http://pbs.twimg.com/profile_images/1278890453...</td>\n",
       "      <td>SVGEGENT</td>\n",
       "      <td>1001</td>\n",
       "      <td>0</td>\n",
       "      <td>0.864</td>\n",
       "      <td>1159</td>\n",
       "      <td>human</td>\n",
       "    </tr>\n",
       "    <tr>\n",
       "      <th>3</th>\n",
       "      <td>2016-07-21 13:32:25</td>\n",
       "      <td>1</td>\n",
       "      <td>0</td>\n",
       "      <td>Wife.Godmother.Friend.Feline Fanatic! Assistan...</td>\n",
       "      <td>8433</td>\n",
       "      <td>517</td>\n",
       "      <td>633</td>\n",
       "      <td>1</td>\n",
       "      <td>756119643622735875</td>\n",
       "      <td>en</td>\n",
       "      <td>Birmingham, AL</td>\n",
       "      <td>NaN</td>\n",
       "      <td>http://pbs.twimg.com/profile_images/1284884924...</td>\n",
       "      <td>TinkerVHELPK5</td>\n",
       "      <td>1324</td>\n",
       "      <td>0</td>\n",
       "      <td>0.889</td>\n",
       "      <td>1489</td>\n",
       "      <td>human</td>\n",
       "    </tr>\n",
       "    <tr>\n",
       "      <th>4</th>\n",
       "      <td>2012-01-15 16:32:35</td>\n",
       "      <td>0</td>\n",
       "      <td>0</td>\n",
       "      <td>Loan coach at @mancity &amp; Aspiring DJ</td>\n",
       "      <td>88</td>\n",
       "      <td>753678</td>\n",
       "      <td>116</td>\n",
       "      <td>1</td>\n",
       "      <td>464781334</td>\n",
       "      <td>en</td>\n",
       "      <td>England, United Kingdom</td>\n",
       "      <td>http://abs.twimg.com/images/themes/theme1/bg.png</td>\n",
       "      <td>http://pbs.twimg.com/profile_images/9952566258...</td>\n",
       "      <td>JoleonLescott</td>\n",
       "      <td>4202</td>\n",
       "      <td>1</td>\n",
       "      <td>1.339</td>\n",
       "      <td>3138</td>\n",
       "      <td>human</td>\n",
       "    </tr>\n",
       "  </tbody>\n",
       "</table>\n",
       "</div>"
      ],
      "text/plain": [
       "            created_at  default_profile  default_profile_image  \\\n",
       "0  2016-10-15 21:32:11                0                      0   \n",
       "1  2016-11-09 05:01:30                0                      0   \n",
       "2  2017-06-17 05:34:27                0                      0   \n",
       "3  2016-07-21 13:32:25                1                      0   \n",
       "4  2012-01-15 16:32:35                0                      0   \n",
       "\n",
       "                                         description  favourites_count  \\\n",
       "0  Blame @xaiax, Inspired by @MakingInvisible, us...                 4   \n",
       "1  Photographing the American West since 1980. I ...               536   \n",
       "2  Scruffy looking nerf herder and @twitch broadc...              3307   \n",
       "3  Wife.Godmother.Friend.Feline Fanatic! Assistan...              8433   \n",
       "4               Loan coach at @mancity & Aspiring DJ                88   \n",
       "\n",
       "   followers_count  friends_count  geo_enabled                  id lang  \\\n",
       "0             1589              4            0  787405734442958848   en   \n",
       "1              860            880            0  796216118331310080   en   \n",
       "2              172            594            1  875949740503859204   en   \n",
       "3              517            633            1  756119643622735875   en   \n",
       "4           753678            116            1           464781334   en   \n",
       "\n",
       "                  location                      profile_background_image_url  \\\n",
       "0                  unknown  http://abs.twimg.com/images/themes/theme1/bg.png   \n",
       "1           Estados Unidos  http://abs.twimg.com/images/themes/theme1/bg.png   \n",
       "2          Los Angeles, CA  http://abs.twimg.com/images/themes/theme1/bg.png   \n",
       "3           Birmingham, AL                                               NaN   \n",
       "4  England, United Kingdom  http://abs.twimg.com/images/themes/theme1/bg.png   \n",
       "\n",
       "                                   profile_image_url      screen_name  \\\n",
       "0  http://pbs.twimg.com/profile_images/7874121826...  best_in_dumbest   \n",
       "1  http://pbs.twimg.com/profile_images/8023296328...     CJRubinPhoto   \n",
       "2  http://pbs.twimg.com/profile_images/1278890453...         SVGEGENT   \n",
       "3  http://pbs.twimg.com/profile_images/1284884924...    TinkerVHELPK5   \n",
       "4  http://pbs.twimg.com/profile_images/9952566258...    JoleonLescott   \n",
       "\n",
       "   statuses_count  verified  average_tweets_per_day  account_age_days  \\\n",
       "0           11041         0                   7.870              1403   \n",
       "1             252         0                   0.183              1379   \n",
       "2            1001         0                   0.864              1159   \n",
       "3            1324         0                   0.889              1489   \n",
       "4            4202         1                   1.339              3138   \n",
       "\n",
       "  account_type  \n",
       "0          bot  \n",
       "1        human  \n",
       "2        human  \n",
       "3        human  \n",
       "4        human  "
      ]
     },
     "execution_count": 5,
     "metadata": {},
     "output_type": "execute_result"
    }
   ],
   "source": [
    "# Preprocessing menjadikan ke boolean kolom\n",
    "boolean_cols: list = [\"default_profile\", \"default_profile_image\",\n",
    "                      \"geo_enabled\", \"verified\",\"lang\"]\n",
    "twitter_accounts_df = convert_bool_to_int(data=dataset, boolean_cols=boolean_cols)\n",
    "twitter_accounts_df.head()"
   ]
  },
  {
   "cell_type": "code",
   "execution_count": 6,
   "id": "58bdfb16-1b00-4253-8757-532bc0337ba4",
   "metadata": {
    "tags": []
   },
   "outputs": [
    {
     "data": {
      "text/html": [
       "<div>\n",
       "<style scoped>\n",
       "    .dataframe tbody tr th:only-of-type {\n",
       "        vertical-align: middle;\n",
       "    }\n",
       "\n",
       "    .dataframe tbody tr th {\n",
       "        vertical-align: top;\n",
       "    }\n",
       "\n",
       "    .dataframe thead th {\n",
       "        text-align: right;\n",
       "    }\n",
       "</style>\n",
       "<table border=\"1\" class=\"dataframe\">\n",
       "  <thead>\n",
       "    <tr style=\"text-align: right;\">\n",
       "      <th></th>\n",
       "      <th>created_at</th>\n",
       "      <th>default_profile</th>\n",
       "      <th>default_profile_image</th>\n",
       "      <th>description</th>\n",
       "      <th>favourites_count</th>\n",
       "      <th>followers_count</th>\n",
       "      <th>friends_count</th>\n",
       "      <th>geo_enabled</th>\n",
       "      <th>id</th>\n",
       "      <th>lang</th>\n",
       "      <th>...</th>\n",
       "      <th>profile_image_url</th>\n",
       "      <th>screen_name</th>\n",
       "      <th>statuses_count</th>\n",
       "      <th>verified</th>\n",
       "      <th>average_tweets_per_day</th>\n",
       "      <th>account_age_days</th>\n",
       "      <th>account_type</th>\n",
       "      <th>description_word_count</th>\n",
       "      <th>description_character_count</th>\n",
       "      <th>avg_word</th>\n",
       "    </tr>\n",
       "  </thead>\n",
       "  <tbody>\n",
       "    <tr>\n",
       "      <th>0</th>\n",
       "      <td>2016-10-15 21:32:11</td>\n",
       "      <td>0</td>\n",
       "      <td>0</td>\n",
       "      <td>Blame @xaiax, Inspired by @MakingInvisible, us...</td>\n",
       "      <td>4</td>\n",
       "      <td>1589</td>\n",
       "      <td>4</td>\n",
       "      <td>0</td>\n",
       "      <td>787405734442958848</td>\n",
       "      <td>en</td>\n",
       "      <td>...</td>\n",
       "      <td>http://pbs.twimg.com/profile_images/7874121826...</td>\n",
       "      <td>best_in_dumbest</td>\n",
       "      <td>11041</td>\n",
       "      <td>0</td>\n",
       "      <td>7.870</td>\n",
       "      <td>1403</td>\n",
       "      <td>bot</td>\n",
       "      <td>18</td>\n",
       "      <td>112</td>\n",
       "      <td>6.222222</td>\n",
       "    </tr>\n",
       "    <tr>\n",
       "      <th>1</th>\n",
       "      <td>2016-11-09 05:01:30</td>\n",
       "      <td>0</td>\n",
       "      <td>0</td>\n",
       "      <td>Photographing the American West since 1980. I ...</td>\n",
       "      <td>536</td>\n",
       "      <td>860</td>\n",
       "      <td>880</td>\n",
       "      <td>0</td>\n",
       "      <td>796216118331310080</td>\n",
       "      <td>en</td>\n",
       "      <td>...</td>\n",
       "      <td>http://pbs.twimg.com/profile_images/8023296328...</td>\n",
       "      <td>CJRubinPhoto</td>\n",
       "      <td>252</td>\n",
       "      <td>0</td>\n",
       "      <td>0.183</td>\n",
       "      <td>1379</td>\n",
       "      <td>human</td>\n",
       "      <td>24</td>\n",
       "      <td>137</td>\n",
       "      <td>5.708333</td>\n",
       "    </tr>\n",
       "    <tr>\n",
       "      <th>2</th>\n",
       "      <td>2017-06-17 05:34:27</td>\n",
       "      <td>0</td>\n",
       "      <td>0</td>\n",
       "      <td>Scruffy looking nerf herder and @twitch broadc...</td>\n",
       "      <td>3307</td>\n",
       "      <td>172</td>\n",
       "      <td>594</td>\n",
       "      <td>1</td>\n",
       "      <td>875949740503859204</td>\n",
       "      <td>en</td>\n",
       "      <td>...</td>\n",
       "      <td>http://pbs.twimg.com/profile_images/1278890453...</td>\n",
       "      <td>SVGEGENT</td>\n",
       "      <td>1001</td>\n",
       "      <td>0</td>\n",
       "      <td>0.864</td>\n",
       "      <td>1159</td>\n",
       "      <td>human</td>\n",
       "      <td>10</td>\n",
       "      <td>71</td>\n",
       "      <td>7.100000</td>\n",
       "    </tr>\n",
       "    <tr>\n",
       "      <th>3</th>\n",
       "      <td>2016-07-21 13:32:25</td>\n",
       "      <td>1</td>\n",
       "      <td>0</td>\n",
       "      <td>Wife.Godmother.Friend.Feline Fanatic! Assistan...</td>\n",
       "      <td>8433</td>\n",
       "      <td>517</td>\n",
       "      <td>633</td>\n",
       "      <td>1</td>\n",
       "      <td>756119643622735875</td>\n",
       "      <td>en</td>\n",
       "      <td>...</td>\n",
       "      <td>http://pbs.twimg.com/profile_images/1284884924...</td>\n",
       "      <td>TinkerVHELPK5</td>\n",
       "      <td>1324</td>\n",
       "      <td>0</td>\n",
       "      <td>0.889</td>\n",
       "      <td>1489</td>\n",
       "      <td>human</td>\n",
       "      <td>9</td>\n",
       "      <td>89</td>\n",
       "      <td>9.888889</td>\n",
       "    </tr>\n",
       "    <tr>\n",
       "      <th>4</th>\n",
       "      <td>2012-01-15 16:32:35</td>\n",
       "      <td>0</td>\n",
       "      <td>0</td>\n",
       "      <td>Loan coach at @mancity &amp; Aspiring DJ</td>\n",
       "      <td>88</td>\n",
       "      <td>753678</td>\n",
       "      <td>116</td>\n",
       "      <td>1</td>\n",
       "      <td>464781334</td>\n",
       "      <td>en</td>\n",
       "      <td>...</td>\n",
       "      <td>http://pbs.twimg.com/profile_images/9952566258...</td>\n",
       "      <td>JoleonLescott</td>\n",
       "      <td>4202</td>\n",
       "      <td>1</td>\n",
       "      <td>1.339</td>\n",
       "      <td>3138</td>\n",
       "      <td>human</td>\n",
       "      <td>7</td>\n",
       "      <td>30</td>\n",
       "      <td>4.285714</td>\n",
       "    </tr>\n",
       "  </tbody>\n",
       "</table>\n",
       "<p>5 rows × 22 columns</p>\n",
       "</div>"
      ],
      "text/plain": [
       "            created_at  default_profile  default_profile_image  \\\n",
       "0  2016-10-15 21:32:11                0                      0   \n",
       "1  2016-11-09 05:01:30                0                      0   \n",
       "2  2017-06-17 05:34:27                0                      0   \n",
       "3  2016-07-21 13:32:25                1                      0   \n",
       "4  2012-01-15 16:32:35                0                      0   \n",
       "\n",
       "                                         description  favourites_count  \\\n",
       "0  Blame @xaiax, Inspired by @MakingInvisible, us...                 4   \n",
       "1  Photographing the American West since 1980. I ...               536   \n",
       "2  Scruffy looking nerf herder and @twitch broadc...              3307   \n",
       "3  Wife.Godmother.Friend.Feline Fanatic! Assistan...              8433   \n",
       "4               Loan coach at @mancity & Aspiring DJ                88   \n",
       "\n",
       "   followers_count  friends_count  geo_enabled                  id lang  ...  \\\n",
       "0             1589              4            0  787405734442958848   en  ...   \n",
       "1              860            880            0  796216118331310080   en  ...   \n",
       "2              172            594            1  875949740503859204   en  ...   \n",
       "3              517            633            1  756119643622735875   en  ...   \n",
       "4           753678            116            1           464781334   en  ...   \n",
       "\n",
       "                                   profile_image_url      screen_name  \\\n",
       "0  http://pbs.twimg.com/profile_images/7874121826...  best_in_dumbest   \n",
       "1  http://pbs.twimg.com/profile_images/8023296328...     CJRubinPhoto   \n",
       "2  http://pbs.twimg.com/profile_images/1278890453...         SVGEGENT   \n",
       "3  http://pbs.twimg.com/profile_images/1284884924...    TinkerVHELPK5   \n",
       "4  http://pbs.twimg.com/profile_images/9952566258...    JoleonLescott   \n",
       "\n",
       "  statuses_count verified  average_tweets_per_day  account_age_days  \\\n",
       "0          11041        0                   7.870              1403   \n",
       "1            252        0                   0.183              1379   \n",
       "2           1001        0                   0.864              1159   \n",
       "3           1324        0                   0.889              1489   \n",
       "4           4202        1                   1.339              3138   \n",
       "\n",
       "   account_type  description_word_count description_character_count  avg_word  \n",
       "0           bot                      18                         112  6.222222  \n",
       "1         human                      24                         137  5.708333  \n",
       "2         human                      10                          71  7.100000  \n",
       "3         human                       9                          89  9.888889  \n",
       "4         human                       7                          30  4.285714  \n",
       "\n",
       "[5 rows x 22 columns]"
      ]
     },
     "execution_count": 6,
     "metadata": {},
     "output_type": "execute_result"
    }
   ],
   "source": [
    "#Feature avg_word\n",
    "twitter_accounts_df['description'] = twitter_accounts_df['description'].astype(str)\n",
    "twitter_accounts_df['description_word_count'] = twitter_accounts_df['description'].apply(lambda x: len(str(x).split()))\n",
    "twitter_accounts_df['description_character_count'] = twitter_accounts_df['description'].apply(lambda x: sum(len(word) for word in str(x).split()))\n",
    "twitter_accounts_df['avg_word'] = twitter_accounts_df['description_character_count'] / twitter_accounts_df['description_word_count']\n",
    "twitter_accounts_df.head()"
   ]
  },
  {
   "cell_type": "code",
   "execution_count": 7,
   "id": "d5c8ed55-88a4-457a-b3d1-9a158144fb84",
   "metadata": {
    "tags": []
   },
   "outputs": [
    {
     "name": "stdout",
     "output_type": "stream",
     "text": [
      "37438\n"
     ]
    }
   ],
   "source": [
    "#Feture Entrophy\n",
    "# Mengubah tipe data kolom 'created_at' menjadi datetime\n",
    "twitter_accounts_df['created_at'] = pd.to_datetime(twitter_accounts_df['created_at'], format='%Y-%m-%d %H:%M:%S')\n",
    "#menugurutkan\n",
    "twitter_accounts_df.sort_values([\"screen_name\", \"created_at\"])\n",
    "print(len(twitter_accounts_df))"
   ]
  },
  {
   "cell_type": "code",
   "execution_count": 8,
   "id": "a85fbfed-0ccb-4604-b673-51fdeb1a8ae2",
   "metadata": {
    "tags": []
   },
   "outputs": [
    {
     "name": "stdout",
     "output_type": "stream",
     "text": [
      "37438\n"
     ]
    }
   ],
   "source": [
    "twitter_accounts_df['time_diff'] = (twitter_accounts_df['created_at'] - twitter_accounts_df['created_at'].shift()).abs()  / np.timedelta64(1, 'h')\n",
    "print(len(twitter_accounts_df))"
   ]
  },
  {
   "cell_type": "code",
   "execution_count": 9,
   "id": "003886bd-1e07-450e-9af8-d70fdd9a5302",
   "metadata": {
    "tags": []
   },
   "outputs": [
    {
     "name": "stdout",
     "output_type": "stream",
     "text": [
      "37438\n"
     ]
    }
   ],
   "source": [
    "#fill missing value in time_diff with zero\n",
    "twitter_accounts_df['time_diff'] = twitter_accounts_df['time_diff'].fillna(0)\n",
    "print(len(twitter_accounts_df))"
   ]
  },
  {
   "cell_type": "code",
   "execution_count": 10,
   "id": "b7b7e514-4cc6-4031-8522-9bf67908860a",
   "metadata": {
    "tags": []
   },
   "outputs": [
    {
     "name": "stdout",
     "output_type": "stream",
     "text": [
      "37438\n"
     ]
    }
   ],
   "source": [
    "#there is 50 tweet per user extracted, so n=50\n",
    "g_sum = 50 \n",
    "print(len(twitter_accounts_df))"
   ]
  },
  {
   "cell_type": "code",
   "execution_count": 11,
   "id": "0c3ff427-e3c8-4ec7-b320-a1c6825d9ee1",
   "metadata": {
    "tags": []
   },
   "outputs": [
    {
     "name": "stdout",
     "output_type": "stream",
     "text": [
      "37438\n"
     ]
    }
   ],
   "source": [
    "#measure the probability for this interval\n",
    "values = twitter_accounts_df['time_diff']/g_sum\n",
    "print(len(twitter_accounts_df))"
   ]
  },
  {
   "cell_type": "code",
   "execution_count": 12,
   "id": "d597bb8d-b58d-4421-a4ea-31c9aed19b7b",
   "metadata": {
    "tags": []
   },
   "outputs": [
    {
     "name": "stdout",
     "output_type": "stream",
     "text": [
      "37438\n"
     ]
    },
    {
     "name": "stderr",
     "output_type": "stream",
     "text": [
      "C:\\Users\\xotiss\\AppData\\Roaming\\Python\\Python39\\site-packages\\pandas\\core\\arraylike.py:364: RuntimeWarning: divide by zero encountered in log\n",
      "  result = getattr(ufunc, method)(*inputs, **kwargs)\n"
     ]
    }
   ],
   "source": [
    "#time interval entropy\n",
    "twitter_accounts_df['Entropy'] = -(values*np.log(values))\n",
    "print(len(twitter_accounts_df))"
   ]
  },
  {
   "cell_type": "code",
   "execution_count": 13,
   "id": "60d16330-0e62-4cee-8b70-1440b39fb5f7",
   "metadata": {
    "tags": []
   },
   "outputs": [
    {
     "name": "stdout",
     "output_type": "stream",
     "text": [
      "37438\n"
     ]
    }
   ],
   "source": [
    "#fill missing value in entropy column with zero\n",
    "twitter_accounts_df['Entropy']=twitter_accounts_df['Entropy'].fillna(0)\n",
    "print(len(twitter_accounts_df))"
   ]
  },
  {
   "cell_type": "code",
   "execution_count": 14,
   "id": "404cad08-363b-4c48-b2a9-39f5c109a9de",
   "metadata": {
    "tags": []
   },
   "outputs": [],
   "source": [
    "#if value is negative, it will be eliminated. The reason is because it was an outlier\n",
    "# twitter_accounts_df.drop(twitter_accounts_df[twitter_accounts_df.Entropy < 0].index, inplace=True) \n",
    "# print(len(twitter_accounts_df))"
   ]
  },
  {
   "cell_type": "code",
   "execution_count": 15,
   "id": "fb3d1705-d0a1-4781-9db8-2836f9f9113f",
   "metadata": {
    "tags": []
   },
   "outputs": [
    {
     "name": "stdout",
     "output_type": "stream",
     "text": [
      "37438\n"
     ]
    }
   ],
   "source": [
    "twitter_accounts_df.drop(['time_diff'], axis=1, inplace=True)\n",
    "print(len(twitter_accounts_df))"
   ]
  },
  {
   "cell_type": "code",
   "execution_count": 16,
   "id": "1780138a-d0fb-452a-814e-be9a49f1fc55",
   "metadata": {
    "tags": []
   },
   "outputs": [
    {
     "data": {
      "text/html": [
       "<div>\n",
       "<style scoped>\n",
       "    .dataframe tbody tr th:only-of-type {\n",
       "        vertical-align: middle;\n",
       "    }\n",
       "\n",
       "    .dataframe tbody tr th {\n",
       "        vertical-align: top;\n",
       "    }\n",
       "\n",
       "    .dataframe thead th {\n",
       "        text-align: right;\n",
       "    }\n",
       "</style>\n",
       "<table border=\"1\" class=\"dataframe\">\n",
       "  <thead>\n",
       "    <tr style=\"text-align: right;\">\n",
       "      <th></th>\n",
       "      <th>reputation</th>\n",
       "    </tr>\n",
       "  </thead>\n",
       "  <tbody>\n",
       "    <tr>\n",
       "      <th>0</th>\n",
       "      <td>0.997489</td>\n",
       "    </tr>\n",
       "    <tr>\n",
       "      <th>1</th>\n",
       "      <td>0.494253</td>\n",
       "    </tr>\n",
       "    <tr>\n",
       "      <th>2</th>\n",
       "      <td>0.224543</td>\n",
       "    </tr>\n",
       "    <tr>\n",
       "      <th>3</th>\n",
       "      <td>0.449565</td>\n",
       "    </tr>\n",
       "    <tr>\n",
       "      <th>4</th>\n",
       "      <td>0.999846</td>\n",
       "    </tr>\n",
       "    <tr>\n",
       "      <th>...</th>\n",
       "      <td>...</td>\n",
       "    </tr>\n",
       "    <tr>\n",
       "      <th>37433</th>\n",
       "      <td>0.111736</td>\n",
       "    </tr>\n",
       "    <tr>\n",
       "      <th>37434</th>\n",
       "      <td>0.999461</td>\n",
       "    </tr>\n",
       "    <tr>\n",
       "      <th>37435</th>\n",
       "      <td>0.997786</td>\n",
       "    </tr>\n",
       "    <tr>\n",
       "      <th>37436</th>\n",
       "      <td>0.453947</td>\n",
       "    </tr>\n",
       "    <tr>\n",
       "      <th>37437</th>\n",
       "      <td>0.113636</td>\n",
       "    </tr>\n",
       "  </tbody>\n",
       "</table>\n",
       "<p>37438 rows × 1 columns</p>\n",
       "</div>"
      ],
      "text/plain": [
       "       reputation\n",
       "0        0.997489\n",
       "1        0.494253\n",
       "2        0.224543\n",
       "3        0.449565\n",
       "4        0.999846\n",
       "...           ...\n",
       "37433    0.111736\n",
       "37434    0.999461\n",
       "37435    0.997786\n",
       "37436    0.453947\n",
       "37437    0.113636\n",
       "\n",
       "[37438 rows x 1 columns]"
      ]
     },
     "execution_count": 16,
     "metadata": {},
     "output_type": "execute_result"
    }
   ],
   "source": [
    "#Feature Reputation\n",
    "# Create a custom metric to measure the popularity of an input account\n",
    "twitter_accounts_df[\"reputation\"] = twitter_accounts_df.apply(compute_reputation, axis=1)\n",
    "\n",
    "# Let's show some examples of such value\n",
    "twitter_accounts_df[['reputation']]"
   ]
  },
  {
   "cell_type": "code",
   "execution_count": 17,
   "id": "f246e080-2ac3-4dc5-8601-e274d1e27b31",
   "metadata": {
    "tags": []
   },
   "outputs": [
    {
     "name": "stdout",
     "output_type": "stream",
     "text": [
      "37438\n"
     ]
    }
   ],
   "source": [
    "twitter_accounts_df.head()\n",
    "print(len(twitter_accounts_df))"
   ]
  },
  {
   "cell_type": "code",
   "execution_count": 18,
   "id": "ae646186-262c-478e-a8db-d4474bdb262a",
   "metadata": {
    "tags": []
   },
   "outputs": [],
   "source": [
    "# Group by username and compute mean of parameter\n",
    "# grouped = twitter_accounts_df.groupby('screen_name')\n",
    "# groupie = grouped.agg(np.mean)\n",
    "# groupie.drop(['time_diff'], axis=1, inplace=True)\n",
    "# # Display the result\n",
    "# groupie.head()\n",
    "# groupie.to_csv('hasil_preprocessing.csv')"
   ]
  },
  {
   "cell_type": "code",
   "execution_count": 19,
   "id": "a4a9154e-51ba-4bb0-b24d-da9467655f5d",
   "metadata": {
    "tags": []
   },
   "outputs": [],
   "source": [
    "# EDA\n",
    "\n",
    "import matplotlib as mpl\n",
    "import seaborn as sns\n",
    "from matplotlib import pyplot as plt\n",
    "from collections import OrderedDict\n",
    "\n",
    "mpl.rcParams['font.family'] = 'sans-serif'\n",
    "mpl.rcParams['figure.figsize'] = 12, 8\n",
    "mpl.rcParams['font.sans-serif'] = ['Tahoma']\n",
    "sns.set(font_scale=1.5)\n",
    "sns.set_style(\"whitegrid\")"
   ]
  },
  {
   "cell_type": "code",
   "execution_count": 20,
   "id": "f970d6f6-0820-4bf7-92da-f844a664212f",
   "metadata": {},
   "outputs": [],
   "source": [
    "# Set up some parameters for EDA\n",
    "palette: str = \"husl\"\n",
    "grouped: str = \"account_type\"\n",
    "default_value: str = \"unknown\"\n",
    "\n"
   ]
  },
  {
   "cell_type": "code",
   "execution_count": 21,
   "id": "3575dfb3-cbce-4f52-a493-0df19179f125",
   "metadata": {
    "tags": []
   },
   "outputs": [],
   "source": [
    "import logging\n",
    "logger = logging.getLogger(__name__)\n",
    "\n",
    "def get_labels_colors_from_pandas_column(df: pd.DataFrame, column: str, palette: str):\n",
    "    data_labels: dict = dict()\n",
    "    try:\n",
    "        labels: list = df[column].unique().tolist()\n",
    "        colors: list = sns.color_palette(palette, len(labels))\n",
    "        data_labels: dict = dict(zip(labels, colors))\n",
    "    except Exception as e:\n",
    "        logger.error(e)\n",
    "    return data_labels\n",
    "\n",
    "# Retrieve labels and additional parameters to plot figures\n",
    "data_labels: dict = get_labels_colors_from_pandas_column(\n",
    "    df=twitter_accounts_df, column=grouped, palette=palette)\n"
   ]
  },
  {
   "cell_type": "code",
   "execution_count": 22,
   "id": "84070c1e-5b98-4a59-a649-f9826dade433",
   "metadata": {},
   "outputs": [
    {
     "name": "stdout",
     "output_type": "stream",
     "text": [
      "Unique Target values: dict_keys(['bot', 'human'])\n"
     ]
    }
   ],
   "source": [
    "# Show labels\n",
    "print(f\"Unique Target values: {data_labels.keys()}\")"
   ]
  },
  {
   "cell_type": "code",
   "execution_count": 23,
   "id": "09c94ee1-55e8-446c-a92e-3afe3bc8c367",
   "metadata": {
    "tags": []
   },
   "outputs": [],
   "source": [
    "# Functions to plot data distributions\n",
    "def plot_multiple_histograms(data: pd.DataFrame,\n",
    "                             grouped_col: str,\n",
    "                             target_col: str,\n",
    "                             data_labels: dict):\n",
    "    # Plot\n",
    "    plt.figure(figsize=(12, 10))\n",
    "    title = \"\\n\"\n",
    "    labels: list = list(data_labels.keys())\n",
    "    for j, i in enumerate(labels):\n",
    "        x = data.loc[data[grouped_col] == i, target_col]\n",
    "        mu_x = round(float(np.mean(x)), 3)\n",
    "        sigma_x = round(float(np.std(x)), 3)\n",
    "        ax = sns.distplot(x, color=data_labels.get(i), label=i, hist_kws=dict(alpha=.1),\n",
    "                          kde_kws={'linewidth': 2})\n",
    "        ax.axvline(mu_x, color=data_labels.get(i), linestyle='--')\n",
    "        ax.set(xlabel=f\"{target_col.title()}\", ylabel='Density')\n",
    "        title += f\"Parameters {str(i)}: $G(\\mu=$ {mu_x}, $\\sigma=$ {sigma_x} \\n\"\n",
    "        ax.set_title(title)\n",
    "    plt.legend(title=\"Account Type\")\n",
    "    plt.grid()\n",
    "    plt.tight_layout()\n",
    "    plt.show()\n",
    "\n",
    "\n",
    "def plot_multiple_boxplots(data: pd.DataFrame, grouped_col: str, target_col: str,\n",
    "                           palette: str = \"husl\"):\n",
    "    plt.figure(figsize=(12, 10))\n",
    "\n",
    "    means: dict = data.groupby([grouped_col])[target_col].mean().to_dict(OrderedDict)\n",
    "    counter: int = 0\n",
    "\n",
    "    bp = sns.boxplot(x=grouped_col, y=target_col, data=data, palette=palette, order=list(means.keys()))\n",
    "    bp.set(xlabel='', ylabel=f\"{target_col.title()}\")\n",
    "    ax = bp.axes\n",
    "\n",
    "    for k, v in means.items():\n",
    "        # every 4th line at the interval of 6 is median line\n",
    "        # 0 -> p25 1 -> p75 2 -> lower whisker 3 -> upper whisker 4 -> p50 5 -> upper extreme value\n",
    "        mean = round(v, 2)\n",
    "        ax.text(\n",
    "            counter,\n",
    "            mean,\n",
    "            f'{mean}',\n",
    "            ha='center',\n",
    "            va='center',\n",
    "            fontweight='bold',\n",
    "            size=10,\n",
    "            color='white',\n",
    "            bbox=dict(facecolor='#445A64'))\n",
    "        counter += 1\n",
    "    bp.figure.tight_layout()\n",
    "    plt.grid()\n",
    "    plt.show()"
   ]
  },
  {
   "cell_type": "code",
   "execution_count": 24,
   "id": "74ced90b-873f-4709-9b2d-cff8bd25b6f9",
   "metadata": {
    "tags": []
   },
   "outputs": [
    {
     "data": {
      "image/png": "[encoded data removed]",
      "text/plain": [
       "<Figure size 864x720 with 1 Axes>"
      ]
     },
     "metadata": {
      "needs_background": "light"
     },
     "output_type": "display_data"
    }
   ],
   "source": [
    "target: str = \"reputation\"  \n",
    "# Extract histograms\n",
    "# plot_multiple_histograms(data=twitter_accounts_df, \n",
    "#                          grouped_col=grouped,\n",
    "#                          data_labels=data_labels,\n",
    "#                          target_col=target)\n",
    "# Extract Box-plots\n",
    "plot_multiple_boxplots(data=twitter_accounts_df,\n",
    "                       grouped_col=grouped,\n",
    "                       target_col=target,\n",
    "                       palette=palette)\n",
    "\n"
   ]
  },
  {
   "cell_type": "code",
   "execution_count": 25,
   "id": "1b5aae82-29ab-4927-98d0-dd35f772c07c",
   "metadata": {
    "tags": []
   },
   "outputs": [
    {
     "data": {
      "image/png": "[encoded data removed]",
      "text/plain": [
       "<Figure size 864x720 with 1 Axes>"
      ]
     },
     "metadata": {
      "needs_background": "light"
     },
     "output_type": "display_data"
    }
   ],
   "source": [
    "# analyse the average tweets per day\n",
    "target: str = \"account_age_days\"  \n",
    "# # Extract histograms\n",
    "# plot_multiple_histograms(data=twitter_accounts_df, \n",
    "#                          grouped_col=grouped,\n",
    "#                          data_labels=data_labels,\n",
    "#                          target_col=target)\n",
    "# Extract Box-plots\n",
    "plot_multiple_boxplots(data=twitter_accounts_df,\n",
    "                       grouped_col=grouped,\n",
    "                       target_col=target,\n",
    "                       palette=palette)"
   ]
  },
  {
   "cell_type": "code",
   "execution_count": 26,
   "id": "e6cc9e4e-741c-457f-8fe5-098543dc9ca6",
   "metadata": {
    "tags": []
   },
   "outputs": [
    {
     "data": {
      "text/plain": [
       "<AxesSubplot:xlabel='account_type'>"
      ]
     },
     "execution_count": 26,
     "metadata": {},
     "output_type": "execute_result"
    },
    {
     "data": {
      "image/png": "[encoded data removed]",
      "text/plain": [
       "<Figure size 432x288 with 1 Axes>"
      ]
     },
     "metadata": {
      "needs_background": "light"
     },
     "output_type": "display_data"
    }
   ],
   "source": [
    "target_col: str = \"verified\"\n",
    "twitter_accounts_df2 = twitter_accounts_df.groupby([grouped, target_col])[grouped].count().unstack(target_col)\n",
    "twitter_accounts_df2.plot(kind='bar', stacked=True)"
   ]
  },
  {
   "cell_type": "code",
   "execution_count": 27,
   "id": "8153b121-e02d-4547-8461-047a22ab5ef9",
   "metadata": {
    "tags": []
   },
   "outputs": [
    {
     "data": {
      "image/png": "[encoded data removed]",
      "text/plain": [
       "<Figure size 864x720 with 1 Axes>"
      ]
     },
     "metadata": {
      "needs_background": "light"
     },
     "output_type": "display_data"
    }
   ],
   "source": [
    "target: str = \"statuses_count\"  \n",
    "# Extract histograms\n",
    "# plot_multiple_histograms(data=twitter_accounts_df, \n",
    "#                          grouped_col=grouped,\n",
    "#                          data_labels=data_labels,\n",
    "#                          target_col=target)\n",
    "# Extract Box-plots\n",
    "plot_multiple_boxplots(data=twitter_accounts_df,\n",
    "                       grouped_col=grouped,\n",
    "                       target_col=target,\n",
    "                       palette=palette)"
   ]
  },
  {
   "cell_type": "code",
   "execution_count": 28,
   "id": "a2cccd94-5d7e-4651-98ed-99f338c19556",
   "metadata": {
    "tags": []
   },
   "outputs": [
    {
     "name": "stdout",
     "output_type": "stream",
     "text": [
      "               created_at  default_profile  default_profile_image  \\\n",
      "0     2016-10-15 21:32:11                0                      0   \n",
      "1     2016-11-09 05:01:30                0                      0   \n",
      "2     2017-06-17 05:34:27                0                      0   \n",
      "3     2016-07-21 13:32:25                1                      0   \n",
      "4     2012-01-15 16:32:35                0                      0   \n",
      "...                   ...              ...                    ...   \n",
      "37433 2009-08-08 13:11:15                1                      0   \n",
      "37434 2013-01-05 21:35:37                0                      0   \n",
      "37435 2013-01-14 18:05:54                1                      0   \n",
      "37436 2012-09-10 16:12:02                0                      0   \n",
      "37437 2011-12-12 12:59:28                0                      0   \n",
      "\n",
      "                                             description  favourites_count  \\\n",
      "0      Blame @xaiax, Inspired by @MakingInvisible, us...                 4   \n",
      "1      Photographing the American West since 1980. I ...               536   \n",
      "2      Scruffy looking nerf herder and @twitch broadc...              3307   \n",
      "3      Wife.Godmother.Friend.Feline Fanatic! Assistan...              8433   \n",
      "4                   Loan coach at @mancity & Aspiring DJ                88   \n",
      "...                                                  ...               ...   \n",
      "37433  Role: Stock Taker. Past Roles: Nanny, Sales As...               651   \n",
      "37434                    KINGDOM LANDLORD #FreeCornBread              8839   \n",
      "37435  Bienvenid@s al Twitter Oficial de Sergio Dalma...               399   \n",
      "37436  Just a good guy wrapped up in a bad system.\\nA...               967   \n",
      "37437                                              你好！中国              1092   \n",
      "\n",
      "       followers_count  friends_count  geo_enabled                  id   lang  \\\n",
      "0                 1589              4            0  787405734442958848     en   \n",
      "1                  860            880            0  796216118331310080     en   \n",
      "2                  172            594            1  875949740503859204     en   \n",
      "3                  517            633            1  756119643622735875     en   \n",
      "4               753678            116            1           464781334     en   \n",
      "...                ...            ...          ...                 ...    ...   \n",
      "37433              139           1105            0            63963107     en   \n",
      "37434          1121486            605            1          1064042478     en   \n",
      "37435            85630            190            0          1089732602     it   \n",
      "37436              138            166            1           815529979     en   \n",
      "37437                5             39            0           434896892  zh-cn   \n",
      "\n",
      "       ... statuses_count verified average_tweets_per_day account_age_days  \\\n",
      "0      ...          11041        0                  7.870             1403   \n",
      "1      ...            252        0                  0.183             1379   \n",
      "2      ...           1001        0                  0.864             1159   \n",
      "3      ...           1324        0                  0.889             1489   \n",
      "4      ...           4202        1                  1.339             3138   \n",
      "...    ...            ...      ...                    ...              ...   \n",
      "37433  ...            340        0                  0.084             4028   \n",
      "37434  ...          24970        1                  8.976             2782   \n",
      "37435  ...           6174        1                  2.226             2773   \n",
      "37436  ...            982        0                  0.339             2899   \n",
      "37437  ...           1563        0                  0.493             3172   \n",
      "\n",
      "       account_type  description_word_count  description_character_count  \\\n",
      "0               bot                      18                          112   \n",
      "1             human                      24                          137   \n",
      "2             human                      10                           71   \n",
      "3             human                       9                           89   \n",
      "4             human                       7                           30   \n",
      "...             ...                     ...                          ...   \n",
      "37433         human                      20                          136   \n",
      "37434         human                       3                           29   \n",
      "37435         human                       8                           64   \n",
      "37436         human                      17                           63   \n",
      "37437           bot                       1                            5   \n",
      "\n",
      "       avg_word      Entropy  reputation  \n",
      "0      6.222222     0.000000    0.997489  \n",
      "1      5.708333   -28.672653    0.494253  \n",
      "2      7.100000  -492.122086    0.224543  \n",
      "3      9.888889  -804.260834    0.449565  \n",
      "4      4.285714 -5282.108117    0.999846  \n",
      "...         ...          ...         ...  \n",
      "37433  6.800000 -6219.233529    0.111736  \n",
      "37434  9.666667 -3825.201836    0.999461  \n",
      "37435  8.000000    -6.149637    0.997786  \n",
      "37436  3.705882  -248.301547    0.453947  \n",
      "37437  5.000000  -639.263021    0.113636  \n",
      "\n",
      "[37438 rows x 24 columns]\n"
     ]
    }
   ],
   "source": [
    "twitter_accounts_df.describe().to_excel('descriptive_statistics3.xlsx')\n",
    "print(twitter_accounts_df)"
   ]
  },
  {
   "cell_type": "code",
   "execution_count": 29,
   "id": "83a6cee0-95f6-44fb-80a6-99a835890e8e",
   "metadata": {
    "tags": []
   },
   "outputs": [],
   "source": [
    "twitter_accounts_df.head()\n",
    "twitter_accounts_df.to_csv('cek.csv')"
   ]
  },
  {
   "cell_type": "code",
   "execution_count": 30,
   "id": "f134d745-eb58-4dad-8435-e2a65fc06574",
   "metadata": {
    "tags": []
   },
   "outputs": [
    {
     "ename": "TypeError",
     "evalue": "float() argument must be a string or a number, not 'Timestamp'",
     "output_type": "error",
     "traceback": [
      "\u001b[1;31m---------------------------------------------------------------------------\u001b[0m",
      "\u001b[1;31mTypeError\u001b[0m                                 Traceback (most recent call last)",
      "Input \u001b[1;32mIn [30]\u001b[0m, in \u001b[0;36m<module>\u001b[1;34m\u001b[0m\n\u001b[0;32m      6\u001b[0m \u001b[38;5;66;03m# scaling menggunakan MinMaxScaler pada fitur-fitur yang tersisa\u001b[39;00m\n\u001b[0;32m      7\u001b[0m scaler \u001b[38;5;241m=\u001b[39m MinMaxScaler(feature_range\u001b[38;5;241m=\u001b[39m(\u001b[38;5;241m0\u001b[39m,\u001b[38;5;241m100\u001b[39m))\n\u001b[1;32m----> 8\u001b[0m rescaledX \u001b[38;5;241m=\u001b[39m \u001b[43mscaler\u001b[49m\u001b[38;5;241;43m.\u001b[39;49m\u001b[43mfit_transform\u001b[49m\u001b[43m(\u001b[49m\u001b[43mtwitter_accounts_df\u001b[49m\u001b[43m)\u001b[49m\n",
      "File \u001b[1;32m~\\AppData\\Local\\Programs\\Python\\Python39\\lib\\site-packages\\sklearn\\base.py:867\u001b[0m, in \u001b[0;36mTransformerMixin.fit_transform\u001b[1;34m(self, X, y, **fit_params)\u001b[0m\n\u001b[0;32m    863\u001b[0m \u001b[38;5;66;03m# non-optimized default implementation; override when a better\u001b[39;00m\n\u001b[0;32m    864\u001b[0m \u001b[38;5;66;03m# method is possible for a given clustering algorithm\u001b[39;00m\n\u001b[0;32m    865\u001b[0m \u001b[38;5;28;01mif\u001b[39;00m y \u001b[38;5;129;01mis\u001b[39;00m \u001b[38;5;28;01mNone\u001b[39;00m:\n\u001b[0;32m    866\u001b[0m     \u001b[38;5;66;03m# fit method of arity 1 (unsupervised transformation)\u001b[39;00m\n\u001b[1;32m--> 867\u001b[0m     \u001b[38;5;28;01mreturn\u001b[39;00m \u001b[38;5;28mself\u001b[39m\u001b[38;5;241m.\u001b[39mfit(X, \u001b[38;5;241m*\u001b[39m\u001b[38;5;241m*\u001b[39mfit_params)\u001b[38;5;241m.\u001b[39mtransform(X)\n\u001b[0;32m    868\u001b[0m \u001b[38;5;28;01melse\u001b[39;00m:\n\u001b[0;32m    869\u001b[0m     \u001b[38;5;66;03m# fit method of arity 2 (supervised transformation)\u001b[39;00m\n\u001b[0;32m    870\u001b[0m     \u001b[38;5;28;01mreturn\u001b[39;00m \u001b[38;5;28mself\u001b[39m\u001b[38;5;241m.\u001b[39mfit(X, y, \u001b[38;5;241m*\u001b[39m\u001b[38;5;241m*\u001b[39mfit_params)\u001b[38;5;241m.\u001b[39mtransform(X)\n",
      "File \u001b[1;32m~\\AppData\\Local\\Programs\\Python\\Python39\\lib\\site-packages\\sklearn\\preprocessing\\_data.py:420\u001b[0m, in \u001b[0;36mMinMaxScaler.fit\u001b[1;34m(self, X, y)\u001b[0m\n\u001b[0;32m    418\u001b[0m \u001b[38;5;66;03m# Reset internal state before fitting\u001b[39;00m\n\u001b[0;32m    419\u001b[0m \u001b[38;5;28mself\u001b[39m\u001b[38;5;241m.\u001b[39m_reset()\n\u001b[1;32m--> 420\u001b[0m \u001b[38;5;28;01mreturn\u001b[39;00m \u001b[38;5;28;43mself\u001b[39;49m\u001b[38;5;241;43m.\u001b[39;49m\u001b[43mpartial_fit\u001b[49m\u001b[43m(\u001b[49m\u001b[43mX\u001b[49m\u001b[43m,\u001b[49m\u001b[43m \u001b[49m\u001b[43my\u001b[49m\u001b[43m)\u001b[49m\n",
      "File \u001b[1;32m~\\AppData\\Local\\Programs\\Python\\Python39\\lib\\site-packages\\sklearn\\preprocessing\\_data.py:457\u001b[0m, in \u001b[0;36mMinMaxScaler.partial_fit\u001b[1;34m(self, X, y)\u001b[0m\n\u001b[0;32m    451\u001b[0m     \u001b[38;5;28;01mraise\u001b[39;00m \u001b[38;5;167;01mTypeError\u001b[39;00m(\n\u001b[0;32m    452\u001b[0m         \u001b[38;5;124m\"\u001b[39m\u001b[38;5;124mMinMaxScaler does not support sparse input. \u001b[39m\u001b[38;5;124m\"\u001b[39m\n\u001b[0;32m    453\u001b[0m         \u001b[38;5;124m\"\u001b[39m\u001b[38;5;124mConsider using MaxAbsScaler instead.\u001b[39m\u001b[38;5;124m\"\u001b[39m\n\u001b[0;32m    454\u001b[0m     )\n\u001b[0;32m    456\u001b[0m first_pass \u001b[38;5;241m=\u001b[39m \u001b[38;5;129;01mnot\u001b[39;00m \u001b[38;5;28mhasattr\u001b[39m(\u001b[38;5;28mself\u001b[39m, \u001b[38;5;124m\"\u001b[39m\u001b[38;5;124mn_samples_seen_\u001b[39m\u001b[38;5;124m\"\u001b[39m)\n\u001b[1;32m--> 457\u001b[0m X \u001b[38;5;241m=\u001b[39m \u001b[38;5;28;43mself\u001b[39;49m\u001b[38;5;241;43m.\u001b[39;49m\u001b[43m_validate_data\u001b[49m\u001b[43m(\u001b[49m\n\u001b[0;32m    458\u001b[0m \u001b[43m    \u001b[49m\u001b[43mX\u001b[49m\u001b[43m,\u001b[49m\n\u001b[0;32m    459\u001b[0m \u001b[43m    \u001b[49m\u001b[43mreset\u001b[49m\u001b[38;5;241;43m=\u001b[39;49m\u001b[43mfirst_pass\u001b[49m\u001b[43m,\u001b[49m\n\u001b[0;32m    460\u001b[0m \u001b[43m    \u001b[49m\u001b[43mdtype\u001b[49m\u001b[38;5;241;43m=\u001b[39;49m\u001b[43mFLOAT_DTYPES\u001b[49m\u001b[43m,\u001b[49m\n\u001b[0;32m    461\u001b[0m \u001b[43m    \u001b[49m\u001b[43mforce_all_finite\u001b[49m\u001b[38;5;241;43m=\u001b[39;49m\u001b[38;5;124;43m\"\u001b[39;49m\u001b[38;5;124;43mallow-nan\u001b[39;49m\u001b[38;5;124;43m\"\u001b[39;49m\u001b[43m,\u001b[49m\n\u001b[0;32m    462\u001b[0m \u001b[43m\u001b[49m\u001b[43m)\u001b[49m\n\u001b[0;32m    464\u001b[0m data_min \u001b[38;5;241m=\u001b[39m np\u001b[38;5;241m.\u001b[39mnanmin(X, axis\u001b[38;5;241m=\u001b[39m\u001b[38;5;241m0\u001b[39m)\n\u001b[0;32m    465\u001b[0m data_max \u001b[38;5;241m=\u001b[39m np\u001b[38;5;241m.\u001b[39mnanmax(X, axis\u001b[38;5;241m=\u001b[39m\u001b[38;5;241m0\u001b[39m)\n",
      "File \u001b[1;32m~\\AppData\\Local\\Programs\\Python\\Python39\\lib\\site-packages\\sklearn\\base.py:577\u001b[0m, in \u001b[0;36mBaseEstimator._validate_data\u001b[1;34m(self, X, y, reset, validate_separately, **check_params)\u001b[0m\n\u001b[0;32m    575\u001b[0m     \u001b[38;5;28;01mraise\u001b[39;00m \u001b[38;5;167;01mValueError\u001b[39;00m(\u001b[38;5;124m\"\u001b[39m\u001b[38;5;124mValidation should be done on X, y or both.\u001b[39m\u001b[38;5;124m\"\u001b[39m)\n\u001b[0;32m    576\u001b[0m \u001b[38;5;28;01melif\u001b[39;00m \u001b[38;5;129;01mnot\u001b[39;00m no_val_X \u001b[38;5;129;01mand\u001b[39;00m no_val_y:\n\u001b[1;32m--> 577\u001b[0m     X \u001b[38;5;241m=\u001b[39m check_array(X, input_name\u001b[38;5;241m=\u001b[39m\u001b[38;5;124m\"\u001b[39m\u001b[38;5;124mX\u001b[39m\u001b[38;5;124m\"\u001b[39m, \u001b[38;5;241m*\u001b[39m\u001b[38;5;241m*\u001b[39mcheck_params)\n\u001b[0;32m    578\u001b[0m     out \u001b[38;5;241m=\u001b[39m X\n\u001b[0;32m    579\u001b[0m \u001b[38;5;28;01melif\u001b[39;00m no_val_X \u001b[38;5;129;01mand\u001b[39;00m \u001b[38;5;129;01mnot\u001b[39;00m no_val_y:\n",
      "File \u001b[1;32m~\\AppData\\Local\\Programs\\Python\\Python39\\lib\\site-packages\\sklearn\\utils\\validation.py:856\u001b[0m, in \u001b[0;36mcheck_array\u001b[1;34m(array, accept_sparse, accept_large_sparse, dtype, order, copy, force_all_finite, ensure_2d, allow_nd, ensure_min_samples, ensure_min_features, estimator, input_name)\u001b[0m\n\u001b[0;32m    854\u001b[0m         array \u001b[38;5;241m=\u001b[39m array\u001b[38;5;241m.\u001b[39mastype(dtype, casting\u001b[38;5;241m=\u001b[39m\u001b[38;5;124m\"\u001b[39m\u001b[38;5;124munsafe\u001b[39m\u001b[38;5;124m\"\u001b[39m, copy\u001b[38;5;241m=\u001b[39m\u001b[38;5;28;01mFalse\u001b[39;00m)\n\u001b[0;32m    855\u001b[0m     \u001b[38;5;28;01melse\u001b[39;00m:\n\u001b[1;32m--> 856\u001b[0m         array \u001b[38;5;241m=\u001b[39m \u001b[43mnp\u001b[49m\u001b[38;5;241;43m.\u001b[39;49m\u001b[43masarray\u001b[49m\u001b[43m(\u001b[49m\u001b[43marray\u001b[49m\u001b[43m,\u001b[49m\u001b[43m \u001b[49m\u001b[43morder\u001b[49m\u001b[38;5;241;43m=\u001b[39;49m\u001b[43morder\u001b[49m\u001b[43m,\u001b[49m\u001b[43m \u001b[49m\u001b[43mdtype\u001b[49m\u001b[38;5;241;43m=\u001b[39;49m\u001b[43mdtype\u001b[49m\u001b[43m)\u001b[49m\n\u001b[0;32m    857\u001b[0m \u001b[38;5;28;01mexcept\u001b[39;00m ComplexWarning \u001b[38;5;28;01mas\u001b[39;00m complex_warning:\n\u001b[0;32m    858\u001b[0m     \u001b[38;5;28;01mraise\u001b[39;00m \u001b[38;5;167;01mValueError\u001b[39;00m(\n\u001b[0;32m    859\u001b[0m         \u001b[38;5;124m\"\u001b[39m\u001b[38;5;124mComplex data not supported\u001b[39m\u001b[38;5;130;01m\\n\u001b[39;00m\u001b[38;5;132;01m{}\u001b[39;00m\u001b[38;5;130;01m\\n\u001b[39;00m\u001b[38;5;124m\"\u001b[39m\u001b[38;5;241m.\u001b[39mformat(array)\n\u001b[0;32m    860\u001b[0m     ) \u001b[38;5;28;01mfrom\u001b[39;00m \u001b[38;5;21;01mcomplex_warning\u001b[39;00m\n",
      "File \u001b[1;32m~\\AppData\\Roaming\\Python\\Python39\\site-packages\\pandas\\core\\generic.py:1993\u001b[0m, in \u001b[0;36mNDFrame.__array__\u001b[1;34m(self, dtype)\u001b[0m\n\u001b[0;32m   1992\u001b[0m \u001b[38;5;28;01mdef\u001b[39;00m \u001b[38;5;21m__array__\u001b[39m(\u001b[38;5;28mself\u001b[39m, dtype: NpDtype \u001b[38;5;241m|\u001b[39m \u001b[38;5;28;01mNone\u001b[39;00m \u001b[38;5;241m=\u001b[39m \u001b[38;5;28;01mNone\u001b[39;00m) \u001b[38;5;241m-\u001b[39m\u001b[38;5;241m>\u001b[39m np\u001b[38;5;241m.\u001b[39mndarray:\n\u001b[1;32m-> 1993\u001b[0m     \u001b[38;5;28;01mreturn\u001b[39;00m \u001b[43mnp\u001b[49m\u001b[38;5;241;43m.\u001b[39;49m\u001b[43masarray\u001b[49m\u001b[43m(\u001b[49m\u001b[38;5;28;43mself\u001b[39;49m\u001b[38;5;241;43m.\u001b[39;49m\u001b[43m_values\u001b[49m\u001b[43m,\u001b[49m\u001b[43m \u001b[49m\u001b[43mdtype\u001b[49m\u001b[38;5;241;43m=\u001b[39;49m\u001b[43mdtype\u001b[49m\u001b[43m)\u001b[49m\n",
      "\u001b[1;31mTypeError\u001b[0m: float() argument must be a string or a number, not 'Timestamp'"
     ]
    }
   ],
   "source": [
    "from sklearn.preprocessing import MinMaxScaler\n",
    "# twitter_accounts_df = twitter_accounts_df.drop('created_at', axis=1)\n",
    "# drop kolom \"created_at\"\n",
    "twitter_accounts_df.drop(labels=[\"lang\"], axis=1, inplace=True)\n",
    "\n",
    "# scaling menggunakan MinMaxScaler pada fitur-fitur yang tersisa\n",
    "scaler = MinMaxScaler(feature_range=(0,100))\n",
    "rescaledX = scaler.fit_transform(twitter_accounts_df)\n",
    "\n",
    "# Membuat DataFrame dari data yang telah discaling\n",
    "# scaled_df = pd.DataFrame(scaled_data, columns=data.columns)\n",
    "\n",
    "# Menyimpan DataFrame ke dalam file CSV\n",
    "# scaled_df.to_csv('data_scaled.csv', index=False)"
   ]
  },
  {
   "cell_type": "code",
   "execution_count": null,
   "id": "114644fc-8ab4-49a7-9ad4-b800ce2872c8",
   "metadata": {
    "tags": []
   },
   "outputs": [],
   "source": [
    "# Preprocess Response variable (account type)\n",
    "twitter_accounts_df[grouped] = twitter_accounts_df[grouped].astype('category')\n",
    "twitter_accounts_df.dtypes"
   ]
  },
  {
   "cell_type": "code",
   "execution_count": null,
   "id": "d91df11e-06e7-4ff5-b0fb-4e083e59055f",
   "metadata": {
    "tags": []
   },
   "outputs": [],
   "source": [
    "twitter_accounts_df[grouped] = twitter_accounts_df[grouped].cat.codes\n",
    "twitter_accounts_df.head()"
   ]
  },
  {
   "cell_type": "code",
   "execution_count": null,
   "id": "7bb827ab-6481-490d-a65b-153218461097",
   "metadata": {
    "tags": []
   },
   "outputs": [],
   "source": [
    "twitter_accounts_df_num: pd.DataFrame = twitter_accounts_df.copy()\n",
    "twitter_accounts_df_num: pd.DataFrame = twitter_accounts_df_num._get_numeric_data()\n",
    "twitter_accounts_df_num.head()"
   ]
  },
  {
   "cell_type": "code",
   "execution_count": null,
   "id": "98956364-86ae-4eb8-af91-5c9d3791eac8",
   "metadata": {
    "tags": []
   },
   "outputs": [],
   "source": [
    "# Remove columns\n",
    "drop_cols: list = [\"id\"]\n",
    "twitter_accounts_df_num.drop(drop_cols, axis=1,inplace=True)\n",
    "twitter_accounts_df_num.head()"
   ]
  },
  {
   "cell_type": "code",
   "execution_count": null,
   "id": "97540569-80b7-4550-80c0-c4b2b472da5e",
   "metadata": {
    "tags": []
   },
   "outputs": [],
   "source": [
    "# Compute correlation among the features and the response variable\n",
    "corr: pd.DataFrame = twitter_accounts_df_num.corr()\n",
    "sns.heatmap(corr, \n",
    "            xticklabels=corr.columns.values,\n",
    "            yticklabels=corr.columns.values,\n",
    "            annot = True, fmt='.1g', cmap= 'coolwarm')"
   ]
  },
  {
   "cell_type": "code",
   "execution_count": null,
   "id": "e950b204-ce85-4a7d-b76e-9f9847d32a89",
   "metadata": {
    "tags": []
   },
   "outputs": [],
   "source": [
    "# twitter_accounts_df_num.corr().to_excel('descriptive_statistics.xlsx')# "
   ]
  },
  {
   "cell_type": "code",
   "execution_count": null,
   "id": "e50df600-a2d8-4827-93a9-1ea83e1e3ca4",
   "metadata": {
    "tags": []
   },
   "outputs": [],
   "source": [
    "twitter_accounts_df_num.head()\n",
    "fitur = twitter_accounts_df_num"
   ]
  },
  {
   "cell_type": "code",
   "execution_count": null,
   "id": "5693aeb9-f509-42ac-8f80-ec09b7fac70a",
   "metadata": {
    "tags": []
   },
   "outputs": [],
   "source": [
    "# fitur = dataset[['verified', 'default_profile','default_profile_image','favourites_count','followers_count','friends_count','geo_enabled','statuses_count','verified','average_tweets_per_day']]\n",
    "# fitur = twitter_account_df_num\n",
    "# Pilih label yang akan digunakan\n",
    "label = dataset['account_type']\n",
    "\n",
    "# Pisahkan data menjadi data latih dan data uji\n",
    "X_train, X_test, y_train, y_test = train_test_split(fitur, label, test_size=0.2, random_state=42)\n",
    "\n",
    "# Membuat model Random Forest Classifier\n",
    "model = RandomForestClassifier(n_estimators=100, random_state=42)\n",
    "\n",
    "# Melatih model dengan data latih\n",
    "model.fit(X_train, y_train)\n",
    "\n",
    "plt.bar(fitur.columns, model.feature_importances_)\n",
    "plt.xticks(rotation=90)\n",
    "plt.show()\n",
    "\n",
    "# Memprediksi label pada data uji\n",
    "y_pred = model.predict(X_test)\n",
    "\n",
    "# Menghitung akurasi\n",
    "accuracy = accuracy_score(y_test, y_pred)\n",
    "print(\"Akurasi:\", accuracy)"
   ]
  },
  {
   "cell_type": "code",
   "execution_count": null,
   "id": "ba68945c-8924-461f-8264-333d66b17e6b",
   "metadata": {},
   "outputs": [],
   "source": [
    "cm = confusion_matrix(y_test, y_pred)\n",
    "\n",
    "# membuat plot confusion matrix\n",
    "sns.heatmap(cm, annot=True, fmt='g')\n",
    "plt.xlabel('Predicted')\n",
    "plt.ylabel('Actual')\n",
    "plt.show()\n",
    "print(cm)"
   ]
  },
  {
   "cell_type": "code",
   "execution_count": null,
   "id": "82aaa267-a74b-41c6-9bbe-dc907c9c8e98",
   "metadata": {},
   "outputs": [],
   "source": []
  }
 ],
 "metadata": {
  "kernelspec": {
   "display_name": "Python 3 (ipykernel)",
   "language": "python",
   "name": "python3"
  },
  "language_info": {
   "codemirror_mode": {
    "name": "ipython",
    "version": 3
   },
   "file_extension": ".py",
   "mimetype": "text/x-python",
   "name": "python",
   "nbconvert_exporter": "python",
   "pygments_lexer": "ipython3",
   "version": "3.9.7"
  }
 },
 "nbformat": 4,
 "nbformat_minor": 5
}

{
 "cells": [
  {
   "cell_type": "code",
   "execution_count": 1,
   "id": "7bc20976-2acc-44a6-af1c-4310094ed498",
   "metadata": {
    "tags": []
   },
   "outputs": [],
   "source": [
    "import pandas as pd\n",
    "import matplotlib.pyplot as plt\n",
    "from sklearn.feature_extraction.text import TfidfVectorizer\n",
    "from sklearn.ensemble import RandomForestClassifier\n",
    "from sklearn.model_selection import train_test_split\n",
    "from sklearn.metrics import confusion_matrix, precision_score, recall_score, f1_score,accuracy_score, classification_report\n",
    "import numpy as np\n"
   ]
  },
  {
   "cell_type": "code",
   "execution_count": 2,
   "id": "f84de6e4-4e23-428d-91b4-3ec5006651a0",
   "metadata": {
    "tags": []
   },
   "outputs": [
    {
     "data": {
      "text/html": [
       "<div>\n",
       "<style scoped>\n",
       "    .dataframe tbody tr th:only-of-type {\n",
       "        vertical-align: middle;\n",
       "    }\n",
       "\n",
       "    .dataframe tbody tr th {\n",
       "        vertical-align: top;\n",
       "    }\n",
       "\n",
       "    .dataframe thead th {\n",
       "        text-align: right;\n",
       "    }\n",
       "</style>\n",
       "<table border=\"1\" class=\"dataframe\">\n",
       "  <thead>\n",
       "    <tr style=\"text-align: right;\">\n",
       "      <th></th>\n",
       "      <th>created_at</th>\n",
       "      <th>default_profile</th>\n",
       "      <th>description</th>\n",
       "      <th>favourites_count</th>\n",
       "      <th>followers_count</th>\n",
       "      <th>friends_count</th>\n",
       "      <th>location</th>\n",
       "      <th>screen_name</th>\n",
       "      <th>statuses_count</th>\n",
       "      <th>verified</th>\n",
       "      <th>account_age_days</th>\n",
       "      <th>account_type</th>\n",
       "    </tr>\n",
       "  </thead>\n",
       "  <tbody>\n",
       "    <tr>\n",
       "      <th>0</th>\n",
       "      <td>2012-10-05 06:54:26</td>\n",
       "      <td>True</td>\n",
       "      <td>A visitor from Mars could easily pick out the ...</td>\n",
       "      <td>2169</td>\n",
       "      <td>0</td>\n",
       "      <td>111</td>\n",
       "      <td>Franklin, United States</td>\n",
       "      <td>lyndellwa88n49u</td>\n",
       "      <td>2195</td>\n",
       "      <td>False</td>\n",
       "      <td>2875</td>\n",
       "      <td>bot</td>\n",
       "    </tr>\n",
       "    <tr>\n",
       "      <th>1</th>\n",
       "      <td>2009-08-23 08:01:09</td>\n",
       "      <td>True</td>\n",
       "      <td>Do you like fast? Come in! 😻😻😻 https://t.co/k5...</td>\n",
       "      <td>54</td>\n",
       "      <td>6</td>\n",
       "      <td>65</td>\n",
       "      <td>Hungary</td>\n",
       "      <td>heyimjennu</td>\n",
       "      <td>11</td>\n",
       "      <td>False</td>\n",
       "      <td>4014</td>\n",
       "      <td>bot</td>\n",
       "    </tr>\n",
       "    <tr>\n",
       "      <th>2</th>\n",
       "      <td>2012-06-13 21:56:24</td>\n",
       "      <td>False</td>\n",
       "      <td>26 lesbian she/they 🏳️‍🌈 i love my grandma @nl...</td>\n",
       "      <td>34328</td>\n",
       "      <td>1132</td>\n",
       "      <td>468</td>\n",
       "      <td>unknown</td>\n",
       "      <td>JessiLyonne</td>\n",
       "      <td>28628</td>\n",
       "      <td>False</td>\n",
       "      <td>2988</td>\n",
       "      <td>human</td>\n",
       "    </tr>\n",
       "    <tr>\n",
       "      <th>3</th>\n",
       "      <td>2014-05-25 15:42:48</td>\n",
       "      <td>False</td>\n",
       "      <td>@celia_dvrT\\n1000年の苦しみ</td>\n",
       "      <td>6737</td>\n",
       "      <td>83</td>\n",
       "      <td>382</td>\n",
       "      <td>Konoha</td>\n",
       "      <td>thxdxr</td>\n",
       "      <td>13023</td>\n",
       "      <td>False</td>\n",
       "      <td>2277</td>\n",
       "      <td>human</td>\n",
       "    </tr>\n",
       "    <tr>\n",
       "      <th>4</th>\n",
       "      <td>2012-04-27 01:45:11</td>\n",
       "      <td>False</td>\n",
       "      <td>#ITweetMuseums...mostly insight into their col...</td>\n",
       "      <td>13498</td>\n",
       "      <td>4397</td>\n",
       "      <td>198</td>\n",
       "      <td>New York, NY</td>\n",
       "      <td>MarkBSchlemmer</td>\n",
       "      <td>15257</td>\n",
       "      <td>False</td>\n",
       "      <td>3036</td>\n",
       "      <td>human</td>\n",
       "    </tr>\n",
       "  </tbody>\n",
       "</table>\n",
       "</div>"
      ],
      "text/plain": [
       "            created_at  default_profile  \\\n",
       "0  2012-10-05 06:54:26             True   \n",
       "1  2009-08-23 08:01:09             True   \n",
       "2  2012-06-13 21:56:24            False   \n",
       "3  2014-05-25 15:42:48            False   \n",
       "4  2012-04-27 01:45:11            False   \n",
       "\n",
       "                                         description  favourites_count  \\\n",
       "0  A visitor from Mars could easily pick out the ...              2169   \n",
       "1  Do you like fast? Come in! 😻😻😻 https://t.co/k5...                54   \n",
       "2  26 lesbian she/they 🏳️‍🌈 i love my grandma @nl...             34328   \n",
       "3                             @celia_dvrT\\n1000年の苦しみ              6737   \n",
       "4  #ITweetMuseums...mostly insight into their col...             13498   \n",
       "\n",
       "   followers_count  friends_count                 location      screen_name  \\\n",
       "0                0            111  Franklin, United States  lyndellwa88n49u   \n",
       "1                6             65                  Hungary       heyimjennu   \n",
       "2             1132            468                  unknown      JessiLyonne   \n",
       "3               83            382                   Konoha           thxdxr   \n",
       "4             4397            198             New York, NY   MarkBSchlemmer   \n",
       "\n",
       "   statuses_count  verified  account_age_days account_type  \n",
       "0            2195     False              2875          bot  \n",
       "1              11     False              4014          bot  \n",
       "2           28628     False              2988        human  \n",
       "3           13023     False              2277        human  \n",
       "4           15257     False              3036        human  "
      ]
     },
     "execution_count": 2,
     "metadata": {},
     "output_type": "execute_result"
    }
   ],
   "source": [
    "# Load dataset\n",
    "dataset = pd.read_csv('training_dataset.csv')\n",
    "dataset.head()"
   ]
  },
  {
   "cell_type": "code",
   "execution_count": 3,
   "id": "e8e8950e-5cac-4279-b5f0-939cdb968045",
   "metadata": {
    "tags": []
   },
   "outputs": [],
   "source": [
    "def preprocessing():\n",
    "    # menghapus nilai duplikat yang sama\n",
    "    dataset = dataset.drop_duplicates(keep='first', inplace=False)\n",
    "    # mengubah format datetime dalam format standar\n",
    "    dataset['created_at']= pd.to_datetime(dataset['created_at'])\n",
    "    print(len(dataset))\n",
    "    print(dataset['created_at'].dtype)\n",
    "    # dataset.replace(np.inf, 0) \n",
    "    # dataset.replace(-np.inf, 0)"
   ]
  },
  {
   "cell_type": "code",
   "execution_count": 4,
   "id": "ea934e01",
   "metadata": {
    "tags": []
   },
   "outputs": [],
   "source": [
    "dataset['ratio_statuses_count_per_age']=dataset['statuses_count']/dataset['account_age_days']"
   ]
  },
  {
   "cell_type": "code",
   "execution_count": 5,
   "id": "5e0db6a3",
   "metadata": {
    "tags": []
   },
   "outputs": [],
   "source": [
    "dataset['ratio_favorites_per_age']=dataset['favourites_count']/dataset['account_age_days']"
   ]
  },
  {
   "cell_type": "code",
   "execution_count": 6,
   "id": "f10fc49b",
   "metadata": {
    "tags": []
   },
   "outputs": [],
   "source": [
    "dataset['ratio_friends_per_followers']=dataset['friends_count']/dataset['followers_count']"
   ]
  },
  {
   "cell_type": "code",
   "execution_count": 7,
   "id": "6b00ea4e",
   "metadata": {
    "tags": []
   },
   "outputs": [],
   "source": [
    "dataset['description'].fillna('x', inplace = True)"
   ]
  },
  {
   "cell_type": "code",
   "execution_count": 8,
   "id": "fbd61167",
   "metadata": {
    "tags": []
   },
   "outputs": [],
   "source": [
    "dataset['word_count']=dataset['description'].apply(lambda x: \n",
    "len(str(x).split(\" \")))#count the word"
   ]
  },
  {
   "cell_type": "code",
   "execution_count": 9,
   "id": "dfd07863",
   "metadata": {
    "tags": []
   },
   "outputs": [],
   "source": [
    "dataset['char_count'] = dataset['description'].str.len() \n",
    "#count the character including space"
   ]
  },
  {
   "cell_type": "code",
   "execution_count": 10,
   "id": "14b0ad09",
   "metadata": {
    "tags": []
   },
   "outputs": [
    {
     "name": "stdout",
     "output_type": "stream",
     "text": [
      "1200\n"
     ]
    }
   ],
   "source": [
    "dataset['reputation']= dataset['followers_count']/(dataset['followers_count']+ dataset['friends_count'])\n",
    "dataset.head()\n",
    "print(len(dataset))\n"
   ]
  },
  {
   "cell_type": "code",
   "execution_count": 11,
   "id": "d97508d1",
   "metadata": {
    "tags": []
   },
   "outputs": [
    {
     "name": "stdout",
     "output_type": "stream",
     "text": [
      "1200\n"
     ]
    }
   ],
   "source": [
    "#Feture Entrophy\n",
    "# Mengubah tipe data kolom 'created_at' menjadi datetime\n",
    "dataset['created_at'] = pd.to_datetime(dataset['created_at'])\n",
    "#menugurutkan\n",
    "dataset.sort_values([\"screen_name\", \"created_at\"])\n",
    "dataset.head()\n",
    "print(len(dataset))\n"
   ]
  },
  {
   "cell_type": "code",
   "execution_count": 12,
   "id": "ca215680",
   "metadata": {
    "tags": []
   },
   "outputs": [],
   "source": [
    "# dataset['time_diff'] = (dataset['created_at'] - dataset['created_at'].shift()).abs()  / np.timedelta64(1, 'h')\n",
    "# #fill missing value in time_diff with zero\n",
    "# dataset['time_diff'] = dataset['time_diff'].fillna(0)\n",
    "# #there is 50 tweet per user extracted, so n=50\n",
    "# g_sum = 50 \n",
    "# #measure the probability for this interval\n",
    "# values = dataset['time_diff']/g_sum\n",
    "# #time interval entropy\n",
    "# dataset['entropy'] = -(values*np.log(values))\n",
    "# dataset['entropy'] = dataset['entropy'].fillna(0)\n",
    "# # dataset.dropna(inplace=True)\n",
    "# # dataset.drop(dataset[dataset.entropy < 0].index, inplace=True)\n",
    "# dataset.to_csv('hasil_min.csv')\n",
    "\n"
   ]
  },
  {
   "cell_type": "code",
   "execution_count": 13,
   "id": "f9baeddf",
   "metadata": {
    "tags": []
   },
   "outputs": [],
   "source": [
    "dataset.drop(['created_at'], axis=1,inplace=True)\n",
    "# dataset.head()"
   ]
  },
  {
   "cell_type": "code",
   "execution_count": 14,
   "id": "d45e95a3",
   "metadata": {
    "tags": []
   },
   "outputs": [
    {
     "name": "stdout",
     "output_type": "stream",
     "text": [
      "1200\n"
     ]
    }
   ],
   "source": [
    "# mengubah menjadi boolean dan mengecek apakah tidak ada null.\n",
    "dataset['location']=pd.notnull(dataset['location'])\n",
    "dataset.head()\n",
    "print(len(dataset))"
   ]
  },
  {
   "cell_type": "code",
   "execution_count": 15,
   "id": "d72dc4fb",
   "metadata": {
    "tags": []
   },
   "outputs": [
    {
     "data": {
      "text/plain": [
       "0"
      ]
     },
     "execution_count": 15,
     "metadata": {},
     "output_type": "execute_result"
    }
   ],
   "source": [
    "# mengecek apakah dalam descripsi ada teks bot atau tidak dan menjadikannya kedalam bolean\n",
    "import re\n",
    "dataset['contains_bot_name']=dataset['description'].str.extract(\"\\b(bot|b0t|updates|hourly|automatically|generating|generated|every|computer-generated|twitterbot|automated|FakeBots|')\\b|Bots\", \n",
    "                                                                        flags=re.IGNORECASE,expand=False)\n",
    "                                                                        # regex=True)\n",
    "dataset['contains_bot_name'].fillna(0).astype(bool).sum(axis=0)"
   ]
  },
  {
   "cell_type": "code",
   "execution_count": 16,
   "id": "f3eb1d3c",
   "metadata": {
    "tags": []
   },
   "outputs": [
    {
     "data": {
      "text/html": [
       "<div>\n",
       "<style scoped>\n",
       "    .dataframe tbody tr th:only-of-type {\n",
       "        vertical-align: middle;\n",
       "    }\n",
       "\n",
       "    .dataframe tbody tr th {\n",
       "        vertical-align: top;\n",
       "    }\n",
       "\n",
       "    .dataframe thead th {\n",
       "        text-align: right;\n",
       "    }\n",
       "</style>\n",
       "<table border=\"1\" class=\"dataframe\">\n",
       "  <thead>\n",
       "    <tr style=\"text-align: right;\">\n",
       "      <th></th>\n",
       "      <th>default_profile</th>\n",
       "      <th>description</th>\n",
       "      <th>favourites_count</th>\n",
       "      <th>followers_count</th>\n",
       "      <th>friends_count</th>\n",
       "      <th>location</th>\n",
       "      <th>screen_name</th>\n",
       "      <th>statuses_count</th>\n",
       "      <th>verified</th>\n",
       "      <th>account_age_days</th>\n",
       "      <th>...</th>\n",
       "      <th>ratio_statuses_count_per_age</th>\n",
       "      <th>ratio_favorites_per_age</th>\n",
       "      <th>ratio_friends_per_followers</th>\n",
       "      <th>word_count</th>\n",
       "      <th>char_count</th>\n",
       "      <th>reputation</th>\n",
       "      <th>contains_bot_name</th>\n",
       "      <th>description_word_count</th>\n",
       "      <th>description_character_count</th>\n",
       "      <th>avg_word</th>\n",
       "    </tr>\n",
       "  </thead>\n",
       "  <tbody>\n",
       "    <tr>\n",
       "      <th>0</th>\n",
       "      <td>True</td>\n",
       "      <td>A visitor from Mars could easily pick out the ...</td>\n",
       "      <td>2169</td>\n",
       "      <td>0</td>\n",
       "      <td>111</td>\n",
       "      <td>True</td>\n",
       "      <td>lyndellwa88n49u</td>\n",
       "      <td>2195</td>\n",
       "      <td>False</td>\n",
       "      <td>2875</td>\n",
       "      <td>...</td>\n",
       "      <td>0.763478</td>\n",
       "      <td>0.754435</td>\n",
       "      <td>inf</td>\n",
       "      <td>18</td>\n",
       "      <td>102</td>\n",
       "      <td>0.000000</td>\n",
       "      <td>NaN</td>\n",
       "      <td>18</td>\n",
       "      <td>85</td>\n",
       "      <td>4.722222</td>\n",
       "    </tr>\n",
       "    <tr>\n",
       "      <th>1</th>\n",
       "      <td>True</td>\n",
       "      <td>Do you like fast? Come in! 😻😻😻 https://t.co/k5...</td>\n",
       "      <td>54</td>\n",
       "      <td>6</td>\n",
       "      <td>65</td>\n",
       "      <td>True</td>\n",
       "      <td>heyimjennu</td>\n",
       "      <td>11</td>\n",
       "      <td>False</td>\n",
       "      <td>4014</td>\n",
       "      <td>...</td>\n",
       "      <td>0.002740</td>\n",
       "      <td>0.013453</td>\n",
       "      <td>10.833333</td>\n",
       "      <td>8</td>\n",
       "      <td>54</td>\n",
       "      <td>0.084507</td>\n",
       "      <td>NaN</td>\n",
       "      <td>8</td>\n",
       "      <td>47</td>\n",
       "      <td>5.875000</td>\n",
       "    </tr>\n",
       "    <tr>\n",
       "      <th>2</th>\n",
       "      <td>False</td>\n",
       "      <td>26 lesbian she/they 🏳️‍🌈 i love my grandma @nl...</td>\n",
       "      <td>34328</td>\n",
       "      <td>1132</td>\n",
       "      <td>468</td>\n",
       "      <td>True</td>\n",
       "      <td>JessiLyonne</td>\n",
       "      <td>28628</td>\n",
       "      <td>False</td>\n",
       "      <td>2988</td>\n",
       "      <td>...</td>\n",
       "      <td>9.580991</td>\n",
       "      <td>11.488621</td>\n",
       "      <td>0.413428</td>\n",
       "      <td>10</td>\n",
       "      <td>54</td>\n",
       "      <td>0.707500</td>\n",
       "      <td>NaN</td>\n",
       "      <td>10</td>\n",
       "      <td>45</td>\n",
       "      <td>4.500000</td>\n",
       "    </tr>\n",
       "    <tr>\n",
       "      <th>3</th>\n",
       "      <td>False</td>\n",
       "      <td>@celia_dvrT\\n1000年の苦しみ</td>\n",
       "      <td>6737</td>\n",
       "      <td>83</td>\n",
       "      <td>382</td>\n",
       "      <td>True</td>\n",
       "      <td>thxdxr</td>\n",
       "      <td>13023</td>\n",
       "      <td>False</td>\n",
       "      <td>2277</td>\n",
       "      <td>...</td>\n",
       "      <td>5.719368</td>\n",
       "      <td>2.958718</td>\n",
       "      <td>4.602410</td>\n",
       "      <td>1</td>\n",
       "      <td>21</td>\n",
       "      <td>0.178495</td>\n",
       "      <td>NaN</td>\n",
       "      <td>2</td>\n",
       "      <td>20</td>\n",
       "      <td>10.000000</td>\n",
       "    </tr>\n",
       "    <tr>\n",
       "      <th>4</th>\n",
       "      <td>False</td>\n",
       "      <td>#ITweetMuseums...mostly insight into their col...</td>\n",
       "      <td>13498</td>\n",
       "      <td>4397</td>\n",
       "      <td>198</td>\n",
       "      <td>True</td>\n",
       "      <td>MarkBSchlemmer</td>\n",
       "      <td>15257</td>\n",
       "      <td>False</td>\n",
       "      <td>3036</td>\n",
       "      <td>...</td>\n",
       "      <td>5.025362</td>\n",
       "      <td>4.445982</td>\n",
       "      <td>0.045031</td>\n",
       "      <td>19</td>\n",
       "      <td>157</td>\n",
       "      <td>0.956910</td>\n",
       "      <td>NaN</td>\n",
       "      <td>19</td>\n",
       "      <td>139</td>\n",
       "      <td>7.315789</td>\n",
       "    </tr>\n",
       "  </tbody>\n",
       "</table>\n",
       "<p>5 rows × 21 columns</p>\n",
       "</div>"
      ],
      "text/plain": [
       "   default_profile                                        description  \\\n",
       "0             True  A visitor from Mars could easily pick out the ...   \n",
       "1             True  Do you like fast? Come in! 😻😻😻 https://t.co/k5...   \n",
       "2            False  26 lesbian she/they 🏳️‍🌈 i love my grandma @nl...   \n",
       "3            False                             @celia_dvrT\\n1000年の苦しみ   \n",
       "4            False  #ITweetMuseums...mostly insight into their col...   \n",
       "\n",
       "   favourites_count  followers_count  friends_count  location  \\\n",
       "0              2169                0            111      True   \n",
       "1                54                6             65      True   \n",
       "2             34328             1132            468      True   \n",
       "3              6737               83            382      True   \n",
       "4             13498             4397            198      True   \n",
       "\n",
       "       screen_name  statuses_count  verified  account_age_days  ...  \\\n",
       "0  lyndellwa88n49u            2195     False              2875  ...   \n",
       "1       heyimjennu              11     False              4014  ...   \n",
       "2      JessiLyonne           28628     False              2988  ...   \n",
       "3           thxdxr           13023     False              2277  ...   \n",
       "4   MarkBSchlemmer           15257     False              3036  ...   \n",
       "\n",
       "  ratio_statuses_count_per_age  ratio_favorites_per_age  \\\n",
       "0                     0.763478                 0.754435   \n",
       "1                     0.002740                 0.013453   \n",
       "2                     9.580991                11.488621   \n",
       "3                     5.719368                 2.958718   \n",
       "4                     5.025362                 4.445982   \n",
       "\n",
       "   ratio_friends_per_followers  word_count  char_count  reputation  \\\n",
       "0                          inf          18         102    0.000000   \n",
       "1                    10.833333           8          54    0.084507   \n",
       "2                     0.413428          10          54    0.707500   \n",
       "3                     4.602410           1          21    0.178495   \n",
       "4                     0.045031          19         157    0.956910   \n",
       "\n",
       "   contains_bot_name description_word_count  description_character_count  \\\n",
       "0                NaN                     18                           85   \n",
       "1                NaN                      8                           47   \n",
       "2                NaN                     10                           45   \n",
       "3                NaN                      2                           20   \n",
       "4                NaN                     19                          139   \n",
       "\n",
       "    avg_word  \n",
       "0   4.722222  \n",
       "1   5.875000  \n",
       "2   4.500000  \n",
       "3  10.000000  \n",
       "4   7.315789  \n",
       "\n",
       "[5 rows x 21 columns]"
      ]
     },
     "execution_count": 16,
     "metadata": {},
     "output_type": "execute_result"
    }
   ],
   "source": [
    "#Feature avg_word\n",
    "dataset['description'] = dataset['description'].astype(str)\n",
    "dataset['description_word_count'] = dataset['description'].apply(lambda x: len(str(x).split()))\n",
    "dataset['description_character_count'] = dataset['description'].apply(lambda x: sum(len(word) for word in str(x).split()))\n",
    "dataset['avg_word'] = dataset['description_character_count'] / dataset['description_word_count']\n",
    "dataset.head()"
   ]
  },
  {
   "cell_type": "code",
   "execution_count": 17,
   "id": "52d9bbb9-496b-4d43-b319-98b6355c84d0",
   "metadata": {
    "tags": []
   },
   "outputs": [],
   "source": [
    "dataset.to_csv(\"ceknihboy.csv\")"
   ]
  },
  {
   "cell_type": "code",
   "execution_count": 18,
   "id": "d77d2fca",
   "metadata": {
    "tags": []
   },
   "outputs": [],
   "source": [
    "dataset.drop(['screen_name','description'], inplace=True, axis=1)"
   ]
  },
  {
   "cell_type": "code",
   "execution_count": 19,
   "id": "bfb8ae44",
   "metadata": {
    "tags": []
   },
   "outputs": [],
   "source": [
    "# dataset.head()\n",
    "dataset[\"reputation\"].fillna(0, inplace = True) "
   ]
  },
  {
   "cell_type": "code",
   "execution_count": 20,
   "id": "1c6cee49",
   "metadata": {
    "tags": []
   },
   "outputs": [
    {
     "data": {
      "text/html": [
       "<div>\n",
       "<style scoped>\n",
       "    .dataframe tbody tr th:only-of-type {\n",
       "        vertical-align: middle;\n",
       "    }\n",
       "\n",
       "    .dataframe tbody tr th {\n",
       "        vertical-align: top;\n",
       "    }\n",
       "\n",
       "    .dataframe thead th {\n",
       "        text-align: right;\n",
       "    }\n",
       "</style>\n",
       "<table border=\"1\" class=\"dataframe\">\n",
       "  <thead>\n",
       "    <tr style=\"text-align: right;\">\n",
       "      <th></th>\n",
       "      <th>default_profile</th>\n",
       "      <th>favourites_count</th>\n",
       "      <th>followers_count</th>\n",
       "      <th>friends_count</th>\n",
       "      <th>location</th>\n",
       "      <th>statuses_count</th>\n",
       "      <th>verified</th>\n",
       "      <th>account_age_days</th>\n",
       "      <th>account_type</th>\n",
       "      <th>ratio_statuses_count_per_age</th>\n",
       "      <th>ratio_favorites_per_age</th>\n",
       "      <th>ratio_friends_per_followers</th>\n",
       "      <th>word_count</th>\n",
       "      <th>char_count</th>\n",
       "      <th>reputation</th>\n",
       "      <th>contains_bot_name</th>\n",
       "      <th>description_word_count</th>\n",
       "      <th>description_character_count</th>\n",
       "      <th>avg_word</th>\n",
       "    </tr>\n",
       "  </thead>\n",
       "  <tbody>\n",
       "    <tr>\n",
       "      <th>0</th>\n",
       "      <td>True</td>\n",
       "      <td>2169</td>\n",
       "      <td>0</td>\n",
       "      <td>111</td>\n",
       "      <td>True</td>\n",
       "      <td>2195</td>\n",
       "      <td>False</td>\n",
       "      <td>2875</td>\n",
       "      <td>bot</td>\n",
       "      <td>0.763478</td>\n",
       "      <td>0.754435</td>\n",
       "      <td>inf</td>\n",
       "      <td>18</td>\n",
       "      <td>102</td>\n",
       "      <td>0.000000</td>\n",
       "      <td>False</td>\n",
       "      <td>18</td>\n",
       "      <td>85</td>\n",
       "      <td>4.722222</td>\n",
       "    </tr>\n",
       "    <tr>\n",
       "      <th>1</th>\n",
       "      <td>True</td>\n",
       "      <td>54</td>\n",
       "      <td>6</td>\n",
       "      <td>65</td>\n",
       "      <td>True</td>\n",
       "      <td>11</td>\n",
       "      <td>False</td>\n",
       "      <td>4014</td>\n",
       "      <td>bot</td>\n",
       "      <td>0.002740</td>\n",
       "      <td>0.013453</td>\n",
       "      <td>10.833333</td>\n",
       "      <td>8</td>\n",
       "      <td>54</td>\n",
       "      <td>0.084507</td>\n",
       "      <td>False</td>\n",
       "      <td>8</td>\n",
       "      <td>47</td>\n",
       "      <td>5.875000</td>\n",
       "    </tr>\n",
       "    <tr>\n",
       "      <th>2</th>\n",
       "      <td>False</td>\n",
       "      <td>34328</td>\n",
       "      <td>1132</td>\n",
       "      <td>468</td>\n",
       "      <td>True</td>\n",
       "      <td>28628</td>\n",
       "      <td>False</td>\n",
       "      <td>2988</td>\n",
       "      <td>human</td>\n",
       "      <td>9.580991</td>\n",
       "      <td>11.488621</td>\n",
       "      <td>0.413428</td>\n",
       "      <td>10</td>\n",
       "      <td>54</td>\n",
       "      <td>0.707500</td>\n",
       "      <td>False</td>\n",
       "      <td>10</td>\n",
       "      <td>45</td>\n",
       "      <td>4.500000</td>\n",
       "    </tr>\n",
       "    <tr>\n",
       "      <th>3</th>\n",
       "      <td>False</td>\n",
       "      <td>6737</td>\n",
       "      <td>83</td>\n",
       "      <td>382</td>\n",
       "      <td>True</td>\n",
       "      <td>13023</td>\n",
       "      <td>False</td>\n",
       "      <td>2277</td>\n",
       "      <td>human</td>\n",
       "      <td>5.719368</td>\n",
       "      <td>2.958718</td>\n",
       "      <td>4.602410</td>\n",
       "      <td>1</td>\n",
       "      <td>21</td>\n",
       "      <td>0.178495</td>\n",
       "      <td>False</td>\n",
       "      <td>2</td>\n",
       "      <td>20</td>\n",
       "      <td>10.000000</td>\n",
       "    </tr>\n",
       "    <tr>\n",
       "      <th>4</th>\n",
       "      <td>False</td>\n",
       "      <td>13498</td>\n",
       "      <td>4397</td>\n",
       "      <td>198</td>\n",
       "      <td>True</td>\n",
       "      <td>15257</td>\n",
       "      <td>False</td>\n",
       "      <td>3036</td>\n",
       "      <td>human</td>\n",
       "      <td>5.025362</td>\n",
       "      <td>4.445982</td>\n",
       "      <td>0.045031</td>\n",
       "      <td>19</td>\n",
       "      <td>157</td>\n",
       "      <td>0.956910</td>\n",
       "      <td>False</td>\n",
       "      <td>19</td>\n",
       "      <td>139</td>\n",
       "      <td>7.315789</td>\n",
       "    </tr>\n",
       "    <tr>\n",
       "      <th>...</th>\n",
       "      <td>...</td>\n",
       "      <td>...</td>\n",
       "      <td>...</td>\n",
       "      <td>...</td>\n",
       "      <td>...</td>\n",
       "      <td>...</td>\n",
       "      <td>...</td>\n",
       "      <td>...</td>\n",
       "      <td>...</td>\n",
       "      <td>...</td>\n",
       "      <td>...</td>\n",
       "      <td>...</td>\n",
       "      <td>...</td>\n",
       "      <td>...</td>\n",
       "      <td>...</td>\n",
       "      <td>...</td>\n",
       "      <td>...</td>\n",
       "      <td>...</td>\n",
       "      <td>...</td>\n",
       "    </tr>\n",
       "    <tr>\n",
       "      <th>1195</th>\n",
       "      <td>False</td>\n",
       "      <td>1669</td>\n",
       "      <td>43746</td>\n",
       "      <td>968</td>\n",
       "      <td>True</td>\n",
       "      <td>2009</td>\n",
       "      <td>False</td>\n",
       "      <td>2993</td>\n",
       "      <td>human</td>\n",
       "      <td>0.671233</td>\n",
       "      <td>0.557634</td>\n",
       "      <td>0.022128</td>\n",
       "      <td>19</td>\n",
       "      <td>134</td>\n",
       "      <td>0.978351</td>\n",
       "      <td>False</td>\n",
       "      <td>19</td>\n",
       "      <td>116</td>\n",
       "      <td>6.105263</td>\n",
       "    </tr>\n",
       "    <tr>\n",
       "      <th>1196</th>\n",
       "      <td>True</td>\n",
       "      <td>724</td>\n",
       "      <td>171030</td>\n",
       "      <td>169</td>\n",
       "      <td>True</td>\n",
       "      <td>3335</td>\n",
       "      <td>True</td>\n",
       "      <td>2333</td>\n",
       "      <td>human</td>\n",
       "      <td>1.429490</td>\n",
       "      <td>0.310330</td>\n",
       "      <td>0.000988</td>\n",
       "      <td>11</td>\n",
       "      <td>91</td>\n",
       "      <td>0.999013</td>\n",
       "      <td>False</td>\n",
       "      <td>11</td>\n",
       "      <td>81</td>\n",
       "      <td>7.363636</td>\n",
       "    </tr>\n",
       "    <tr>\n",
       "      <th>1197</th>\n",
       "      <td>True</td>\n",
       "      <td>2260</td>\n",
       "      <td>22</td>\n",
       "      <td>0</td>\n",
       "      <td>True</td>\n",
       "      <td>3438</td>\n",
       "      <td>False</td>\n",
       "      <td>3136</td>\n",
       "      <td>bot</td>\n",
       "      <td>1.096301</td>\n",
       "      <td>0.720663</td>\n",
       "      <td>0.000000</td>\n",
       "      <td>1</td>\n",
       "      <td>1</td>\n",
       "      <td>1.000000</td>\n",
       "      <td>False</td>\n",
       "      <td>1</td>\n",
       "      <td>1</td>\n",
       "      <td>1.000000</td>\n",
       "    </tr>\n",
       "    <tr>\n",
       "      <th>1198</th>\n",
       "      <td>True</td>\n",
       "      <td>1273</td>\n",
       "      <td>28</td>\n",
       "      <td>319</td>\n",
       "      <td>True</td>\n",
       "      <td>2063</td>\n",
       "      <td>False</td>\n",
       "      <td>4027</td>\n",
       "      <td>bot</td>\n",
       "      <td>0.512292</td>\n",
       "      <td>0.316116</td>\n",
       "      <td>11.392857</td>\n",
       "      <td>1</td>\n",
       "      <td>1</td>\n",
       "      <td>0.080692</td>\n",
       "      <td>False</td>\n",
       "      <td>1</td>\n",
       "      <td>1</td>\n",
       "      <td>1.000000</td>\n",
       "    </tr>\n",
       "    <tr>\n",
       "      <th>1199</th>\n",
       "      <td>True</td>\n",
       "      <td>56022</td>\n",
       "      <td>19350</td>\n",
       "      <td>9727</td>\n",
       "      <td>True</td>\n",
       "      <td>58078</td>\n",
       "      <td>False</td>\n",
       "      <td>2915</td>\n",
       "      <td>human</td>\n",
       "      <td>19.923842</td>\n",
       "      <td>19.218525</td>\n",
       "      <td>0.502687</td>\n",
       "      <td>13</td>\n",
       "      <td>148</td>\n",
       "      <td>0.665474</td>\n",
       "      <td>False</td>\n",
       "      <td>13</td>\n",
       "      <td>136</td>\n",
       "      <td>10.461538</td>\n",
       "    </tr>\n",
       "  </tbody>\n",
       "</table>\n",
       "<p>1200 rows × 19 columns</p>\n",
       "</div>"
      ],
      "text/plain": [
       "      default_profile  favourites_count  followers_count  friends_count  \\\n",
       "0                True              2169                0            111   \n",
       "1                True                54                6             65   \n",
       "2               False             34328             1132            468   \n",
       "3               False              6737               83            382   \n",
       "4               False             13498             4397            198   \n",
       "...               ...               ...              ...            ...   \n",
       "1195            False              1669            43746            968   \n",
       "1196             True               724           171030            169   \n",
       "1197             True              2260               22              0   \n",
       "1198             True              1273               28            319   \n",
       "1199             True             56022            19350           9727   \n",
       "\n",
       "      location  statuses_count  verified  account_age_days account_type  \\\n",
       "0         True            2195     False              2875          bot   \n",
       "1         True              11     False              4014          bot   \n",
       "2         True           28628     False              2988        human   \n",
       "3         True           13023     False              2277        human   \n",
       "4         True           15257     False              3036        human   \n",
       "...        ...             ...       ...               ...          ...   \n",
       "1195      True            2009     False              2993        human   \n",
       "1196      True            3335      True              2333        human   \n",
       "1197      True            3438     False              3136          bot   \n",
       "1198      True            2063     False              4027          bot   \n",
       "1199      True           58078     False              2915        human   \n",
       "\n",
       "      ratio_statuses_count_per_age  ratio_favorites_per_age  \\\n",
       "0                         0.763478                 0.754435   \n",
       "1                         0.002740                 0.013453   \n",
       "2                         9.580991                11.488621   \n",
       "3                         5.719368                 2.958718   \n",
       "4                         5.025362                 4.445982   \n",
       "...                            ...                      ...   \n",
       "1195                      0.671233                 0.557634   \n",
       "1196                      1.429490                 0.310330   \n",
       "1197                      1.096301                 0.720663   \n",
       "1198                      0.512292                 0.316116   \n",
       "1199                     19.923842                19.218525   \n",
       "\n",
       "      ratio_friends_per_followers  word_count  char_count  reputation  \\\n",
       "0                             inf          18         102    0.000000   \n",
       "1                       10.833333           8          54    0.084507   \n",
       "2                        0.413428          10          54    0.707500   \n",
       "3                        4.602410           1          21    0.178495   \n",
       "4                        0.045031          19         157    0.956910   \n",
       "...                           ...         ...         ...         ...   \n",
       "1195                     0.022128          19         134    0.978351   \n",
       "1196                     0.000988          11          91    0.999013   \n",
       "1197                     0.000000           1           1    1.000000   \n",
       "1198                    11.392857           1           1    0.080692   \n",
       "1199                     0.502687          13         148    0.665474   \n",
       "\n",
       "      contains_bot_name  description_word_count  description_character_count  \\\n",
       "0                 False                      18                           85   \n",
       "1                 False                       8                           47   \n",
       "2                 False                      10                           45   \n",
       "3                 False                       2                           20   \n",
       "4                 False                      19                          139   \n",
       "...                 ...                     ...                          ...   \n",
       "1195              False                      19                          116   \n",
       "1196              False                      11                           81   \n",
       "1197              False                       1                            1   \n",
       "1198              False                       1                            1   \n",
       "1199              False                      13                          136   \n",
       "\n",
       "       avg_word  \n",
       "0      4.722222  \n",
       "1      5.875000  \n",
       "2      4.500000  \n",
       "3     10.000000  \n",
       "4      7.315789  \n",
       "...         ...  \n",
       "1195   6.105263  \n",
       "1196   7.363636  \n",
       "1197   1.000000  \n",
       "1198   1.000000  \n",
       "1199  10.461538  \n",
       "\n",
       "[1200 rows x 19 columns]"
      ]
     },
     "execution_count": 20,
     "metadata": {},
     "output_type": "execute_result"
    }
   ],
   "source": [
    "dataset[\"contains_bot_name\"].fillna(False, inplace=True)\n",
    "dataset.replace(np.inf, 0)\n",
    "dataset.replace(-np.inf, 0)"
   ]
  },
  {
   "cell_type": "code",
   "execution_count": 21,
   "id": "cbaecbcd",
   "metadata": {
    "tags": []
   },
   "outputs": [
    {
     "name": "stderr",
     "output_type": "stream",
     "text": [
      "C:\\Users\\xotiss\\AppData\\Local\\Temp\\ipykernel_9148\\1888651205.py:3: FutureWarning: Dropping of nuisance columns in DataFrame reductions (with 'numeric_only=None') is deprecated; in a future version this will raise TypeError.  Select only valid columns before calling the reduction.\n",
      "  dataset = dataset.fillna(dataset.mean())\n"
     ]
    },
    {
     "data": {
      "text/html": [
       "<div>\n",
       "<style scoped>\n",
       "    .dataframe tbody tr th:only-of-type {\n",
       "        vertical-align: middle;\n",
       "    }\n",
       "\n",
       "    .dataframe tbody tr th {\n",
       "        vertical-align: top;\n",
       "    }\n",
       "\n",
       "    .dataframe thead th {\n",
       "        text-align: right;\n",
       "    }\n",
       "</style>\n",
       "<table border=\"1\" class=\"dataframe\">\n",
       "  <thead>\n",
       "    <tr style=\"text-align: right;\">\n",
       "      <th></th>\n",
       "      <th>default_profile</th>\n",
       "      <th>favourites_count</th>\n",
       "      <th>followers_count</th>\n",
       "      <th>friends_count</th>\n",
       "      <th>location</th>\n",
       "      <th>statuses_count</th>\n",
       "      <th>verified</th>\n",
       "      <th>account_age_days</th>\n",
       "      <th>account_type</th>\n",
       "      <th>ratio_statuses_count_per_age</th>\n",
       "      <th>ratio_favorites_per_age</th>\n",
       "      <th>ratio_friends_per_followers</th>\n",
       "      <th>word_count</th>\n",
       "      <th>char_count</th>\n",
       "      <th>reputation</th>\n",
       "      <th>contains_bot_name</th>\n",
       "      <th>description_word_count</th>\n",
       "      <th>description_character_count</th>\n",
       "      <th>avg_word</th>\n",
       "    </tr>\n",
       "  </thead>\n",
       "  <tbody>\n",
       "    <tr>\n",
       "      <th>0</th>\n",
       "      <td>True</td>\n",
       "      <td>2169</td>\n",
       "      <td>0</td>\n",
       "      <td>111</td>\n",
       "      <td>True</td>\n",
       "      <td>2195</td>\n",
       "      <td>False</td>\n",
       "      <td>2875</td>\n",
       "      <td>bot</td>\n",
       "      <td>0.763478</td>\n",
       "      <td>0.754435</td>\n",
       "      <td>2.303236</td>\n",
       "      <td>18</td>\n",
       "      <td>102</td>\n",
       "      <td>0.000000</td>\n",
       "      <td>False</td>\n",
       "      <td>18</td>\n",
       "      <td>85</td>\n",
       "      <td>4.722222</td>\n",
       "    </tr>\n",
       "    <tr>\n",
       "      <th>1</th>\n",
       "      <td>True</td>\n",
       "      <td>54</td>\n",
       "      <td>6</td>\n",
       "      <td>65</td>\n",
       "      <td>True</td>\n",
       "      <td>11</td>\n",
       "      <td>False</td>\n",
       "      <td>4014</td>\n",
       "      <td>bot</td>\n",
       "      <td>0.002740</td>\n",
       "      <td>0.013453</td>\n",
       "      <td>10.833333</td>\n",
       "      <td>8</td>\n",
       "      <td>54</td>\n",
       "      <td>0.084507</td>\n",
       "      <td>False</td>\n",
       "      <td>8</td>\n",
       "      <td>47</td>\n",
       "      <td>5.875000</td>\n",
       "    </tr>\n",
       "    <tr>\n",
       "      <th>2</th>\n",
       "      <td>False</td>\n",
       "      <td>34328</td>\n",
       "      <td>1132</td>\n",
       "      <td>468</td>\n",
       "      <td>True</td>\n",
       "      <td>28628</td>\n",
       "      <td>False</td>\n",
       "      <td>2988</td>\n",
       "      <td>human</td>\n",
       "      <td>9.580991</td>\n",
       "      <td>11.488621</td>\n",
       "      <td>0.413428</td>\n",
       "      <td>10</td>\n",
       "      <td>54</td>\n",
       "      <td>0.707500</td>\n",
       "      <td>False</td>\n",
       "      <td>10</td>\n",
       "      <td>45</td>\n",
       "      <td>4.500000</td>\n",
       "    </tr>\n",
       "    <tr>\n",
       "      <th>3</th>\n",
       "      <td>False</td>\n",
       "      <td>6737</td>\n",
       "      <td>83</td>\n",
       "      <td>382</td>\n",
       "      <td>True</td>\n",
       "      <td>13023</td>\n",
       "      <td>False</td>\n",
       "      <td>2277</td>\n",
       "      <td>human</td>\n",
       "      <td>5.719368</td>\n",
       "      <td>2.958718</td>\n",
       "      <td>4.602410</td>\n",
       "      <td>1</td>\n",
       "      <td>21</td>\n",
       "      <td>0.178495</td>\n",
       "      <td>False</td>\n",
       "      <td>2</td>\n",
       "      <td>20</td>\n",
       "      <td>10.000000</td>\n",
       "    </tr>\n",
       "    <tr>\n",
       "      <th>4</th>\n",
       "      <td>False</td>\n",
       "      <td>13498</td>\n",
       "      <td>4397</td>\n",
       "      <td>198</td>\n",
       "      <td>True</td>\n",
       "      <td>15257</td>\n",
       "      <td>False</td>\n",
       "      <td>3036</td>\n",
       "      <td>human</td>\n",
       "      <td>5.025362</td>\n",
       "      <td>4.445982</td>\n",
       "      <td>0.045031</td>\n",
       "      <td>19</td>\n",
       "      <td>157</td>\n",
       "      <td>0.956910</td>\n",
       "      <td>False</td>\n",
       "      <td>19</td>\n",
       "      <td>139</td>\n",
       "      <td>7.315789</td>\n",
       "    </tr>\n",
       "  </tbody>\n",
       "</table>\n",
       "</div>"
      ],
      "text/plain": [
       "   default_profile  favourites_count  followers_count  friends_count  \\\n",
       "0             True              2169                0            111   \n",
       "1             True                54                6             65   \n",
       "2            False             34328             1132            468   \n",
       "3            False              6737               83            382   \n",
       "4            False             13498             4397            198   \n",
       "\n",
       "   location  statuses_count  verified  account_age_days account_type  \\\n",
       "0      True            2195     False              2875          bot   \n",
       "1      True              11     False              4014          bot   \n",
       "2      True           28628     False              2988        human   \n",
       "3      True           13023     False              2277        human   \n",
       "4      True           15257     False              3036        human   \n",
       "\n",
       "   ratio_statuses_count_per_age  ratio_favorites_per_age  \\\n",
       "0                      0.763478                 0.754435   \n",
       "1                      0.002740                 0.013453   \n",
       "2                      9.580991                11.488621   \n",
       "3                      5.719368                 2.958718   \n",
       "4                      5.025362                 4.445982   \n",
       "\n",
       "   ratio_friends_per_followers  word_count  char_count  reputation  \\\n",
       "0                     2.303236          18         102    0.000000   \n",
       "1                    10.833333           8          54    0.084507   \n",
       "2                     0.413428          10          54    0.707500   \n",
       "3                     4.602410           1          21    0.178495   \n",
       "4                     0.045031          19         157    0.956910   \n",
       "\n",
       "   contains_bot_name  description_word_count  description_character_count  \\\n",
       "0              False                      18                           85   \n",
       "1              False                       8                           47   \n",
       "2              False                      10                           45   \n",
       "3              False                       2                           20   \n",
       "4              False                      19                          139   \n",
       "\n",
       "    avg_word  \n",
       "0   4.722222  \n",
       "1   5.875000  \n",
       "2   4.500000  \n",
       "3  10.000000  \n",
       "4   7.315789  "
      ]
     },
     "execution_count": 21,
     "metadata": {},
     "output_type": "execute_result"
    }
   ],
   "source": [
    "dataset=dataset.replace([np.inf, -np.inf], np.nan)\n",
    "dataset=dataset.replace([np.inf, -np.inf], np.nan).dropna(how=\"all\")\n",
    "dataset = dataset.fillna(dataset.mean())\n",
    "dataset.head()"
   ]
  },
  {
   "cell_type": "code",
   "execution_count": 22,
   "id": "b652d021-5c28-4f4c-9efd-8c2212a55b05",
   "metadata": {
    "tags": []
   },
   "outputs": [],
   "source": [
    "# Preprocessing menjadikan ke boolean kolom\n",
    "# boolean_cols: list = [\"default_profile\", \"default_profile_image\",\n",
    "#                       \"geo_enabled\", \"verified\"]\n",
    "# twitter_accounts_df = convert_bool_to_int(data=dataset, boolean_cols=boolean_cols)\n",
    "# twitter_accounts_df.head()"
   ]
  },
  {
   "cell_type": "code",
   "execution_count": 23,
   "id": "a4a9154e-51ba-4bb0-b24d-da9467655f5d",
   "metadata": {
    "tags": []
   },
   "outputs": [],
   "source": [
    "# EDA\n",
    "\n",
    "import matplotlib as mpl\n",
    "import seaborn as sns\n",
    "from matplotlib import pyplot as plt\n",
    "from collections import OrderedDict\n",
    "\n",
    "mpl.rcParams['font.family'] = 'sans-serif'\n",
    "mpl.rcParams['figure.figsize'] = 12, 8\n",
    "mpl.rcParams['font.sans-serif'] = ['Tahoma']\n",
    "sns.set(font_scale=1.5)\n",
    "sns.set_style(\"whitegrid\")"
   ]
  },
  {
   "cell_type": "code",
   "execution_count": 24,
   "id": "f970d6f6-0820-4bf7-92da-f844a664212f",
   "metadata": {
    "tags": []
   },
   "outputs": [],
   "source": [
    "# Set up some parameters for EDA\n",
    "palette: str = \"husl\"\n",
    "grouped: str = \"account_type\"\n",
    "default_value: str = \"unknown\"\n",
    "\n"
   ]
  },
  {
   "cell_type": "code",
   "execution_count": 25,
   "id": "3575dfb3-cbce-4f52-a493-0df19179f125",
   "metadata": {
    "tags": []
   },
   "outputs": [],
   "source": [
    "import logging\n",
    "logger = logging.getLogger(__name__)\n",
    "\n",
    "def get_labels_colors_from_pandas_column(df: pd.DataFrame, column: str, palette: str):\n",
    "    data_labels: dict = dict()\n",
    "    try:\n",
    "        labels: list = df[column].unique().tolist()\n",
    "        colors: list = sns.color_palette(palette, len(labels))\n",
    "        data_labels: dict = dict(zip(labels, colors))\n",
    "    except Exception as e:\n",
    "        logger.error(e)\n",
    "    return data_labels\n",
    "\n",
    "# Retrieve labels and additional parameters to plot figures\n",
    "data_labels: dict = get_labels_colors_from_pandas_column(\n",
    "    df=dataset, column=grouped, palette=palette)\n"
   ]
  },
  {
   "cell_type": "code",
   "execution_count": 26,
   "id": "84070c1e-5b98-4a59-a649-f9826dade433",
   "metadata": {
    "tags": []
   },
   "outputs": [
    {
     "name": "stdout",
     "output_type": "stream",
     "text": [
      "Unique Target values: dict_keys(['bot', 'human'])\n"
     ]
    }
   ],
   "source": [
    "# Show labels\n",
    "print(f\"Unique Target values: {data_labels.keys()}\")"
   ]
  },
  {
   "cell_type": "code",
   "execution_count": 27,
   "id": "09c94ee1-55e8-446c-a92e-3afe3bc8c367",
   "metadata": {
    "tags": []
   },
   "outputs": [],
   "source": [
    "# Functions to plot data distributions\n",
    "def plot_multiple_histograms(data: pd.DataFrame,\n",
    "                             grouped_col: str,\n",
    "                             target_col: str,\n",
    "                             data_labels: dict):\n",
    "    # Plot\n",
    "    plt.figure(figsize=(12, 10))\n",
    "    title = \"\\n\"\n",
    "    labels: list = list(data_labels.keys())\n",
    "    for j, i in enumerate(labels):\n",
    "        x = data.loc[data[grouped_col] == i, target_col]\n",
    "        mu_x = round(float(np.mean(x)), 3)\n",
    "        sigma_x = round(float(np.std(x)), 3)\n",
    "        ax = sns.distplot(x, color=data_labels.get(i), label=i, hist_kws=dict(alpha=.1),\n",
    "                          kde_kws={'linewidth': 2})\n",
    "        ax.axvline(mu_x, color=data_labels.get(i), linestyle='--')\n",
    "        ax.set(xlabel=f\"{target_col.title()}\", ylabel='Density')\n",
    "        title += f\"Parameters {str(i)}: $G(\\mu=$ {mu_x}, $\\sigma=$ {sigma_x} \\n\"\n",
    "        ax.set_title(title)\n",
    "    plt.legend(title=\"Account Type\")\n",
    "    plt.grid()\n",
    "    plt.tight_layout()\n",
    "    plt.show()\n",
    "\n",
    "\n",
    "def plot_multiple_boxplots(data: pd.DataFrame, grouped_col: str, target_col: str,\n",
    "                           palette: str = \"husl\"):\n",
    "    plt.figure(figsize=(12, 10))\n",
    "\n",
    "    means: dict = data.groupby([grouped_col])[target_col].mean().to_dict(OrderedDict)\n",
    "    counter: int = 0\n",
    "\n",
    "    bp = sns.boxplot(x=grouped_col, y=target_col, data=data, palette=palette, order=list(means.keys()))\n",
    "    bp.set(xlabel='', ylabel=f\"{target_col.title()}\")\n",
    "    ax = bp.axes\n",
    "\n",
    "    for k, v in means.items():\n",
    "        # every 4th line at the interval of 6 is median line\n",
    "        # 0 -> p25 1 -> p75 2 -> lower whisker 3 -> upper whisker 4 -> p50 5 -> upper extreme value\n",
    "        mean = round(v, 2)\n",
    "        ax.text(\n",
    "            counter,\n",
    "            mean,\n",
    "            f'{mean}',\n",
    "            ha='center',\n",
    "            va='center',\n",
    "            fontweight='bold',\n",
    "            size=10,\n",
    "            color='white',\n",
    "            bbox=dict(facecolor='#445A64'))\n",
    "        counter += 1\n",
    "    bp.figure.tight_layout()\n",
    "    plt.grid()\n",
    "    plt.show()"
   ]
  },
  {
   "cell_type": "code",
   "execution_count": 28,
   "id": "74ced90b-873f-4709-9b2d-cff8bd25b6f9",
   "metadata": {
    "tags": []
   },
   "outputs": [
    {
     "data": {
      "image/png": "[encoded data removed]",
      "text/plain": [
       "<Figure size 864x720 with 1 Axes>"
      ]
     },
     "metadata": {
      "needs_background": "light"
     },
     "output_type": "display_data"
    }
   ],
   "source": [
    "target: str = \"reputation\"  \n",
    "# Extract histograms\n",
    "# plot_multiple_histograms(data=twitter_accounts_df, \n",
    "#                          grouped_col=grouped,\n",
    "#                          data_labels=data_labels,\n",
    "#                          target_col=target)\n",
    "# Extract Box-plots\n",
    "plot_multiple_boxplots(data=dataset,\n",
    "                       grouped_col=grouped,\n",
    "                       target_col=target,\n",
    "                       palette=palette)\n",
    "\n"
   ]
  },
  {
   "cell_type": "code",
   "execution_count": 29,
   "id": "1b5aae82-29ab-4927-98d0-dd35f772c07c",
   "metadata": {
    "tags": []
   },
   "outputs": [
    {
     "data": {
      "image/png": "[encoded data removed]",
      "text/plain": [
       "<Figure size 864x720 with 1 Axes>"
      ]
     },
     "metadata": {
      "needs_background": "light"
     },
     "output_type": "display_data"
    }
   ],
   "source": [
    "# analyse the average tweets per day\n",
    "target: str = \"account_age_days\"  \n",
    "# # Extract histograms\n",
    "# plot_multiple_histograms(data=twitter_accounts_df, \n",
    "#                          grouped_col=grouped,\n",
    "#                          data_labels=data_labels,\n",
    "#                          target_col=target)\n",
    "# Extract Box-plots\n",
    "plot_multiple_boxplots(data=dataset,\n",
    "                       grouped_col=grouped,\n",
    "                       target_col=target,\n",
    "                       palette=palette)"
   ]
  },
  {
   "cell_type": "code",
   "execution_count": 30,
   "id": "e6cc9e4e-741c-457f-8fe5-098543dc9ca6",
   "metadata": {
    "tags": []
   },
   "outputs": [
    {
     "data": {
      "text/plain": [
       "<AxesSubplot:xlabel='account_type'>"
      ]
     },
     "execution_count": 30,
     "metadata": {},
     "output_type": "execute_result"
    },
    {
     "data": {
      "image/png": "[encoded data removed]",
      "text/plain": [
       "<Figure size 432x288 with 1 Axes>"
      ]
     },
     "metadata": {
      "needs_background": "light"
     },
     "output_type": "display_data"
    }
   ],
   "source": [
    "target_col: str = \"verified\"\n",
    "twitter_accounts_df2 = dataset.groupby([grouped, target_col])[grouped].count().unstack(target_col)\n",
    "twitter_accounts_df2.plot(kind='bar', stacked=True)"
   ]
  },
  {
   "cell_type": "code",
   "execution_count": 31,
   "id": "8153b121-e02d-4547-8461-047a22ab5ef9",
   "metadata": {
    "tags": []
   },
   "outputs": [
    {
     "data": {
      "image/png": "[encoded data removed]",
      "text/plain": [
       "<Figure size 864x720 with 1 Axes>"
      ]
     },
     "metadata": {
      "needs_background": "light"
     },
     "output_type": "display_data"
    }
   ],
   "source": [
    "target: str = \"statuses_count\"  \n",
    "# Extract histograms\n",
    "# plot_multiple_histograms(data=twitter_accounts_df, \n",
    "#                          grouped_col=grouped,\n",
    "#                          data_labels=data_labels,\n",
    "#                          target_col=target)\n",
    "# Extract Box-plots\n",
    "plot_multiple_boxplots(data=dataset,\n",
    "                       grouped_col=grouped,\n",
    "                       target_col=target,\n",
    "                       palette=palette)"
   ]
  },
  {
   "cell_type": "code",
   "execution_count": 32,
   "id": "a2cccd94-5d7e-4651-98ed-99f338c19556",
   "metadata": {
    "tags": []
   },
   "outputs": [
    {
     "data": {
      "text/html": [
       "<div>\n",
       "<style scoped>\n",
       "    .dataframe tbody tr th:only-of-type {\n",
       "        vertical-align: middle;\n",
       "    }\n",
       "\n",
       "    .dataframe tbody tr th {\n",
       "        vertical-align: top;\n",
       "    }\n",
       "\n",
       "    .dataframe thead th {\n",
       "        text-align: right;\n",
       "    }\n",
       "</style>\n",
       "<table border=\"1\" class=\"dataframe\">\n",
       "  <thead>\n",
       "    <tr style=\"text-align: right;\">\n",
       "      <th></th>\n",
       "      <th>default_profile</th>\n",
       "      <th>favourites_count</th>\n",
       "      <th>followers_count</th>\n",
       "      <th>friends_count</th>\n",
       "      <th>location</th>\n",
       "      <th>statuses_count</th>\n",
       "      <th>verified</th>\n",
       "      <th>account_age_days</th>\n",
       "      <th>account_type</th>\n",
       "      <th>ratio_statuses_count_per_age</th>\n",
       "      <th>ratio_favorites_per_age</th>\n",
       "      <th>ratio_friends_per_followers</th>\n",
       "      <th>word_count</th>\n",
       "      <th>char_count</th>\n",
       "      <th>reputation</th>\n",
       "      <th>contains_bot_name</th>\n",
       "      <th>description_word_count</th>\n",
       "      <th>description_character_count</th>\n",
       "      <th>avg_word</th>\n",
       "    </tr>\n",
       "  </thead>\n",
       "  <tbody>\n",
       "    <tr>\n",
       "      <th>0</th>\n",
       "      <td>True</td>\n",
       "      <td>2169</td>\n",
       "      <td>0</td>\n",
       "      <td>111</td>\n",
       "      <td>True</td>\n",
       "      <td>2195</td>\n",
       "      <td>False</td>\n",
       "      <td>2875</td>\n",
       "      <td>bot</td>\n",
       "      <td>0.763478</td>\n",
       "      <td>0.754435</td>\n",
       "      <td>2.303236</td>\n",
       "      <td>18</td>\n",
       "      <td>102</td>\n",
       "      <td>0.000000</td>\n",
       "      <td>False</td>\n",
       "      <td>18</td>\n",
       "      <td>85</td>\n",
       "      <td>4.722222</td>\n",
       "    </tr>\n",
       "    <tr>\n",
       "      <th>1</th>\n",
       "      <td>True</td>\n",
       "      <td>54</td>\n",
       "      <td>6</td>\n",
       "      <td>65</td>\n",
       "      <td>True</td>\n",
       "      <td>11</td>\n",
       "      <td>False</td>\n",
       "      <td>4014</td>\n",
       "      <td>bot</td>\n",
       "      <td>0.002740</td>\n",
       "      <td>0.013453</td>\n",
       "      <td>10.833333</td>\n",
       "      <td>8</td>\n",
       "      <td>54</td>\n",
       "      <td>0.084507</td>\n",
       "      <td>False</td>\n",
       "      <td>8</td>\n",
       "      <td>47</td>\n",
       "      <td>5.875000</td>\n",
       "    </tr>\n",
       "    <tr>\n",
       "      <th>2</th>\n",
       "      <td>False</td>\n",
       "      <td>34328</td>\n",
       "      <td>1132</td>\n",
       "      <td>468</td>\n",
       "      <td>True</td>\n",
       "      <td>28628</td>\n",
       "      <td>False</td>\n",
       "      <td>2988</td>\n",
       "      <td>human</td>\n",
       "      <td>9.580991</td>\n",
       "      <td>11.488621</td>\n",
       "      <td>0.413428</td>\n",
       "      <td>10</td>\n",
       "      <td>54</td>\n",
       "      <td>0.707500</td>\n",
       "      <td>False</td>\n",
       "      <td>10</td>\n",
       "      <td>45</td>\n",
       "      <td>4.500000</td>\n",
       "    </tr>\n",
       "    <tr>\n",
       "      <th>3</th>\n",
       "      <td>False</td>\n",
       "      <td>6737</td>\n",
       "      <td>83</td>\n",
       "      <td>382</td>\n",
       "      <td>True</td>\n",
       "      <td>13023</td>\n",
       "      <td>False</td>\n",
       "      <td>2277</td>\n",
       "      <td>human</td>\n",
       "      <td>5.719368</td>\n",
       "      <td>2.958718</td>\n",
       "      <td>4.602410</td>\n",
       "      <td>1</td>\n",
       "      <td>21</td>\n",
       "      <td>0.178495</td>\n",
       "      <td>False</td>\n",
       "      <td>2</td>\n",
       "      <td>20</td>\n",
       "      <td>10.000000</td>\n",
       "    </tr>\n",
       "    <tr>\n",
       "      <th>4</th>\n",
       "      <td>False</td>\n",
       "      <td>13498</td>\n",
       "      <td>4397</td>\n",
       "      <td>198</td>\n",
       "      <td>True</td>\n",
       "      <td>15257</td>\n",
       "      <td>False</td>\n",
       "      <td>3036</td>\n",
       "      <td>human</td>\n",
       "      <td>5.025362</td>\n",
       "      <td>4.445982</td>\n",
       "      <td>0.045031</td>\n",
       "      <td>19</td>\n",
       "      <td>157</td>\n",
       "      <td>0.956910</td>\n",
       "      <td>False</td>\n",
       "      <td>19</td>\n",
       "      <td>139</td>\n",
       "      <td>7.315789</td>\n",
       "    </tr>\n",
       "  </tbody>\n",
       "</table>\n",
       "</div>"
      ],
      "text/plain": [
       "   default_profile  favourites_count  followers_count  friends_count  \\\n",
       "0             True              2169                0            111   \n",
       "1             True                54                6             65   \n",
       "2            False             34328             1132            468   \n",
       "3            False              6737               83            382   \n",
       "4            False             13498             4397            198   \n",
       "\n",
       "   location  statuses_count  verified  account_age_days account_type  \\\n",
       "0      True            2195     False              2875          bot   \n",
       "1      True              11     False              4014          bot   \n",
       "2      True           28628     False              2988        human   \n",
       "3      True           13023     False              2277        human   \n",
       "4      True           15257     False              3036        human   \n",
       "\n",
       "   ratio_statuses_count_per_age  ratio_favorites_per_age  \\\n",
       "0                      0.763478                 0.754435   \n",
       "1                      0.002740                 0.013453   \n",
       "2                      9.580991                11.488621   \n",
       "3                      5.719368                 2.958718   \n",
       "4                      5.025362                 4.445982   \n",
       "\n",
       "   ratio_friends_per_followers  word_count  char_count  reputation  \\\n",
       "0                     2.303236          18         102    0.000000   \n",
       "1                    10.833333           8          54    0.084507   \n",
       "2                     0.413428          10          54    0.707500   \n",
       "3                     4.602410           1          21    0.178495   \n",
       "4                     0.045031          19         157    0.956910   \n",
       "\n",
       "   contains_bot_name  description_word_count  description_character_count  \\\n",
       "0              False                      18                           85   \n",
       "1              False                       8                           47   \n",
       "2              False                      10                           45   \n",
       "3              False                       2                           20   \n",
       "4              False                      19                          139   \n",
       "\n",
       "    avg_word  \n",
       "0   4.722222  \n",
       "1   5.875000  \n",
       "2   4.500000  \n",
       "3  10.000000  \n",
       "4   7.315789  "
      ]
     },
     "execution_count": 32,
     "metadata": {},
     "output_type": "execute_result"
    }
   ],
   "source": [
    "dataset.describe().to_excel('descriptive_statistics3.xlsx')\n",
    "dataset.head()"
   ]
  },
  {
   "cell_type": "code",
   "execution_count": 33,
   "id": "83a6cee0-95f6-44fb-80a6-99a835890e8e",
   "metadata": {
    "tags": []
   },
   "outputs": [],
   "source": [
    "dataset.to_csv('cek.csv',index=False)"
   ]
  },
  {
   "cell_type": "code",
   "execution_count": 34,
   "id": "f134d745-eb58-4dad-8435-e2a65fc06574",
   "metadata": {
    "tags": []
   },
   "outputs": [],
   "source": [
    "from sklearn.preprocessing import MinMaxScaler\n",
    "df = dataset.dropna(axis=0)\n",
    "# memilih kolom yang ingin diikutkan dalam scaling\n",
    "cols_to_scale = [\"followers_count\",\"default_profile\",\"account_age_days\",\"avg_word\",\"verified\",\"reputation\", \"friends_count\", \"favourites_count\", \"statuses_count\"]\n",
    "\n",
    "# Mengambil subset dari dataset hanya untuk kolom yang digunakan\n",
    "data_to_scale = dataset[cols_to_scale]\n",
    "\n",
    "# scaling menggunakan MinMaxScaler pada kolom-kolom yang dipilih\n",
    "scaler = MinMaxScaler(feature_range=(0,100))\n",
    "\n",
    "# Fit dan transform data menggunakan scaler\n",
    "scaled_data = scaler.fit_transform(data_to_scale)\n",
    "# rescaledX = scaler.fit_transform(twitter_accounts_df[cols_to_scale])\n",
    "\n",
    "# Mengganti kolom asli dengan data yang telah di-scale\n",
    "dataset[cols_to_scale] = scaled_data\n",
    "\n",
    "# Membuat DataFrame dari data yang telah discaling\n",
    "dataset.describe().to_excel('hasil_descriptive_statistics3.xlsx')"
   ]
  },
  {
   "cell_type": "code",
   "execution_count": 35,
   "id": "1d3dba3c-dc04-4d3b-bcd0-be1b56f8a776",
   "metadata": {
    "tags": []
   },
   "outputs": [
    {
     "name": "stdout",
     "output_type": "stream",
     "text": [
      "Jumlah baris pada df_train: 1200\n"
     ]
    }
   ],
   "source": [
    "print(\"Jumlah baris pada df_train:\", dataset.shape[0])"
   ]
  },
  {
   "cell_type": "code",
   "execution_count": 36,
   "id": "d0080586-9fc0-42c6-8540-bd244e1ee0c3",
   "metadata": {
    "tags": []
   },
   "outputs": [
    {
     "name": "stdout",
     "output_type": "stream",
     "text": [
      "default_profile                 0\n",
      "favourites_count                0\n",
      "followers_count                 0\n",
      "friends_count                   0\n",
      "location                        0\n",
      "statuses_count                  0\n",
      "verified                        0\n",
      "account_age_days                0\n",
      "account_type                    0\n",
      "ratio_statuses_count_per_age    0\n",
      "ratio_favorites_per_age         0\n",
      "ratio_friends_per_followers     0\n",
      "word_count                      0\n",
      "char_count                      0\n",
      "reputation                      0\n",
      "contains_bot_name               0\n",
      "description_word_count          0\n",
      "description_character_count     0\n",
      "avg_word                        0\n",
      "dtype: int64\n"
     ]
    }
   ],
   "source": [
    "print(dataset.isna().sum())"
   ]
  },
  {
   "cell_type": "code",
   "execution_count": 37,
   "id": "1e854e40-3c8f-4334-8116-97bc966c9097",
   "metadata": {
    "tags": []
   },
   "outputs": [],
   "source": [
    "data_baru = dataset.drop(['location'], axis=1)\n",
    "# data_baru.head()"
   ]
  },
  {
   "cell_type": "code",
   "execution_count": 38,
   "id": "2b4b36ce-0572-4059-a42b-4357829d1c2e",
   "metadata": {
    "tags": []
   },
   "outputs": [
    {
     "name": "stdout",
     "output_type": "stream",
     "text": [
      "default_profile                 0\n",
      "favourites_count                0\n",
      "followers_count                 0\n",
      "friends_count                   0\n",
      "statuses_count                  0\n",
      "verified                        0\n",
      "account_age_days                0\n",
      "account_type                    0\n",
      "ratio_statuses_count_per_age    0\n",
      "ratio_favorites_per_age         0\n",
      "ratio_friends_per_followers     0\n",
      "word_count                      0\n",
      "char_count                      0\n",
      "reputation                      0\n",
      "contains_bot_name               0\n",
      "description_word_count          0\n",
      "description_character_count     0\n",
      "avg_word                        0\n",
      "dtype: int64\n"
     ]
    }
   ],
   "source": [
    "print(data_baru.isin(['unknown']).sum())"
   ]
  },
  {
   "cell_type": "code",
   "execution_count": 39,
   "id": "42b3f247",
   "metadata": {
    "tags": []
   },
   "outputs": [
    {
     "name": "stdout",
     "output_type": "stream",
     "text": [
      "default_profile                 float64\n",
      "favourites_count                float64\n",
      "followers_count                 float64\n",
      "friends_count                   float64\n",
      "statuses_count                  float64\n",
      "verified                        float64\n",
      "account_age_days                float64\n",
      "account_type                     object\n",
      "ratio_statuses_count_per_age    float64\n",
      "ratio_favorites_per_age         float64\n",
      "ratio_friends_per_followers     float64\n",
      "word_count                        int64\n",
      "char_count                        int64\n",
      "reputation                      float64\n",
      "contains_bot_name                  bool\n",
      "description_word_count            int64\n",
      "description_character_count       int64\n",
      "avg_word                        float64\n",
      "dtype: object\n"
     ]
    }
   ],
   "source": [
    "print(data_baru.dtypes)"
   ]
  },
  {
   "cell_type": "code",
   "execution_count": 40,
   "id": "5693aeb9-f509-42ac-8f80-ec09b7fac70a",
   "metadata": {
    "tags": []
   },
   "outputs": [],
   "source": [
    "# #memilih feature yang akan digunakan\n",
    "X = data_baru.drop('account_type', axis=1) # Memilih semua kolom kecuali 'class'\n",
    "y = data_baru['account_type']\n",
    "\n",
    "# Split data into training and testing sets\n",
    "X_train, X_test, y_train, y_test = train_test_split(X,y, test_size=0.2, random_state=42)\n"
   ]
  },
  {
   "cell_type": "code",
   "execution_count": 41,
   "id": "bc37573f-f34b-4d59-a613-70ceb43f14c8",
   "metadata": {
    "tags": []
   },
   "outputs": [
    {
     "name": "stdout",
     "output_type": "stream",
     "text": [
      "Akurasi: 0.85\n"
     ]
    },
    {
     "data": {
      "image/png": "[encoded data removed]",
      "text/plain": [
       "<Figure size 576x576 with 1 Axes>"
      ]
     },
     "metadata": {
      "needs_background": "light"
     },
     "output_type": "display_data"
    }
   ],
   "source": [
    "# Membuat model Random Forest Classifier\n",
    "model = RandomForestClassifier(n_estimators=100, random_state=42)\n",
    "\n",
    "# Melatih model dengan data latih\n",
    "model.fit(X_train, y_train)\n",
    "\n",
    "tree_feature =  pd.Series(model.feature_importances_, X.columns).sort_values(ascending = True)\n",
    "plt.figure(figsize = (8,8))\n",
    "plt.barh(X.columns, tree_feature)\n",
    "plt.xlabel('Feature Important Score', fontsize = 12)\n",
    "plt.ylabel('Features', fontsize = 12)\n",
    "plt.yticks(fontsize = 12)\n",
    "plt.title('Visualizing Feature Importances', fontsize = 20)\n",
    "# Memprediksi label pada data uji\n",
    "y_pred = model.predict(X_test)\n",
    "\n",
    "# Menghitung akurasi\n",
    "accuracy = accuracy_score(y_test, y_pred)\n",
    "print(\"Akurasi:\", accuracy)"
   ]
  },
  {
   "cell_type": "code",
   "execution_count": 42,
   "id": "ba68945c-8924-461f-8264-333d66b17e6b",
   "metadata": {
    "tags": []
   },
   "outputs": [
    {
     "data": {
      "image/png": "[encoded data removed]",
      "text/plain": [
       "<Figure size 432x288 with 2 Axes>"
      ]
     },
     "metadata": {
      "needs_background": "light"
     },
     "output_type": "display_data"
    },
    {
     "name": "stdout",
     "output_type": "stream",
     "text": [
      "[[ 65  18]\n",
      " [ 18 139]]\n"
     ]
    }
   ],
   "source": [
    "cm = confusion_matrix(y_test, y_pred)\n",
    "\n",
    "# membuat plot confusion matrix\n",
    "sns.heatmap(cm, annot=True, fmt='g')\n",
    "plt.xlabel('Predicted')\n",
    "plt.ylabel('Actual')\n",
    "plt.show()\n",
    "print(cm)"
   ]
  },
  {
   "cell_type": "code",
   "execution_count": 43,
   "id": "82aaa267-a74b-41c6-9bbe-dc907c9c8e98",
   "metadata": {
    "tags": []
   },
   "outputs": [
    {
     "name": "stdout",
     "output_type": "stream",
     "text": [
      "              precision    recall  f1-score   support\n",
      "\n",
      "         bot       0.78      0.78      0.78        83\n",
      "       human       0.89      0.89      0.89       157\n",
      "\n",
      "    accuracy                           0.85       240\n",
      "   macro avg       0.83      0.83      0.83       240\n",
      "weighted avg       0.85      0.85      0.85       240\n",
      "\n"
     ]
    }
   ],
   "source": [
    "print(classification_report(y_test, y_pred))"
   ]
  },
  {
   "cell_type": "code",
   "execution_count": 44,
   "id": "090c9b86-40e5-47d8-ab49-d30ebab4b038",
   "metadata": {
    "tags": []
   },
   "outputs": [
    {
     "data": {
      "text/plain": [
       "['model.pkl']"
      ]
     },
     "execution_count": 44,
     "metadata": {},
     "output_type": "execute_result"
    }
   ],
   "source": [
    "#untuk menyimpan model\n",
    "import joblib\n",
    "from sklearn.pipeline import make_pipeline\n",
    "pipe = make_pipeline(MinMaxScaler(),RandomForestClassifier()) \n",
    "pipe.fit(X_train, y_train)\n",
    "joblib.dump(pipe, 'model.pkl')"
   ]
  },
  {
   "cell_type": "code",
   "execution_count": null,
   "id": "b434b387-0687-45ff-a46a-a6a4446ed9c8",
   "metadata": {},
   "outputs": [],
   "source": []
  }
 ],
 "metadata": {
  "kernelspec": {
   "display_name": "Python 3 (ipykernel)",
   "language": "python",
   "name": "python3"
  },
  "language_info": {
   "codemirror_mode": {
    "name": "ipython",
    "version": 3
   },
   "file_extension": ".py",
   "mimetype": "text/x-python",
   "name": "python",
   "nbconvert_exporter": "python",
   "pygments_lexer": "ipython3",
   "version": "3.9.7"
  },
  "vscode": {
   "interpreter": {
    "hash": "0f10d22a3628a9f0fd1ad0104081a91081d2b40cc3ba42563365157939c62f11"
   }
  }
 },
 "nbformat": 4,
 "nbformat_minor": 5
}

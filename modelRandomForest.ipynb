{
 "cells": [
  {
   "cell_type": "code",
   "execution_count": 3,
   "id": "7bc20976-2acc-44a6-af1c-4310094ed498",
   "metadata": {
    "tags": []
   },
   "outputs": [
    {
     "data": {
      "text/html": [
       "<div>\n",
       "<style scoped>\n",
       "    .dataframe tbody tr th:only-of-type {\n",
       "        vertical-align: middle;\n",
       "    }\n",
       "\n",
       "    .dataframe tbody tr th {\n",
       "        vertical-align: top;\n",
       "    }\n",
       "\n",
       "    .dataframe thead th {\n",
       "        text-align: right;\n",
       "    }\n",
       "</style>\n",
       "<table border=\"1\" class=\"dataframe\">\n",
       "  <thead>\n",
       "    <tr style=\"text-align: right;\">\n",
       "      <th></th>\n",
       "      <th>Unnamed: 0</th>\n",
       "      <th>id</th>\n",
       "      <th>username</th>\n",
       "      <th>text</th>\n",
       "      <th>retweet_count</th>\n",
       "      <th>like_count</th>\n",
       "      <th>created_at</th>\n",
       "      <th>label</th>\n",
       "    </tr>\n",
       "  </thead>\n",
       "  <tbody>\n",
       "    <tr>\n",
       "      <th>0</th>\n",
       "      <td>0</td>\n",
       "      <td>1622796454040604672</td>\n",
       "      <td>awesomeposted</td>\n",
       "      <td>21. https://t.co/MdCMFIwl4x\\n22. https://t.co/...</td>\n",
       "      <td>0</td>\n",
       "      <td>0</td>\n",
       "      <td>2023-02-07 03:16:39+00:00</td>\n",
       "      <td>1</td>\n",
       "    </tr>\n",
       "    <tr>\n",
       "      <th>1</th>\n",
       "      <td>1</td>\n",
       "      <td>1622796208619294722</td>\n",
       "      <td>awesomeposted</td>\n",
       "      <td>https://t.co/LOMaQtc0dO</td>\n",
       "      <td>0</td>\n",
       "      <td>0</td>\n",
       "      <td>2023-02-07 03:15:40+00:00</td>\n",
       "      <td>1</td>\n",
       "    </tr>\n",
       "    <tr>\n",
       "      <th>2</th>\n",
       "      <td>2</td>\n",
       "      <td>1622765781862780928</td>\n",
       "      <td>awesomeposted</td>\n",
       "      <td>RT @awesomeposted: RUMAH SUBSIDI BARANG ELIT \\...</td>\n",
       "      <td>140</td>\n",
       "      <td>0</td>\n",
       "      <td>2023-02-07 01:14:46+00:00</td>\n",
       "      <td>1</td>\n",
       "    </tr>\n",
       "    <tr>\n",
       "      <th>3</th>\n",
       "      <td>3</td>\n",
       "      <td>1622765716624805890</td>\n",
       "      <td>awesomeposted</td>\n",
       "      <td>RT @awesomeposted: Barang Yg Bisa Menghemat Bu...</td>\n",
       "      <td>288</td>\n",
       "      <td>0</td>\n",
       "      <td>2023-02-07 01:14:31+00:00</td>\n",
       "      <td>1</td>\n",
       "    </tr>\n",
       "    <tr>\n",
       "      <th>4</th>\n",
       "      <td>4</td>\n",
       "      <td>1622765685037465600</td>\n",
       "      <td>awesomeposted</td>\n",
       "      <td>RT @awesomeposted: SELF REWARD GA MESTI MAHAL ...</td>\n",
       "      <td>240</td>\n",
       "      <td>0</td>\n",
       "      <td>2023-02-07 01:14:23+00:00</td>\n",
       "      <td>1</td>\n",
       "    </tr>\n",
       "  </tbody>\n",
       "</table>\n",
       "</div>"
      ],
      "text/plain": [
       "   Unnamed: 0                   id       username  \\\n",
       "0           0  1622796454040604672  awesomeposted   \n",
       "1           1  1622796208619294722  awesomeposted   \n",
       "2           2  1622765781862780928  awesomeposted   \n",
       "3           3  1622765716624805890  awesomeposted   \n",
       "4           4  1622765685037465600  awesomeposted   \n",
       "\n",
       "                                                text  retweet_count  \\\n",
       "0  21. https://t.co/MdCMFIwl4x\\n22. https://t.co/...              0   \n",
       "1                            https://t.co/LOMaQtc0dO              0   \n",
       "2  RT @awesomeposted: RUMAH SUBSIDI BARANG ELIT \\...            140   \n",
       "3  RT @awesomeposted: Barang Yg Bisa Menghemat Bu...            288   \n",
       "4  RT @awesomeposted: SELF REWARD GA MESTI MAHAL ...            240   \n",
       "\n",
       "   like_count                 created_at  label  \n",
       "0           0  2023-02-07 03:16:39+00:00      1  \n",
       "1           0  2023-02-07 03:15:40+00:00      1  \n",
       "2           0  2023-02-07 01:14:46+00:00      1  \n",
       "3           0  2023-02-07 01:14:31+00:00      1  \n",
       "4           0  2023-02-07 01:14:23+00:00      1  "
      ]
     },
     "execution_count": 3,
     "metadata": {},
     "output_type": "execute_result"
    }
   ],
   "source": [
    "# cara 1\n",
    "# Import library yang dibutuhkan\n",
    "import pandas as pd\n",
    "import matplotlib.pyplot as plt\n",
    "from sklearn.feature_extraction.text import TfidfVectorizer\n",
    "from sklearn.ensemble import RandomForestClassifier\n",
    "from sklearn.model_selection import train_test_split\n",
    "from sklearn.metrics import confusion_matrix, precision_score, recall_score, f1_score,accuracy_score\n",
    "\n",
    "# Load dataset\n",
    "dataset = pd.read_csv('hasilsemualabel-Copy1.csv')\n",
    "dataset.head(5)\n"
   ]
  },
  {
   "cell_type": "code",
   "execution_count": 13,
   "id": "7611a78b-3ff5-49b8-9dae-5a78cd131577",
   "metadata": {
    "tags": []
   },
   "outputs": [
    {
     "data": {
      "text/plain": [
       "0    1\n",
       "1    1\n",
       "2    1\n",
       "3    1\n",
       "4    1\n",
       "Name: label, dtype: int64"
      ]
     },
     "execution_count": 13,
     "metadata": {},
     "output_type": "execute_result"
    }
   ],
   "source": [
    "# Pre-processing data\n",
    "# Membersihkan data dari karakter-karakter yang tidak diinginkan\n",
    "dataset['text'] = dataset['text'].apply(lambda x: ' '.join([word for word in x.split() if not word.startswith('@')])) \n",
    "dataset['text'] = dataset['text'].str.replace('[^a-zA-Z0-9\\s]', '',regex=True) \n",
    "\n",
    "# Melakukan tokenisasi dan stemming\n",
    "vectorizer = TfidfVectorizer(stop_words='english')\n",
    "X = vectorizer.fit_transform(dataset['text'])\n",
    "y = dataset['label']\n",
    "y.head(5)\n"
   ]
  },
  {
   "cell_type": "code",
   "execution_count": 20,
   "id": "1780138a-d0fb-452a-814e-be9a49f1fc55",
   "metadata": {
    "tags": []
   },
   "outputs": [
    {
     "name": "stdout",
     "output_type": "stream",
     "text": [
      "Model accuracy score with 10 decision-trees : 0.6470\n"
     ]
    }
   ],
   "source": [
    "# Membuat model Random Forest Classifier\n",
    "X_train, X_test, y_train, y_test = train_test_split(X, y, test_size = 0.33, random_state = 42)\n",
    "model = RandomForestClassifier(n_estimators=100, max_features='sqrt', max_depth=10, random_state=42)\n",
    "model.fit(X_train, y_train)\n",
    "# X_train.shape, X_test.shape\n",
    "# X_train.dtype\n",
    "y_pred = model.predict(X_test)\n",
    "classifier = X_test\n",
    "\n",
    "\n",
    "print('Model accuracy score with 10 decision-trees : {0:0.4f}'. format(accuracy_score(y_test, y_pred)))"
   ]
  },
  {
   "cell_type": "code",
   "execution_count": 21,
   "id": "a4a9154e-51ba-4bb0-b24d-da9467655f5d",
   "metadata": {
    "tags": []
   },
   "outputs": [
    {
     "data": {
      "text/html": [
       "<div>\n",
       "<style scoped>\n",
       "    .dataframe tbody tr th:only-of-type {\n",
       "        vertical-align: middle;\n",
       "    }\n",
       "\n",
       "    .dataframe tbody tr th {\n",
       "        vertical-align: top;\n",
       "    }\n",
       "\n",
       "    .dataframe thead th {\n",
       "        text-align: right;\n",
       "    }\n",
       "</style>\n",
       "<table border=\"1\" class=\"dataframe\">\n",
       "  <thead>\n",
       "    <tr style=\"text-align: right;\">\n",
       "      <th></th>\n",
       "      <th>0</th>\n",
       "    </tr>\n",
       "  </thead>\n",
       "  <tbody>\n",
       "    <tr>\n",
       "      <th>0</th>\n",
       "      <td>(0, 4174)\\t0.29184674484242373\\n  (0, 8908)\\...</td>\n",
       "    </tr>\n",
       "    <tr>\n",
       "      <th>1</th>\n",
       "      <td>(0, 8566)\\t1.0</td>\n",
       "    </tr>\n",
       "    <tr>\n",
       "      <th>2</th>\n",
       "      <td>(0, 7190)\\t1.0</td>\n",
       "    </tr>\n",
       "    <tr>\n",
       "      <th>3</th>\n",
       "      <td>(0, 2524)\\t0.3832108899716628\\n  (0, 6249)\\t...</td>\n",
       "    </tr>\n",
       "    <tr>\n",
       "      <th>4</th>\n",
       "      <td>(0, 8201)\\t0.28638682667223075\\n  (0, 1910)\\...</td>\n",
       "    </tr>\n",
       "  </tbody>\n",
       "</table>\n",
       "</div>"
      ],
      "text/plain": [
       "                                                   0\n",
       "0    (0, 4174)\\t0.29184674484242373\\n  (0, 8908)\\...\n",
       "1                                     (0, 8566)\\t1.0\n",
       "2                                     (0, 7190)\\t1.0\n",
       "3    (0, 2524)\\t0.3832108899716628\\n  (0, 6249)\\t...\n",
       "4    (0, 8201)\\t0.28638682667223075\\n  (0, 1910)\\..."
      ]
     },
     "execution_count": 21,
     "metadata": {},
     "output_type": "execute_result"
    }
   ],
   "source": [
    "# classifier = RandomForestClassifier(n_estimators=100, random_state=0)\n",
    "classifier = RandomForestClassifier(random_state=0)\n",
    "classifier.fit(X_train, y_train)\n",
    "\n",
    "# Membangun model Random Forest Classifier dan mencari important features \n",
    "rfc = RandomForestClassifier(n_estimators=100)\n",
    "rfc.fit(X_train, y_train)\n",
    "\n",
    "# print(X_train)\n",
    "dframe = pd.DataFrame(X_train)\n",
    "dframe.head()\n"
   ]
  },
  {
   "cell_type": "code",
   "execution_count": 38,
   "id": "f970d6f6-0820-4bf7-92da-f844a664212f",
   "metadata": {},
   "outputs": [],
   "source": [
    "# feature_scores = pd.Series(rfc.feature_importances_, index=X_train).sort_values(ascending=False)\n",
    "# feature_scores()\n",
    "importances = rfc.feature_importances_\n",
    "# for feature, importance in zip(X_train, importances):\n",
    "    # print(feature,':', importances)\n"
   ]
  },
  {
   "cell_type": "code",
   "execution_count": 40,
   "id": "3575dfb3-cbce-4f52-a493-0df19179f125",
   "metadata": {
    "tags": []
   },
   "outputs": [
    {
     "data": {
      "image/png": "[encoded data removed]",
      "text/plain": [
       "<Figure size 432x288 with 1 Axes>"
      ]
     },
     "metadata": {
      "needs_background": "light"
     },
     "output_type": "display_data"
    },
    {
     "name": "stdout",
     "output_type": "stream",
     "text": [
      "Confusion Matrix:\n",
      "[[516  35]\n",
      " [271 229]]\n",
      "Accuracy: 0.708848715509039\n",
      "Precision: 0.8674242424242424\n",
      "Recall: 0.458\n",
      "F1 Score: 0.599476439790576\n"
     ]
    }
   ],
   "source": [
    "import seaborn as sns \n",
    "# sns.barplot(x=feature_scores, y=feature_scores.index)\n",
    "# Add labels to the graph\n",
    "plt.xlabel('Feature Importance Score')\n",
    "plt.ylabel('Features')\n",
    "\n",
    "# Add title to the graph\n",
    "\n",
    "plt.title(\"Visualizing Important Features\")\n",
    "\n",
    "# Visualize the graph\n",
    "\n",
    "plt.show()\n",
    "\n",
    "# Memprediksi data testing\n",
    "y_pred = rfc.predict(X_test)\n",
    "y_pred = classifier.predict(X_test)\n",
    "accuracy = (y_pred == y_test).mean()\n",
    "\n",
    "# Evaluasi model\n",
    "print('Confusion Matrix:')\n",
    "print(confusion_matrix(y_test, y_pred))\n",
    "print('Accuracy:', accuracy)\n",
    "print('Precision:', precision_score(y_test, y_pred))\n",
    "print('Recall:', recall_score(y_test, y_pred))\n",
    "print('F1 Score:', f1_score(y_test, y_pred))"
   ]
  },
  {
   "cell_type": "code",
   "execution_count": null,
   "id": "84070c1e-5b98-4a59-a649-f9826dade433",
   "metadata": {},
   "outputs": [],
   "source": []
  }
 ],
 "metadata": {
  "kernelspec": {
   "display_name": "Python 3 (ipykernel)",
   "language": "python",
   "name": "python3"
  },
  "language_info": {
   "codemirror_mode": {
    "name": "ipython",
    "version": 3
   },
   "file_extension": ".py",
   "mimetype": "text/x-python",
   "name": "python",
   "nbconvert_exporter": "python",
   "pygments_lexer": "ipython3",
   "version": "3.9.7"
  }
 },
 "nbformat": 4,
 "nbformat_minor": 5
}

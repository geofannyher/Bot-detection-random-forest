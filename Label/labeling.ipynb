{
 "cells": [
  {
   "cell_type": "code",
   "execution_count": 1,
   "id": "e095786a-838f-48b9-bd6c-68f4a4bcb1a2",
   "metadata": {
    "tags": []
   },
   "outputs": [],
   "source": [
    "#labeling\n",
    "import pandas as pd\n",
    "\n",
    "# Load CSV file\n",
    "df = pd.read_csv('sbyfess2.csv')\n",
    "\n",
    "# Create a new column for labels\n",
    "df['label'] = ''\n",
    "\n",
    "# Loop through each row in the DataFrame\n",
    "for index, row in df.iterrows():\n",
    "    # Check if the tweet column contains a link\n",
    "    if 'https://' in row['text']:\n",
    "        df.at[index, 'label'] = 'bot'\n",
    "    else:\n",
    "        df.at[index, 'label'] = 'human'\n",
    "\n",
    "# Convert DataFrame back to CSV file\n",
    "df.to_csv('sbyfess_labeled2.csv')\n"
   ]
  },
  {
   "cell_type": "code",
   "execution_count": 10,
   "id": "5e062fd6-49f0-4275-b95f-66d73dc94d4f",
   "metadata": {},
   "outputs": [],
   "source": [
    "#menggabungkan file dengan menggunakan pandas\n",
    "# membaca file CSV pertama\n",
    "df1 = pd.read_csv(\"sbyfess_labeled.csv\")\n",
    "\n",
    "# membaca file CSV kedua\n",
    "df2 = pd.read_csv(\"sbyfess_labeled2.csv\")\n",
    "\n",
    "# merge the two datasets based on their headers\n",
    "merged_df = pd.concat([df1, df2], ignore_index=True)\n",
    "\n",
    "# save the merged dataset to a new CSV file\n",
    "merged_df.to_csv('merged_file.csv', index=False)"
   ]
  }
 ],
 "metadata": {
  "kernelspec": {
   "display_name": "Python 3 (ipykernel)",
   "language": "python",
   "name": "python3"
  },
  "language_info": {
   "codemirror_mode": {
    "name": "ipython",
    "version": 3
   },
   "file_extension": ".py",
   "mimetype": "text/x-python",
   "name": "python",
   "nbconvert_exporter": "python",
   "pygments_lexer": "ipython3",
   "version": "3.9.7"
  }
 },
 "nbformat": 4,
 "nbformat_minor": 5
}

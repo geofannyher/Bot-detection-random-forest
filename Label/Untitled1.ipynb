{
 "cells": [
  {
   "cell_type": "code",
   "execution_count": 2,
   "id": "9a41cb71-863d-40fa-bfa4-6e6a9857458b",
   "metadata": {
    "tags": []
   },
   "outputs": [],
   "source": [
    "import tweepy\n",
    "from tweepy import Cursor\n",
    "import unicodecsv\n",
    "import numpy\n",
    "from unidecode import unidecode\n",
    "\n",
    "# Authentication and connection to Twitter API.\n",
    "consumer_key ='podSkzNc46AnP0bAtxOBGPgrJ'\n",
    "consumer_secret ='5PFNZrcVKeql4U7gS75KrXevIlv2MRxXM5DjKkNgmCgkJnLSbL'\n",
    "access_key ='1477647453381742593-FuJhZFbw8KqCq4BZlWrUo0u5hM6r6t'\n",
    "access_secret ='9hF1jwxTxT0D2EjgXrlbQ55SeK87kothFmhI2R911J5V9'\n"
   ]
  },
  {
   "cell_type": "code",
   "execution_count": 5,
   "id": "5f13c757-902f-4d0b-b471-b6a6d8f9226b",
   "metadata": {},
   "outputs": [
    {
     "ename": "Forbidden",
     "evalue": "403 Forbidden\n453 - You currently have Essential access which includes access to Twitter API v2 endpoints only. If you need access to this endpoint, you’ll need to apply for Elevated access via the Developer Portal. You can learn more here: https://developer.twitter.com/en/docs/twitter-api/getting-started/about-twitter-api#v2-access-leve",
     "output_type": "error",
     "traceback": [
      "\u001b[1;31m---------------------------------------------------------------------------\u001b[0m",
      "\u001b[1;31mForbidden\u001b[0m                                 Traceback (most recent call last)",
      "Input \u001b[1;32mIn [5]\u001b[0m, in \u001b[0;36m<module>\u001b[1;34m\u001b[0m\n\u001b[0;32m     50\u001b[0m             \u001b[38;5;66;03m# Show progress.\u001b[39;00m\n\u001b[0;32m     51\u001b[0m             \u001b[38;5;28mprint\u001b[39m(\u001b[38;5;124m\"\u001b[39m\u001b[38;5;124mWrote tweets by \u001b[39m\u001b[38;5;132;01m%s\u001b[39;00m\u001b[38;5;124m to CSV.\u001b[39m\u001b[38;5;124m\"\u001b[39m \u001b[38;5;241m%\u001b[39m dl_user)\n\u001b[1;32m---> 53\u001b[0m \u001b[43mdownload_user\u001b[49m\u001b[43m(\u001b[49m\u001b[38;5;124;43m'\u001b[39;49m\u001b[38;5;124;43mjokowi\u001b[39;49m\u001b[38;5;124;43m'\u001b[39;49m\u001b[43m)\u001b[49m\n",
      "Input \u001b[1;32mIn [5]\u001b[0m, in \u001b[0;36mdownload_user\u001b[1;34m(dl_user)\u001b[0m\n\u001b[0;32m      8\u001b[0m \u001b[38;5;66;03m# Write header row.\u001b[39;00m\n\u001b[0;32m     10\u001b[0m     writer\u001b[38;5;241m.\u001b[39mwriterow([\u001b[38;5;124m\"\u001b[39m\u001b[38;5;124mid\u001b[39m\u001b[38;5;124m\"\u001b[39m,\n\u001b[0;32m     11\u001b[0m                 \u001b[38;5;124m\"\u001b[39m\u001b[38;5;124mid_str\u001b[39m\u001b[38;5;124m\"\u001b[39m,\n\u001b[0;32m     12\u001b[0m                 \u001b[38;5;124m\"\u001b[39m\u001b[38;5;124mName\u001b[39m\u001b[38;5;124m\"\u001b[39m,\n\u001b[1;32m   (...)\u001b[0m\n\u001b[0;32m     26\u001b[0m                 \u001b[38;5;124m\"\u001b[39m\u001b[38;5;124mGeo_enabled\u001b[39m\u001b[38;5;124m\"\u001b[39m\n\u001b[0;32m     27\u001b[0m             ])\n\u001b[1;32m---> 29\u001b[0m     user_obj \u001b[38;5;241m=\u001b[39m \u001b[43mapi\u001b[49m\u001b[38;5;241;43m.\u001b[39;49m\u001b[43mget_user\u001b[49m\u001b[43m(\u001b[49m\u001b[43mscreen_name\u001b[49m\u001b[38;5;241;43m=\u001b[39;49m\u001b[38;5;124;43m'\u001b[39;49m\u001b[38;5;124;43mjokowi\u001b[39;49m\u001b[38;5;124;43m'\u001b[39;49m\u001b[43m)\u001b[49m\n\u001b[0;32m     30\u001b[0m                 \u001b[38;5;66;03m# Gather info specific to the current user.\u001b[39;00m\n\u001b[0;32m     31\u001b[0m     user_info \u001b[38;5;241m=\u001b[39m [user_obj\u001b[38;5;241m.\u001b[39mname,\n\u001b[0;32m     32\u001b[0m                     user_obj\u001b[38;5;241m.\u001b[39mscreen_name,\n\u001b[0;32m     33\u001b[0m                     user_obj\u001b[38;5;241m.\u001b[39mfollowers_count,\n\u001b[1;32m   (...)\u001b[0m\n\u001b[0;32m     44\u001b[0m                     user_obj\u001b[38;5;241m.\u001b[39murl,\n\u001b[0;32m     45\u001b[0m                     user_obj\u001b[38;5;241m.\u001b[39mgeo_enabled]\n",
      "File \u001b[1;32m~\\AppData\\Local\\Programs\\Python\\Python39\\lib\\site-packages\\tweepy\\api.py:46\u001b[0m, in \u001b[0;36mpayload.<locals>.decorator.<locals>.wrapper\u001b[1;34m(*args, **kwargs)\u001b[0m\n\u001b[0;32m     44\u001b[0m kwargs[\u001b[38;5;124m'\u001b[39m\u001b[38;5;124mpayload_list\u001b[39m\u001b[38;5;124m'\u001b[39m] \u001b[38;5;241m=\u001b[39m payload_list\n\u001b[0;32m     45\u001b[0m kwargs[\u001b[38;5;124m'\u001b[39m\u001b[38;5;124mpayload_type\u001b[39m\u001b[38;5;124m'\u001b[39m] \u001b[38;5;241m=\u001b[39m payload_type\n\u001b[1;32m---> 46\u001b[0m \u001b[38;5;28;01mreturn\u001b[39;00m method(\u001b[38;5;241m*\u001b[39margs, \u001b[38;5;241m*\u001b[39m\u001b[38;5;241m*\u001b[39mkwargs)\n",
      "File \u001b[1;32m~\\AppData\\Local\\Programs\\Python\\Python39\\lib\\site-packages\\tweepy\\api.py:2502\u001b[0m, in \u001b[0;36mAPI.get_user\u001b[1;34m(self, **kwargs)\u001b[0m\n\u001b[0;32m   2479\u001b[0m \u001b[38;5;129m@payload\u001b[39m(\u001b[38;5;124m'\u001b[39m\u001b[38;5;124muser\u001b[39m\u001b[38;5;124m'\u001b[39m)\n\u001b[0;32m   2480\u001b[0m \u001b[38;5;28;01mdef\u001b[39;00m \u001b[38;5;21mget_user\u001b[39m(\u001b[38;5;28mself\u001b[39m, \u001b[38;5;241m*\u001b[39m\u001b[38;5;241m*\u001b[39mkwargs):\n\u001b[0;32m   2481\u001b[0m \u001b[38;5;250m    \u001b[39m\u001b[38;5;124;03m\"\"\"get_user(*, user_id, screen_name, include_entities)\u001b[39;00m\n\u001b[0;32m   2482\u001b[0m \n\u001b[0;32m   2483\u001b[0m \u001b[38;5;124;03m    Returns information about the specified user.\u001b[39;00m\n\u001b[1;32m   (...)\u001b[0m\n\u001b[0;32m   2500\u001b[0m \u001b[38;5;124;03m    https://developer.twitter.com/en/docs/twitter-api/v1/accounts-and-users/follow-search-get-users/api-reference/get-users-show\u001b[39;00m\n\u001b[0;32m   2501\u001b[0m \u001b[38;5;124;03m    \"\"\"\u001b[39;00m\n\u001b[1;32m-> 2502\u001b[0m     \u001b[38;5;28;01mreturn\u001b[39;00m \u001b[38;5;28mself\u001b[39m\u001b[38;5;241m.\u001b[39mrequest(\n\u001b[0;32m   2503\u001b[0m         \u001b[38;5;124m'\u001b[39m\u001b[38;5;124mGET\u001b[39m\u001b[38;5;124m'\u001b[39m, \u001b[38;5;124m'\u001b[39m\u001b[38;5;124musers/show\u001b[39m\u001b[38;5;124m'\u001b[39m, endpoint_parameters\u001b[38;5;241m=\u001b[39m(\n\u001b[0;32m   2504\u001b[0m             \u001b[38;5;124m'\u001b[39m\u001b[38;5;124muser_id\u001b[39m\u001b[38;5;124m'\u001b[39m, \u001b[38;5;124m'\u001b[39m\u001b[38;5;124mscreen_name\u001b[39m\u001b[38;5;124m'\u001b[39m, \u001b[38;5;124m'\u001b[39m\u001b[38;5;124minclude_entities\u001b[39m\u001b[38;5;124m'\u001b[39m\n\u001b[0;32m   2505\u001b[0m         ), \u001b[38;5;241m*\u001b[39m\u001b[38;5;241m*\u001b[39mkwargs\n\u001b[0;32m   2506\u001b[0m     )\n",
      "File \u001b[1;32m~\\AppData\\Local\\Programs\\Python\\Python39\\lib\\site-packages\\tweepy\\api.py:259\u001b[0m, in \u001b[0;36mAPI.request\u001b[1;34m(self, method, endpoint, endpoint_parameters, params, headers, json_payload, parser, payload_list, payload_type, post_data, files, require_auth, return_cursors, upload_api, use_cache, **kwargs)\u001b[0m\n\u001b[0;32m    257\u001b[0m     \u001b[38;5;28;01mraise\u001b[39;00m Unauthorized(resp)\n\u001b[0;32m    258\u001b[0m \u001b[38;5;28;01mif\u001b[39;00m resp\u001b[38;5;241m.\u001b[39mstatus_code \u001b[38;5;241m==\u001b[39m \u001b[38;5;241m403\u001b[39m:\n\u001b[1;32m--> 259\u001b[0m     \u001b[38;5;28;01mraise\u001b[39;00m Forbidden(resp)\n\u001b[0;32m    260\u001b[0m \u001b[38;5;28;01mif\u001b[39;00m resp\u001b[38;5;241m.\u001b[39mstatus_code \u001b[38;5;241m==\u001b[39m \u001b[38;5;241m404\u001b[39m:\n\u001b[0;32m    261\u001b[0m     \u001b[38;5;28;01mraise\u001b[39;00m NotFound(resp)\n",
      "\u001b[1;31mForbidden\u001b[0m: 403 Forbidden\n453 - You currently have Essential access which includes access to Twitter API v2 endpoints only. If you need access to this endpoint, you’ll need to apply for Elevated access via the Developer Portal. You can learn more here: https://developer.twitter.com/en/docs/twitter-api/getting-started/about-twitter-api#v2-access-leve"
     ]
    }
   ],
   "source": [
    "auth = tweepy.OAuthHandler(consumer_key, consumer_secret)\n",
    "auth.set_access_token(access_key, access_secret)\n",
    "api = tweepy.API(auth, wait_on_rate_limit=True)\n",
    "\n",
    "def download_user(dl_user):\n",
    "        with open('coba.csv', 'wb') as file:\n",
    "            writer = unicodecsv.writer(file, delimiter = ',', quotechar = '\"')\n",
    "        # Write header row.\n",
    "        \n",
    "            writer.writerow([\"id\",\n",
    "                        \"id_str\",\n",
    "                        \"Name\",\n",
    "                        \"Username\",\n",
    "                        \"Followers_count\",\n",
    "                        \"Listed_count\",\n",
    "                        \"Friends_count\",\n",
    "                        \"Favorites_count\",\n",
    "                        \"Created_at\",\n",
    "                        \"Verified\",\n",
    "                        \"Default_profile\",\n",
    "                        \"Default_profile_image\",\n",
    "                        \"Location\",\n",
    "                        \"Statuses_count\",\n",
    "                        \"Description\",\n",
    "                        \"URL\",\n",
    "                        \"Geo_enabled\"\n",
    "                    ])\n",
    "            \n",
    "            user_obj = api.get_user(screen_name='jokowi')\n",
    "                        # Gather info specific to the current user.\n",
    "            user_info = [user_obj.name,\n",
    "                            user_obj.screen_name,\n",
    "                            user_obj.followers_count,\n",
    "                            user_obj.listed_count,\n",
    "                            user_obj.friends_count,\n",
    "                            user_obj.favourites_count,\n",
    "                            user_obj.created_at,\n",
    "                            user_obj.verified,\n",
    "                            user_obj.default_profile,\n",
    "                            user_obj.default_profile_image,\n",
    "                            user_obj.location,\n",
    "                            user_obj.statuses_count,\n",
    "                            user_obj.description,\n",
    "                            user_obj.url,\n",
    "                            user_obj.geo_enabled]\n",
    "\n",
    "            \n",
    "            writer.writerow(user_info)\n",
    "\n",
    "            # Show progress.\n",
    "            print(\"Wrote tweets by %s to CSV.\" % dl_user)\n",
    "\n",
    "download_user('jokowi')"
   ]
  },
  {
   "cell_type": "code",
   "execution_count": null,
   "id": "60533a0d-8df8-4a2b-82b4-290b7b076820",
   "metadata": {},
   "outputs": [],
   "source": []
  }
 ],
 "metadata": {
  "kernelspec": {
   "display_name": "Python 3 (ipykernel)",
   "language": "python",
   "name": "python3"
  },
  "language_info": {
   "codemirror_mode": {
    "name": "ipython",
    "version": 3
   },
   "file_extension": ".py",
   "mimetype": "text/x-python",
   "name": "python",
   "nbconvert_exporter": "python",
   "pygments_lexer": "ipython3",
   "version": "3.9.7"
  }
 },
 "nbformat": 4,
 "nbformat_minor": 5
}

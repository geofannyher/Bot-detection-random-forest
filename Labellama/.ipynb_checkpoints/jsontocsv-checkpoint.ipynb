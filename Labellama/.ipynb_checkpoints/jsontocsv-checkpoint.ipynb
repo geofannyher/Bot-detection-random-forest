{
 "cells": [
  {
   "cell_type": "code",
   "execution_count": 62,
   "id": "c02063bc-68f6-4cca-b8d3-a277a010f21d",
   "metadata": {
    "tags": []
   },
   "outputs": [],
   "source": [
    "import pandas as pd\n",
    "import json"
   ]
  },
  {
   "cell_type": "code",
   "execution_count": 63,
   "id": "d969a89d-9d2a-422c-985d-a79a0db34ebf",
   "metadata": {
    "tags": []
   },
   "outputs": [
    {
     "ename": "FileNotFoundError",
     "evalue": "[Errno 2] No such file or directory: 'human_.json'",
     "output_type": "error",
     "traceback": [
      "\u001b[1;31m---------------------------------------------------------------------------\u001b[0m",
      "\u001b[1;31mFileNotFoundError\u001b[0m                         Traceback (most recent call last)",
      "Input \u001b[1;32mIn [64]\u001b[0m, in \u001b[0;36m<module>\u001b[1;34m\u001b[0m\n\u001b[0;32m      1\u001b[0m \u001b[38;5;66;03m# dat = pd.read_csv('human_.csv',on_bad_lines='skip' )\u001b[39;00m\n\u001b[0;32m      2\u001b[0m \u001b[38;5;66;03m# dat = pd.read_json('human.json')\u001b[39;00m\n\u001b[1;32m----> 3\u001b[0m \u001b[38;5;28;01mwith\u001b[39;00m \u001b[38;5;28;43mopen\u001b[39;49m\u001b[43m(\u001b[49m\u001b[38;5;124;43m'\u001b[39;49m\u001b[38;5;124;43mhuman_.json\u001b[39;49m\u001b[38;5;124;43m'\u001b[39;49m\u001b[43m)\u001b[49m \u001b[38;5;28;01mas\u001b[39;00m f:\n\u001b[0;32m      4\u001b[0m     data \u001b[38;5;241m=\u001b[39m json\u001b[38;5;241m.\u001b[39mload(f)\n\u001b[0;32m      6\u001b[0m \u001b[38;5;66;03m# mengubah data dalam array JSON menjadi dataframe\u001b[39;00m\n",
      "\u001b[1;31mFileNotFoundError\u001b[0m: [Errno 2] No such file or directory: 'human_.json'"
     ]
    }
   ],
   "source": [
    "# dat = pd.read_csv('human_.csv',on_bad_lines='skip' )\n",
    "# dat = pd.read_json('human.json')\n",
    "with open('human.json') as f:\n",
    "    data = json.load(f)\n",
    "\n",
    "# mengubah data dalam array JSON menjadi dataframe\n",
    "df = pd.json_normalize(data, 'annotations')\n",
    "dat.head(1)"
   ]
  },
  {
   "cell_type": "code",
   "execution_count": 3,
   "id": "864e43e5-377e-4444-a1f1-9edb586cd3b9",
   "metadata": {
    "tags": []
   },
   "outputs": [],
   "source": [
    "# pd.Dataframe(dat)[['anotations', 'file_upload', 'data']].to_csv('file.csv',index=False)\n",
    "# dat.to_csv('akhir.csv')"
   ]
  },
  {
   "cell_type": "code",
   "execution_count": 60,
   "id": "9812819e-e3ca-4963-a33a-11f233c18a25",
   "metadata": {},
   "outputs": [
    {
     "ename": "NameError",
     "evalue": "name 'annotations' is not defined",
     "output_type": "error",
     "traceback": [
      "\u001b[1;31m---------------------------------------------------------------------------\u001b[0m",
      "\u001b[1;31mNameError\u001b[0m                                 Traceback (most recent call last)",
      "Input \u001b[1;32mIn [60]\u001b[0m, in \u001b[0;36m<module>\u001b[1;34m\u001b[0m\n\u001b[1;32m----> 1\u001b[0m dat\u001b[38;5;241m.\u001b[39mto_csv(\u001b[38;5;124m'\u001b[39m\u001b[38;5;124mtesti.csv\u001b[39m\u001b[38;5;124m'\u001b[39m,columns\u001b[38;5;241m=\u001b[39m[([\u001b[43mannotations\u001b[49m])])\n\u001b[0;32m      2\u001b[0m \u001b[38;5;28mprint\u001b[39m(\u001b[38;5;124m'\u001b[39m\u001b[38;5;124mend\u001b[39m\u001b[38;5;124m'\u001b[39m)\n",
      "\u001b[1;31mNameError\u001b[0m: name 'annotations' is not defined"
     ]
    }
   ],
   "source": [
    "dat.to_csv('testi.csv',columns=[([annotations])])\n",
    "print('end')"
   ]
  },
  {
   "cell_type": "code",
   "execution_count": null,
   "id": "939e80c4-e7de-4ee7-8976-9a38c91ef0b0",
   "metadata": {},
   "outputs": [],
   "source": []
  }
 ],
 "metadata": {
  "kernelspec": {
   "display_name": "Python 3 (ipykernel)",
   "language": "python",
   "name": "python3"
  },
  "language_info": {
   "codemirror_mode": {
    "name": "ipython",
    "version": 3
   },
   "file_extension": ".py",
   "mimetype": "text/x-python",
   "name": "python",
   "nbconvert_exporter": "python",
   "pygments_lexer": "ipython3",
   "version": "3.9.7"
  }
 },
 "nbformat": 4,
 "nbformat_minor": 5
}

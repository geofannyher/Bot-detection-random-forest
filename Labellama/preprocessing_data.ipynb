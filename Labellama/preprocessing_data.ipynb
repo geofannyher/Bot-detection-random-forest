{
 "cells": [
  {
   "cell_type": "code",
   "execution_count": 23,
   "id": "dd3c8bea-68f0-4a86-a3ee-71c05d6b9135",
   "metadata": {
    "tags": []
   },
   "outputs": [],
   "source": [
    "import pandas as pd\n",
    "import numpy as np\n",
    "import string\n",
    "import nltk\n",
    "import re\n",
    "from nltk.stem import PorterStemmer"
   ]
  },
  {
   "cell_type": "code",
   "execution_count": 24,
   "id": "11fe82cf-e653-4a2c-9c45-8fe1cf32e15f",
   "metadata": {
    "tags": []
   },
   "outputs": [
    {
     "data": {
      "text/html": [
       "<div>\n",
       "<style scoped>\n",
       "    .dataframe tbody tr th:only-of-type {\n",
       "        vertical-align: middle;\n",
       "    }\n",
       "\n",
       "    .dataframe tbody tr th {\n",
       "        vertical-align: top;\n",
       "    }\n",
       "\n",
       "    .dataframe thead th {\n",
       "        text-align: right;\n",
       "    }\n",
       "</style>\n",
       "<table border=\"1\" class=\"dataframe\">\n",
       "  <thead>\n",
       "    <tr style=\"text-align: right;\">\n",
       "      <th></th>\n",
       "      <th>Unnamed: 0</th>\n",
       "      <th>id</th>\n",
       "      <th>username</th>\n",
       "      <th>text</th>\n",
       "      <th>retweet_count</th>\n",
       "      <th>like_count</th>\n",
       "      <th>created_at</th>\n",
       "      <th>label</th>\n",
       "    </tr>\n",
       "  </thead>\n",
       "  <tbody>\n",
       "    <tr>\n",
       "      <th>0</th>\n",
       "      <td>0</td>\n",
       "      <td>1622612766266900481</td>\n",
       "      <td>ntsana_</td>\n",
       "      <td>RT @knockknock0408: groovechaja ins\\n@weareone...</td>\n",
       "      <td>4534</td>\n",
       "      <td>0</td>\n",
       "      <td>2023-02-06 15:06:44+00:00</td>\n",
       "      <td>bot</td>\n",
       "    </tr>\n",
       "  </tbody>\n",
       "</table>\n",
       "</div>"
      ],
      "text/plain": [
       "   Unnamed: 0                   id username  \\\n",
       "0           0  1622612766266900481  ntsana_   \n",
       "\n",
       "                                                text  retweet_count  \\\n",
       "0  RT @knockknock0408: groovechaja ins\\n@weareone...           4534   \n",
       "\n",
       "   like_count                 created_at label  \n",
       "0           0  2023-02-06 15:06:44+00:00   bot  "
      ]
     },
     "execution_count": 24,
     "metadata": {},
     "output_type": "execute_result"
    }
   ],
   "source": [
    "tweet_coba = pd.read_csv('ntsana_.csv')\n",
    "tweet_coba.head(1)"
   ]
  },
  {
   "cell_type": "code",
   "execution_count": 25,
   "id": "6fb3dafe-f06b-4792-b215-eafb9a05b115",
   "metadata": {
    "tags": []
   },
   "outputs": [],
   "source": [
    "tweet = tweet_coba['text']"
   ]
  },
  {
   "cell_type": "code",
   "execution_count": 26,
   "id": "7c23c369-f9d7-412a-b745-4a3d00c832ee",
   "metadata": {
    "tags": []
   },
   "outputs": [],
   "source": [
    "##case folding & cleaning"
   ]
  },
  {
   "cell_type": "code",
   "execution_count": 27,
   "id": "c67d8247-d5e0-48e9-9a4c-216534b6286a",
   "metadata": {
    "tags": []
   },
   "outputs": [],
   "source": [
    "def clean_text(text):\n",
    "    #menghapus username\n",
    "    text=re.sub('@[^|\\s]+',' ',text)\n",
    "    #mengganti karakter html dengan tanda petik\n",
    "    text=re.sub('<.*?>','',text)\n",
    "    #mempertimbangkan huruf dan angka\n",
    "    text=re.sub('[^a-zA-Z]',' ',text)\n",
    "    #mengganti line baru dengan spasi\n",
    "    text=re.sub(\"\\n\",\"\",text)\n",
    "    #mengubah huruf ke kecil semua\n",
    "    text=text.lower()\n",
    "    #menghapus single char\n",
    "    text=re.sub(r\"\\b[a-zA-Z]\\b\",\" \",text)\n",
    "    #memisahkan dan menggabungkan kata\n",
    "    # text=' '.join(text.split())\n",
    "    return text"
   ]
  },
  {
   "cell_type": "code",
   "execution_count": 28,
   "id": "cf474e62-f447-4017-8d49-ea493c5cfb44",
   "metadata": {
    "tags": []
   },
   "outputs": [],
   "source": [
    "tweet_coba['clean'] = [clean_text(i) for i in tweet]\n",
    "tweet = tweet_coba['clean']"
   ]
  },
  {
   "cell_type": "code",
   "execution_count": 29,
   "id": "e2f62e22-81d8-4e07-bcbc-acbbe764d516",
   "metadata": {
    "tags": []
   },
   "outputs": [
    {
     "data": {
      "text/html": [
       "<div>\n",
       "<style scoped>\n",
       "    .dataframe tbody tr th:only-of-type {\n",
       "        vertical-align: middle;\n",
       "    }\n",
       "\n",
       "    .dataframe tbody tr th {\n",
       "        vertical-align: top;\n",
       "    }\n",
       "\n",
       "    .dataframe thead th {\n",
       "        text-align: right;\n",
       "    }\n",
       "</style>\n",
       "<table border=\"1\" class=\"dataframe\">\n",
       "  <thead>\n",
       "    <tr style=\"text-align: right;\">\n",
       "      <th></th>\n",
       "      <th>Unnamed: 0</th>\n",
       "      <th>id</th>\n",
       "      <th>username</th>\n",
       "      <th>text</th>\n",
       "      <th>retweet_count</th>\n",
       "      <th>like_count</th>\n",
       "      <th>created_at</th>\n",
       "      <th>label</th>\n",
       "      <th>clean</th>\n",
       "    </tr>\n",
       "  </thead>\n",
       "  <tbody>\n",
       "    <tr>\n",
       "      <th>0</th>\n",
       "      <td>0</td>\n",
       "      <td>1622612766266900481</td>\n",
       "      <td>ntsana_</td>\n",
       "      <td>RT @knockknock0408: groovechaja ins\\n@weareone...</td>\n",
       "      <td>4534</td>\n",
       "      <td>0</td>\n",
       "      <td>2023-02-06 15:06:44+00:00</td>\n",
       "      <td>bot</td>\n",
       "      <td>rt   groovechaja ins   https     co rexmdaipjl</td>\n",
       "    </tr>\n",
       "  </tbody>\n",
       "</table>\n",
       "</div>"
      ],
      "text/plain": [
       "   Unnamed: 0                   id username  \\\n",
       "0           0  1622612766266900481  ntsana_   \n",
       "\n",
       "                                                text  retweet_count  \\\n",
       "0  RT @knockknock0408: groovechaja ins\\n@weareone...           4534   \n",
       "\n",
       "   like_count                 created_at label  \\\n",
       "0           0  2023-02-06 15:06:44+00:00   bot   \n",
       "\n",
       "                                            clean  \n",
       "0  rt   groovechaja ins   https     co rexmdaipjl  "
      ]
     },
     "execution_count": 29,
     "metadata": {},
     "output_type": "execute_result"
    }
   ],
   "source": [
    "tweet_coba.head(1)"
   ]
  },
  {
   "cell_type": "code",
   "execution_count": 8,
   "id": "44991390-c043-4db0-a843-3dce0d4ec376",
   "metadata": {},
   "outputs": [],
   "source": [
    "# Tokenizing"
   ]
  },
  {
   "cell_type": "code",
   "execution_count": 9,
   "id": "b1903721-fce6-4a8d-8746-c170bb7e8db0",
   "metadata": {
    "tags": []
   },
   "outputs": [],
   "source": [
    "from nltk.tokenize import RegexpTokenizer\n",
    "regexp = RegexpTokenizer(r'\\w+|$[0-9]+|\\S+')\n",
    "tweet_coba['Token'] = tweet_coba['clean'].apply(regexp.tokenize)"
   ]
  },
  {
   "cell_type": "code",
   "execution_count": 10,
   "id": "cfc253e3-b4d4-4fa9-bfdb-9fda802af47d",
   "metadata": {
    "tags": []
   },
   "outputs": [
    {
     "data": {
      "text/html": [
       "<div>\n",
       "<style scoped>\n",
       "    .dataframe tbody tr th:only-of-type {\n",
       "        vertical-align: middle;\n",
       "    }\n",
       "\n",
       "    .dataframe tbody tr th {\n",
       "        vertical-align: top;\n",
       "    }\n",
       "\n",
       "    .dataframe thead th {\n",
       "        text-align: right;\n",
       "    }\n",
       "</style>\n",
       "<table border=\"1\" class=\"dataframe\">\n",
       "  <thead>\n",
       "    <tr style=\"text-align: right;\">\n",
       "      <th></th>\n",
       "      <th>Unnamed: 0</th>\n",
       "      <th>id</th>\n",
       "      <th>username</th>\n",
       "      <th>text</th>\n",
       "      <th>retweet_count</th>\n",
       "      <th>like_count</th>\n",
       "      <th>created_at</th>\n",
       "      <th>label</th>\n",
       "      <th>clean</th>\n",
       "      <th>Token</th>\n",
       "    </tr>\n",
       "  </thead>\n",
       "  <tbody>\n",
       "    <tr>\n",
       "      <th>0</th>\n",
       "      <td>0</td>\n",
       "      <td>1622612766266900481</td>\n",
       "      <td>ntsana_</td>\n",
       "      <td>RT @knockknock0408: groovechaja ins\\n@weareone...</td>\n",
       "      <td>4534</td>\n",
       "      <td>0</td>\n",
       "      <td>2023-02-06 15:06:44+00:00</td>\n",
       "      <td>bot</td>\n",
       "      <td>rt groovechaja ins https co rexmdaipjl</td>\n",
       "      <td>[rt, groovechaja, ins, https, co, rexmdaipjl]</td>\n",
       "    </tr>\n",
       "  </tbody>\n",
       "</table>\n",
       "</div>"
      ],
      "text/plain": [
       "   Unnamed: 0                   id username  \\\n",
       "0           0  1622612766266900481  ntsana_   \n",
       "\n",
       "                                                text  retweet_count  \\\n",
       "0  RT @knockknock0408: groovechaja ins\\n@weareone...           4534   \n",
       "\n",
       "   like_count                 created_at label  \\\n",
       "0           0  2023-02-06 15:06:44+00:00   bot   \n",
       "\n",
       "                                    clean  \\\n",
       "0  rt groovechaja ins https co rexmdaipjl   \n",
       "\n",
       "                                           Token  \n",
       "0  [rt, groovechaja, ins, https, co, rexmdaipjl]  "
      ]
     },
     "execution_count": 10,
     "metadata": {},
     "output_type": "execute_result"
    }
   ],
   "source": [
    "tweet_coba.head(1)"
   ]
  },
  {
   "cell_type": "code",
   "execution_count": 11,
   "id": "089fd703-301a-4473-9386-05b2124b2e96",
   "metadata": {},
   "outputs": [
    {
     "data": {
      "text/html": [
       "<div>\n",
       "<style scoped>\n",
       "    .dataframe tbody tr th:only-of-type {\n",
       "        vertical-align: middle;\n",
       "    }\n",
       "\n",
       "    .dataframe tbody tr th {\n",
       "        vertical-align: top;\n",
       "    }\n",
       "\n",
       "    .dataframe thead th {\n",
       "        text-align: right;\n",
       "    }\n",
       "</style>\n",
       "<table border=\"1\" class=\"dataframe\">\n",
       "  <thead>\n",
       "    <tr style=\"text-align: right;\">\n",
       "      <th></th>\n",
       "      <th>Unnamed: 0</th>\n",
       "      <th>id</th>\n",
       "      <th>username</th>\n",
       "      <th>text</th>\n",
       "      <th>retweet_count</th>\n",
       "      <th>like_count</th>\n",
       "      <th>created_at</th>\n",
       "      <th>label</th>\n",
       "      <th>clean</th>\n",
       "      <th>Token</th>\n",
       "      <th>Normalisasi</th>\n",
       "    </tr>\n",
       "  </thead>\n",
       "  <tbody>\n",
       "    <tr>\n",
       "      <th>0</th>\n",
       "      <td>0</td>\n",
       "      <td>1622612766266900481</td>\n",
       "      <td>ntsana_</td>\n",
       "      <td>RT @knockknock0408: groovechaja ins\\n@weareone...</td>\n",
       "      <td>4534</td>\n",
       "      <td>0</td>\n",
       "      <td>2023-02-06 15:06:44+00:00</td>\n",
       "      <td>bot</td>\n",
       "      <td>rt groovechaja ins https co rexmdaipjl</td>\n",
       "      <td>[rt, groovechaja, ins, https, co, rexmdaipjl]</td>\n",
       "      <td>[rt, groovechaja, ins, https, co, rexmdaipjl]</td>\n",
       "    </tr>\n",
       "  </tbody>\n",
       "</table>\n",
       "</div>"
      ],
      "text/plain": [
       "   Unnamed: 0                   id username  \\\n",
       "0           0  1622612766266900481  ntsana_   \n",
       "\n",
       "                                                text  retweet_count  \\\n",
       "0  RT @knockknock0408: groovechaja ins\\n@weareone...           4534   \n",
       "\n",
       "   like_count                 created_at label  \\\n",
       "0           0  2023-02-06 15:06:44+00:00   bot   \n",
       "\n",
       "                                    clean  \\\n",
       "0  rt groovechaja ins https co rexmdaipjl   \n",
       "\n",
       "                                           Token  \\\n",
       "0  [rt, groovechaja, ins, https, co, rexmdaipjl]   \n",
       "\n",
       "                                     Normalisasi  \n",
       "0  [rt, groovechaja, ins, https, co, rexmdaipjl]  "
      ]
     },
     "execution_count": 11,
     "metadata": {},
     "output_type": "execute_result"
    }
   ],
   "source": [
    "normalized_word = pd.read_csv(\"normalisasi.csv\", encoding='latin1')\n",
    "\n",
    "normalized_word_dict={}\n",
    "for index, row in normalized_word.iterrows():\n",
    "    if row[0] not in normalized_word_dict:\n",
    "        normalized_word_dict[row[0]] = row[1]\n",
    "                \n",
    "def normalized_term(document):\n",
    "    return [normalized_word_dict[term] if term in normalized_word_dict else term for term in document]\n",
    "tweet_coba['Normalisasi'] = tweet_coba['Token'].apply(normalized_term)\n",
    "tweet_coba.head(1)"
   ]
  },
  {
   "cell_type": "code",
   "execution_count": 12,
   "id": "f1892006-327d-4672-b747-8141403ded2e",
   "metadata": {
    "tags": []
   },
   "outputs": [],
   "source": [
    "# Remove Stopwords"
   ]
  },
  {
   "cell_type": "code",
   "execution_count": 13,
   "id": "9a9a3cfc-7b7f-438e-bf35-e644dd16e1b5",
   "metadata": {
    "tags": []
   },
   "outputs": [
    {
     "ename": "AttributeError",
     "evalue": "'list' object has no attribute 'apply'",
     "output_type": "error",
     "traceback": [
      "\u001b[1;31m---------------------------------------------------------------------------\u001b[0m",
      "\u001b[1;31mAttributeError\u001b[0m                            Traceback (most recent call last)",
      "Input \u001b[1;32mIn [13]\u001b[0m, in \u001b[0;36m<module>\u001b[1;34m\u001b[0m\n\u001b[0;32m      1\u001b[0m s \u001b[38;5;241m=\u001b[39m PorterStemmer()\n\u001b[1;32m----> 2\u001b[0m tweet_coba[\u001b[38;5;124m'\u001b[39m\u001b[38;5;124mstemmed\u001b[39m\u001b[38;5;124m'\u001b[39m] \u001b[38;5;241m=\u001b[39m \u001b[43m[\u001b[49m\u001b[38;5;124;43m'\u001b[39;49m\u001b[38;5;124;43mtokens\u001b[39;49m\u001b[38;5;124;43m'\u001b[39;49m\u001b[43m]\u001b[49m\u001b[38;5;241;43m.\u001b[39;49m\u001b[43mapply\u001b[49m(\u001b[38;5;28;01mlambda\u001b[39;00m x: [ps\u001b[38;5;241m.\u001b[39mstem(word) \u001b[38;5;28;01mfor\u001b[39;00m word \u001b[38;5;129;01min\u001b[39;00m x])\n\u001b[0;32m      3\u001b[0m df\u001b[38;5;241m.\u001b[39mhead(\u001b[38;5;241m10\u001b[39m)\n\u001b[0;32m      4\u001b[0m \u001b[38;5;66;03m# Memilih fitur yang paling relevan\u001b[39;00m\n",
      "\u001b[1;31mAttributeError\u001b[0m: 'list' object has no attribute 'apply'"
     ]
    }
   ],
   "source": [
    "s = PorterStemmer()\n",
    "tweet_coba['stemmed'] = ['tokens'].apply(lambda x: [ps.stem(word) for word in x])\n",
    "df.head(10)\n",
    "# Memilih fitur yang paling relevan\n",
    "vectorizer = CountVectorizer(max_features=1000, stop_words=stopwords.words('english'))\n",
    "X = vectorizer.fit_transform(df['text']).toarray()\n",
    "y = df['label']"
   ]
  },
  {
   "cell_type": "code",
   "execution_count": null,
   "id": "be2417bd-a7a8-4be6-a989-af4a3d13a81b",
   "metadata": {
    "tags": []
   },
   "outputs": [],
   "source": [
    "from nltk.corpus import stopwords\n",
    "import nltk"
   ]
  },
  {
   "cell_type": "code",
   "execution_count": null,
   "id": "516fe0a8-e14b-4476-86f0-737c6602ac93",
   "metadata": {
    "tags": []
   },
   "outputs": [],
   "source": [
    "# nltk.download(\"stopwords\")"
   ]
  },
  {
   "cell_type": "code",
   "execution_count": null,
   "id": "46afbc72-ba64-4883-9253-5c39e7c6f516",
   "metadata": {
    "tags": []
   },
   "outputs": [],
   "source": [
    "stopword = stopwords.words('indonesian')\n",
    "txt_stopword = pd.read_csv(\"stopword.txt\", names=[\"stopwords\"], header = None)"
   ]
  },
  {
   "cell_type": "code",
   "execution_count": null,
   "id": "c0a47531-d60d-4ffb-a1ef-938313d6160e",
   "metadata": {
    "tags": []
   },
   "outputs": [],
   "source": [
    "##masukkan kata tambahan di luar file\n",
    "stopword.extend([\"yaha\"])"
   ]
  },
  {
   "cell_type": "code",
   "execution_count": null,
   "id": "662ed57a-9b51-4987-bff5-17f37f29439f",
   "metadata": {
    "tags": []
   },
   "outputs": [],
   "source": [
    "stopword.extend(txt_stopword[\"stopwords\"][0].split(' '))\n",
    "stopword = set(stopword)"
   ]
  },
  {
   "cell_type": "code",
   "execution_count": null,
   "id": "8cc9780d-9e53-4d37-9991-aa89c74fc45d",
   "metadata": {},
   "outputs": [],
   "source": [
    "def stopwords(text):\n",
    "    text = [word for word in text if word not in stopword]\n",
    "    return text\n",
    "tweet_coba['Stopwords'] = tweet_coba['Normalisasi'].apply(stopwords)\n",
    "# tweet_coba.head(5)\n",
    "tweet_coba"
   ]
  },
  {
   "cell_type": "code",
   "execution_count": null,
   "id": "9ad0bdb1-09ff-449f-82ee-422acb15ece7",
   "metadata": {},
   "outputs": [],
   "source": [
    "tweet = pd.DataFrame(tweet_coba)\n",
    "tweet.to_csv ('ntsana_preprocessing.csv', index = False, header = True)"
   ]
  },
  {
   "cell_type": "code",
   "execution_count": null,
   "id": "6a3096f7-9433-4166-888b-f11a82bb5577",
   "metadata": {},
   "outputs": [],
   "source": []
  }
 ],
 "metadata": {
  "kernelspec": {
   "display_name": "Python 3 (ipykernel)",
   "language": "python",
   "name": "python3"
  },
  "language_info": {
   "codemirror_mode": {
    "name": "ipython",
    "version": 3
   },
   "file_extension": ".py",
   "mimetype": "text/x-python",
   "name": "python",
   "nbconvert_exporter": "python",
   "pygments_lexer": "ipython3",
   "version": "3.9.7"
  }
 },
 "nbformat": 4,
 "nbformat_minor": 5
}

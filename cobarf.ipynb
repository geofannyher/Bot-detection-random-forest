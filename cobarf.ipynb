{
 "cells": [
  {
   "cell_type": "code",
   "execution_count": null,
   "id": "9bcacb70-bf42-4839-b872-a6a95c53859a",
   "metadata": {},
   "outputs": [],
   "source": [
    "# cara 2\n",
    "import pandas as pd\n",
    "import re\n",
    "import nltk\n",
    "from nltk.tokenize import RegexpTokenizer\n",
    "from nltk.corpus import stopwords\n",
    "from nltk.stem import PorterStemmer\n",
    "from sklearn.feature_extraction.text import CountVectorizer\n",
    "from sklearn.model_selection import train_test_split\n",
    "from sklearn.ensemble import RandomForestClassifier\n",
    "\n",
    "# Load dataset\n",
    "df = pd.read_csv('sbyfess_labeled.csv')\n",
    "\n",
    "# Cleaning dan case folding manual\n",
    "df['text'] = df['text'].str.replace('[^\\w\\s]','') # hapus tanda baca\n",
    "df['text'] = df['text'].str.lower() # ubah ke huruf kecil\n",
    "\n",
    "# Tokenisasi menggunakan regex\n",
    "tokenizer = RegexpTokenizer(r'\\w+')\n",
    "df['tokens'] = df['text'].apply(tokenizer.tokenize)\n",
    "\n",
    "# Stemming\n",
    "ps = PorterStemmer()\n",
    "df['stemmed'] = df['tokens'].apply(lambda x: [ps.stem(word) for word in x])\n",
    "df.head(10)\n",
    "# Memilih fitur yang paling relevan\n",
    "vectorizer = CountVectorizer(max_features=1000, stop_words=stopwords.words('english'))\n",
    "X = vectorizer.fit_transform(df['text']).toarray()\n",
    "y = df['label']\n",
    "\n",
    "# Membagi data menjadi data training dan data testing\n",
    "X_train, X_test, y_train, y_test = train_test_split(X, y, test_size=0.2, random_state=0)\n",
    "\n",
    "# Membuat model Random Forest Classifier\n",
    "classifier = RandomForestClassifier(n_estimators=100, random_state=0)\n",
    "classifier.fit(X_train, y_train)\n",
    "print(\"Jumlah data training:\", len(X_train))\n",
    "print(\"Jumlah test:\", len(y_train))\n",
    "\n",
    "# Menguji akurasi model pada data testing\n",
    "y_pred = classifier.predict(X_test)\n",
    "accuracy = (y_pred == y_test).mean()\n",
    "print('Akurasi:', accuracy)\n"
   ]
  }
 ],
 "metadata": {
  "kernelspec": {
   "display_name": "Python 3 (ipykernel)",
   "language": "python",
   "name": "python3"
  },
  "language_info": {
   "codemirror_mode": {
    "name": "ipython",
    "version": 3
   },
   "file_extension": ".py",
   "mimetype": "text/x-python",
   "name": "python",
   "nbconvert_exporter": "python",
   "pygments_lexer": "ipython3",
   "version": "3.9.7"
  }
 },
 "nbformat": 4,
 "nbformat_minor": 5
}

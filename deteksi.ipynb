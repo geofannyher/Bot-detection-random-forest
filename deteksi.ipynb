{
 "cells": [
  {
   "cell_type": "code",
   "execution_count": 23,
   "metadata": {},
   "outputs": [],
   "source": [
    "# Memuat data yang ingin diuji\n",
    "import pandas as pd\n",
    "data = pd.read_csv(\"hasilpreprocessing_testing.csv\")"
   ]
  },
  {
   "cell_type": "code",
   "execution_count": 24,
   "metadata": {},
   "outputs": [
    {
     "name": "stdout",
     "output_type": "stream",
     "text": [
      "Jumlah bot dan manusia dalam data:\n",
      "human    206\n",
      "bot       94\n",
      "Name: account_type, dtype: int64\n",
      "Jumlah bot dan manusia dalam hasil prediksi menggunakan model :\n",
      "human    211\n",
      "bot       89\n",
      "dtype: int64\n"
     ]
    }
   ],
   "source": [
    "\n",
    "# Memuat model Random Forest Classifier\n",
    "import joblib\n",
    "model = joblib.load(\"model.pkl\")\n",
    "\n",
    "# Memprediksi label menggunakan model\n",
    "prediksi = model.predict(data.drop(\"account_type\", axis=1))\n",
    "\n",
    "# Menghitung jumlah bot dan manusia dalam data\n",
    "jumlah_label_data = data[\"account_type\"].value_counts()\n",
    "print(\"Jumlah bot dan manusia dalam data:\")\n",
    "print(jumlah_label_data)\n",
    "\n",
    "# Menghitung jumlah bot dan manusia dalam hasil prediksi\n",
    "jumlah_prediksi = pd.Series(prediksi).value_counts()\n",
    "print(\"Jumlah bot dan manusia dalam hasil prediksi menggunakan model :\")\n",
    "print(jumlah_prediksi)\n"
   ]
  }
 ],
 "metadata": {
  "kernelspec": {
   "display_name": "Python 3",
   "language": "python",
   "name": "python3"
  },
  "language_info": {
   "codemirror_mode": {
    "name": "ipython",
    "version": 3
   },
   "file_extension": ".py",
   "mimetype": "text/x-python",
   "name": "python",
   "nbconvert_exporter": "python",
   "pygments_lexer": "ipython3",
   "version": "3.9.7"
  },
  "orig_nbformat": 4
 },
 "nbformat": 4,
 "nbformat_minor": 2
}

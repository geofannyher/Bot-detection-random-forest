{
 "cells": [
  {
   "cell_type": "code",
   "execution_count": null,
   "id": "efa282d6-02ad-45fd-97bb-6897a78ae70e",
   "metadata": {},
   "outputs": [],
   "source": [
    "# Install Library\n",
    "# !pip install tweepy\n",
    "# !pip install pandas"
   ]
  },
  {
   "cell_type": "code",
   "execution_count": null,
   "id": "c28da2c6-16e3-4f12-9845-98ec1a85893d",
   "metadata": {},
   "outputs": [],
   "source": [
    "# Import Library\n",
    "import tweepy as tw\n",
    "import csv\n",
    "import pandas as pd\n",
    "from datetime import timedelta, datetime"
   ]
  },
  {
   "cell_type": "markdown",
   "id": "12a8e23d-26b7-4c41-8d0e-2f3429eab412",
   "metadata": {},
   "source": [
    "# Inisialisasi Akses Twitter API"
   ]
  },
  {
   "cell_type": "code",
   "execution_count": null,
   "id": "ecc41e74-c2dc-4dcc-bf36-e9289c2083b6",
   "metadata": {},
   "outputs": [],
   "source": [
    "access_token = '1215248323579236353-c1VL0Ti9bntvKPHNdX4vWjKvzxmrvB'\n",
    "access_token_secret = 'NachpxfacgvB1uQ5zfKli8seAvYkDHi0ULjqqXYEGSUb2'\n",
    "consumer_key = '1jyHN0gmb7kOrPs7raCZuYwNZ'\n",
    "consumer_key_secret = 'nrFnPcbVUAS7N1tHQowC08DdtHakyLr3vR1cEEhMRsbbwG02R7'"
   ]
  },
  {
   "cell_type": "markdown",
   "id": "de63297a-c9fc-4855-aee6-fd7adfe59b10",
   "metadata": {},
   "source": [
    "# Autentikasi Ke Twitter API"
   ]
  },
  {
   "cell_type": "code",
   "execution_count": null,
   "id": "7468967e-d0e6-4d6b-b5f9-b797c218b55c",
   "metadata": {},
   "outputs": [],
   "source": [
    "auth = tw.OAuthHandler(consumer_key,consumer_key_secret)\n",
    "auth.set_access_token(access_token,access_token_secret)\n",
    "api = tw.API(auth, wait_on_rate_limit=True)"
   ]
  },
  {
   "cell_type": "markdown",
   "id": "6b9fc1a6-029b-4505-a802-a19b84e74507",
   "metadata": {},
   "source": [
    "# Inisialiasisi Fungsi Scrape Tweet"
   ]
  },
  {
   "cell_type": "code",
   "execution_count": null,
   "id": "ce18359f-e447-4cf8-a80b-bd6615ad6d7b",
   "metadata": {},
   "outputs": [],
   "source": [
    "def scrape_tweets_by_keyword(keyword,total=2000):\n",
    "    tweets_list = []\n",
    "    tweets = api.search_tweets(q=keyword,lang=\"id\",count=total,tweet_mode=\"extended\")\n",
    "    \n",
    "    for tweet in tweets:\n",
    "        _tweet = {\n",
    "            \"id\" : tweet.id_str,\n",
    "            \"username\" : tweet.user.screen_name,\n",
    "            \"text\" : tweet.full_text,\n",
    "            \"retweet_count\" : tweet.retweet_count,\n",
    "            \"like_count\" : tweet.favorite_count,\n",
    "            \"created_at\" : tweet.created_at,\n",
    "            \"in_reply_to_status_id_str\" : tweet.in_reply_to_status_id_str\n",
    "        }\n",
    "        tweets_list.append(_tweet)\n",
    "    df_tweets = pd.DataFrame(tweets_list)\n",
    "    return df_tweets\n",
    "\n",
    "def scrape_tweets_by_username(username,total):\n",
    "    tweets_list = []\n",
    "    tweets = api.user_timeline(screen_name=username,count=total)\n",
    "    \n",
    "    for tweet in tweets:\n",
    "        _tweet = {\n",
    "            \"id\" : tweet.id_str,\n",
    "            \"username\" : tweet.user.screen_name,\n",
    "            \"text\" : tweet.text,\n",
    "            \"retweet_count\" : tweet.retweet_count,\n",
    "            \"like_count\" : tweet.favorite_count,\n",
    "            \"created_at\" : tweet.created_at,\n",
    "        }\n",
    "        tweet_replies = scrape_tweets_by_keyword(\"to:\"+tweet.user.screen_name)\n",
    "        tweet_reply_in_id = []\n",
    "        for index, tweet_reply in tweet_replies.iterrows():\n",
    "            if tweet_reply['in_reply_to_status_id_str']==tweet.id_str:\n",
    "                tweet_reply_in_id.append(tweet_reply.to_dict())\n",
    "        _tweet['tweet_replies'] = tweet_reply_in_id\n",
    "        \n",
    "        tweets_list.append(_tweet)\n",
    "        \n",
    "        df_tweets = pd.DataFrame(tweets_list)\n",
    "    return df_tweets"
   ]
  },
  {
   "cell_type": "markdown",
   "id": "65f50df8-8196-4ec5-94df-4960cff7de69",
   "metadata": {},
   "source": [
    "# Scrape Berdasarkan Username"
   ]
  },
  {
   "cell_type": "code",
   "execution_count": null,
   "id": "9773f935-b06d-40a5-a3ab-e110e6a9a9a5",
   "metadata": {},
   "outputs": [
    {
     "name": "stdout",
     "output_type": "stream",
     "text": [
      "Proses Scrape Tweet By Username Selesai. Total  id               4\n",
      "username         4\n",
      "text             4\n",
      "retweet_count    4\n",
      "like_count       4\n",
      "created_at       4\n",
      "dtype: int64\n"
     ]
    }
   ],
   "source": [
    "df_tweets_by_username = scrape_tweets_by_username(\"@RizkyBillar\",1000)\n",
    "print(\"Proses Scrape Tweet By Username Selesai. Total \",df_tweets_by_username.count())"
   ]
  },
  {
   "cell_type": "markdown",
   "id": "6bdd3d63-d379-4219-80fc-11aa885f94ca",
   "metadata": {},
   "source": [
    "# Scrape Berdasarkan Keyword"
   ]
  },
  {
   "cell_type": "code",
   "execution_count": null,
   "id": "e152027a-c123-458f-82a2-f92ca9fb8e7f",
   "metadata": {},
   "outputs": [],
   "source": [
    "today = datetime.today().strftime(\"%Y-%m-%d\")\n",
    "last_week = (datetime.today() - timedelta(30)).strftime(\"%Y-%m-%d\") #30 hari terakhir\n",
    "date_since = last_week\n",
    "date_until = today\n",
    "df_tweets_by_keyword =  scrape_tweets_by_keyword(\"Rizky Billar\",1000)\n",
    "print(\"Proses Scrape Tweet By Keyword Selesai. Total \",df_tweets_by_keyword.count())"
   ]
  },
  {
   "cell_type": "markdown",
   "id": "1f1bef9d-7d0b-4502-ae26-181d35140e03",
   "metadata": {},
   "source": [
    "## Simpan Hasil Scraping"
   ]
  },
  {
   "cell_type": "code",
   "execution_count": null,
   "id": "f94e45fa-cd6e-403a-932e-f1102184c4eb",
   "metadata": {},
   "outputs": [],
   "source": [
    "filename = \"Hasil_Scrape_Tweet_By_Username.csv\"\n",
    "df_tweets_by_username.to_csv(filename)\n",
    "filename = \"Hasil_Scrape_Tweet_By_Keyword.csv\"\n",
    "df_tweets_by_keyword.to_csv(filename)"
   ]
  },
  {
   "cell_type": "code",
   "execution_count": null,
   "id": "1410a381-0aa3-4d72-bb0d-a8688bf88799",
   "metadata": {},
   "outputs": [],
   "source": []
  }
 ],
 "metadata": {
  "kernelspec": {
   "display_name": "Python 3 (ipykernel)",
   "language": "python",
   "name": "python3"
  },
  "language_info": {
   "codemirror_mode": {
    "name": "ipython",
    "version": 3
   },
   "file_extension": ".py",
   "mimetype": "text/x-python",
   "name": "python",
   "nbconvert_exporter": "python",
   "pygments_lexer": "ipython3",
   "version": "3.9.7"
  }
 },
 "nbformat": 4,
 "nbformat_minor": 5
}
